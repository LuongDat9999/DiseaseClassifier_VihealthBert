{
 "cells": [
  {
   "cell_type": "markdown",
   "metadata": {
    "id": "WdGkKrpTGVBz"
   },
   "source": [
    "# Config"
   ]
  },
  {
   "cell_type": "code",
   "execution_count": 1,
   "metadata": {
    "colab": {
     "base_uri": "https://localhost:8080/"
    },
    "executionInfo": {
     "elapsed": 10251,
     "status": "ok",
     "timestamp": 1755074212768,
     "user": {
      "displayName": "Lương Đạt",
      "userId": "11214560588962627512"
     },
     "user_tz": -420
    },
    "id": "Zf15G1RTBAV8",
    "outputId": "1e29a478-7a53-4a74-cb51-bb118c42f210"
   },
   "outputs": [
    {
     "name": "stdout",
     "output_type": "stream",
     "text": [
      "Collecting underthesea\n",
      "  Downloading underthesea-6.8.4-py3-none-any.whl.metadata (15 kB)\n",
      "Requirement already satisfied: Click>=6.0 in /usr/local/lib/python3.11/dist-packages (from underthesea) (8.2.1)\n",
      "Collecting python-crfsuite>=0.9.6 (from underthesea)\n",
      "  Downloading python_crfsuite-0.9.11-cp311-cp311-manylinux_2_17_x86_64.manylinux2014_x86_64.whl.metadata (4.3 kB)\n",
      "Requirement already satisfied: nltk in /usr/local/lib/python3.11/dist-packages (from underthesea) (3.9.1)\n",
      "Requirement already satisfied: tqdm in /usr/local/lib/python3.11/dist-packages (from underthesea) (4.67.1)\n",
      "Requirement already satisfied: requests in /usr/local/lib/python3.11/dist-packages (from underthesea) (2.32.3)\n",
      "Requirement already satisfied: joblib in /usr/local/lib/python3.11/dist-packages (from underthesea) (1.5.1)\n",
      "Requirement already satisfied: scikit-learn in /usr/local/lib/python3.11/dist-packages (from underthesea) (1.6.1)\n",
      "Requirement already satisfied: PyYAML in /usr/local/lib/python3.11/dist-packages (from underthesea) (6.0.2)\n",
      "Collecting underthesea-core==1.0.4 (from underthesea)\n",
      "  Downloading underthesea_core-1.0.4-cp311-cp311-manylinux2010_x86_64.whl.metadata (1.7 kB)\n",
      "Requirement already satisfied: regex>=2021.8.3 in /usr/local/lib/python3.11/dist-packages (from nltk->underthesea) (2024.11.6)\n",
      "Requirement already satisfied: charset-normalizer<4,>=2 in /usr/local/lib/python3.11/dist-packages (from requests->underthesea) (3.4.2)\n",
      "Requirement already satisfied: idna<4,>=2.5 in /usr/local/lib/python3.11/dist-packages (from requests->underthesea) (3.10)\n",
      "Requirement already satisfied: urllib3<3,>=1.21.1 in /usr/local/lib/python3.11/dist-packages (from requests->underthesea) (2.5.0)\n",
      "Requirement already satisfied: certifi>=2017.4.17 in /usr/local/lib/python3.11/dist-packages (from requests->underthesea) (2025.8.3)\n",
      "Requirement already satisfied: numpy>=1.19.5 in /usr/local/lib/python3.11/dist-packages (from scikit-learn->underthesea) (2.0.2)\n",
      "Requirement already satisfied: scipy>=1.6.0 in /usr/local/lib/python3.11/dist-packages (from scikit-learn->underthesea) (1.16.1)\n",
      "Requirement already satisfied: threadpoolctl>=3.1.0 in /usr/local/lib/python3.11/dist-packages (from scikit-learn->underthesea) (3.6.0)\n",
      "Downloading underthesea-6.8.4-py3-none-any.whl (20.9 MB)\n",
      "\u001b[2K   \u001b[90m━━━━━━━━━━━━━━━━━━━━━━━━━━━━━━━━━━━━━━━━\u001b[0m \u001b[32m20.9/20.9 MB\u001b[0m \u001b[31m90.3 MB/s\u001b[0m eta \u001b[36m0:00:00\u001b[0m\n",
      "\u001b[?25hDownloading underthesea_core-1.0.4-cp311-cp311-manylinux2010_x86_64.whl (657 kB)\n",
      "\u001b[2K   \u001b[90m━━━━━━━━━━━━━━━━━━━━━━━━━━━━━━━━━━━━━━━━\u001b[0m \u001b[32m657.8/657.8 kB\u001b[0m \u001b[31m43.8 MB/s\u001b[0m eta \u001b[36m0:00:00\u001b[0m\n",
      "\u001b[?25hDownloading python_crfsuite-0.9.11-cp311-cp311-manylinux_2_17_x86_64.manylinux2014_x86_64.whl (1.3 MB)\n",
      "\u001b[2K   \u001b[90m━━━━━━━━━━━━━━━━━━━━━━━━━━━━━━━━━━━━━━━━\u001b[0m \u001b[32m1.3/1.3 MB\u001b[0m \u001b[31m41.7 MB/s\u001b[0m eta \u001b[36m0:00:00\u001b[0m\n",
      "\u001b[?25hInstalling collected packages: underthesea-core, python-crfsuite, underthesea\n",
      "Successfully installed python-crfsuite-0.9.11 underthesea-6.8.4 underthesea-core-1.0.4\n"
     ]
    }
   ],
   "source": [
    "!pip install underthesea"
   ]
  },
  {
   "cell_type": "code",
   "execution_count": 2,
   "metadata": {
    "executionInfo": {
     "elapsed": 27952,
     "status": "ok",
     "timestamp": 1755074240726,
     "user": {
      "displayName": "Lương Đạt",
      "userId": "11214560588962627512"
     },
     "user_tz": -420
    },
    "id": "VO_phiZLBGbo"
   },
   "outputs": [],
   "source": [
    "import torch\n",
    "import torch.nn as nn\n",
    "import torch.nn.functional as F\n",
    "from torch.utils.data import Dataset, DataLoader, random_split\n",
    "from torch.optim import AdamW\n",
    "from torch.optim.lr_scheduler import ReduceLROnPlateau, CosineAnnealingLR\n",
    "from transformers import AutoModel, AutoTokenizer\n",
    "from sklearn.preprocessing import LabelEncoder\n",
    "from sklearn.metrics import accuracy_score, precision_recall_fscore_support, classification_report, confusion_matrix\n",
    "import numpy as np\n",
    "from tqdm import tqdm\n",
    "import matplotlib.pyplot as plt\n",
    "import seaborn as sns\n",
    "from underthesea import word_tokenize\n",
    "import warnings\n",
    "warnings.filterwarnings('ignore')\n",
    "\n",
    "# Set random seeds for reproducibility\n",
    "torch.manual_seed(42)\n",
    "np.random.seed(42)\n",
    "\n",
    "class Config:\n",
    "    \"\"\"Configuration class for hyperparameters\"\"\"\n",
    "    model_name = \"demdecuong/vihealthbert-base-word\"\n",
    "    max_length = 256\n",
    "    batch_size = 16\n",
    "    learning_rate = 2e-5 # ~ 0.00002\n",
    "    weight_decay = 0.01\n",
    "    num_epochs = 20\n",
    "    warmup_steps = 100\n",
    "    dropout_rate = 0.3\n",
    "    hidden_size = 128\n",
    "    patience = 5\n",
    "    gradient_clip = 1.0"
   ]
  },
  {
   "cell_type": "markdown",
   "metadata": {
    "id": "F1qt7SgLGZG0"
   },
   "source": [
    "# Model DiseaseClass"
   ]
  },
  {
   "cell_type": "code",
   "execution_count": 3,
   "metadata": {
    "executionInfo": {
     "elapsed": 11,
     "status": "ok",
     "timestamp": 1755074240818,
     "user": {
      "displayName": "Lương Đạt",
      "userId": "11214560588962627512"
     },
     "user_tz": -420
    },
    "id": "BK1X-Rc9EUwf"
   },
   "outputs": [],
   "source": [
    "class DiseaseClassifier(nn.Module):\n",
    "    \"\"\"Enhanced classifier for disease prediction\"\"\"\n",
    "    def __init__(self, pretrained_model, num_labels, config):\n",
    "        super(DiseaseClassifier, self).__init__()\n",
    "        self.bert = pretrained_model\n",
    "        self.config = config\n",
    "\n",
    "        # Freeze some layers for better transfer learning\n",
    "        for param in self.bert.embeddings.parameters():\n",
    "            param.requires_grad = False\n",
    "\n",
    "        # Enhanced classifier head\n",
    "        self.dropout1 = nn.Dropout(config.dropout_rate)\n",
    "        self.fc1 = nn.Linear(self.bert.config.hidden_size, config.hidden_size)\n",
    "        self.dropout2 = nn.Dropout(config.dropout_rate)\n",
    "        self.fc2 = nn.Linear(config.hidden_size, config.hidden_size // 2)\n",
    "        self.dropout3 = nn.Dropout(config.dropout_rate)\n",
    "        self.classifier = nn.Linear(config.hidden_size // 2, num_labels)\n",
    "\n",
    "        # Layer normalization\n",
    "        self.layer_norm1 = nn.LayerNorm(config.hidden_size)\n",
    "        self.layer_norm2 = nn.LayerNorm(config.hidden_size // 2)\n",
    "\n",
    "        # Initialize weights\n",
    "        self._init_weights()\n",
    "\n",
    "    def _init_weights(self):\n",
    "        \"\"\"Initialize weights properly\"\"\"\n",
    "        for module in [self.fc1, self.fc2, self.classifier]:\n",
    "            nn.init.xavier_normal_(module.weight)\n",
    "            nn.init.constant_(module.bias, 0)\n",
    "\n",
    "    def forward(self, input_ids, attention_mask=None):\n",
    "        # Get BERT outputs\n",
    "        outputs = self.bert(input_ids=input_ids, attention_mask=attention_mask)\n",
    "\n",
    "        # Use mean pooling instead of just CLS token\n",
    "        last_hidden_state = outputs.last_hidden_state\n",
    "\n",
    "        # Mean pooling with attention mask\n",
    "        if attention_mask is not None:\n",
    "            mask_expanded = attention_mask.unsqueeze(-1).expand(last_hidden_state.size()).float()\n",
    "            sum_embeddings = torch.sum(last_hidden_state * mask_expanded, 1)\n",
    "            sum_mask = torch.clamp(mask_expanded.sum(1), min=1e-9)\n",
    "            pooled_output = sum_embeddings / sum_mask\n",
    "        else:\n",
    "            pooled_output = torch.mean(last_hidden_state, 1)\n",
    "\n",
    "        # Forward through enhanced classifier\n",
    "        x = self.dropout1(pooled_output)\n",
    "        x = F.relu(self.layer_norm1(self.fc1(x)))\n",
    "        x = self.dropout2(x)\n",
    "        x = F.relu(self.layer_norm2(self.fc2(x)))\n",
    "        x = self.dropout3(x)\n",
    "        logits = self.classifier(x)\n",
    "\n",
    "        return logits\n"
   ]
  },
  {
   "cell_type": "code",
   "execution_count": 4,
   "metadata": {
    "executionInfo": {
     "elapsed": 117,
     "status": "ok",
     "timestamp": 1755074241094,
     "user": {
      "displayName": "Lương Đạt",
      "userId": "11214560588962627512"
     },
     "user_tz": -420
    },
    "id": "RTFrr9oJSBcE"
   },
   "outputs": [],
   "source": [
    "class EarlyStopping:\n",
    "    \"\"\"Early stopping to prevent overfitting\"\"\"\n",
    "    def __init__(self, patience=5, min_delta=0.001):\n",
    "        self.patience = patience\n",
    "        self.min_delta = min_delta\n",
    "        self.counter = 0\n",
    "        self.best_loss = float('inf')\n",
    "\n",
    "    def __call__(self, val_loss):\n",
    "        if val_loss < self.best_loss - self.min_delta:\n",
    "            self.best_loss = val_loss\n",
    "            self.counter = 0\n",
    "            return False\n",
    "        else:\n",
    "            self.counter += 1\n",
    "            return self.counter >= self.patience"
   ]
  },
  {
   "cell_type": "code",
   "execution_count": 5,
   "metadata": {
    "executionInfo": {
     "elapsed": 7,
     "status": "ok",
     "timestamp": 1755074241143,
     "user": {
      "displayName": "Lương Đạt",
      "userId": "11214560588962627512"
     },
     "user_tz": -420
    },
    "id": "pWTINCCpSD0B"
   },
   "outputs": [],
   "source": [
    "class HealthBERTTrainer:\n",
    "    \"\"\"Enhanced trainer class for disease prediction\"\"\"\n",
    "    def __init__(self, model, train_loader, val_loader, config):\n",
    "        self.model = model\n",
    "        self.train_loader = train_loader\n",
    "        self.val_loader = val_loader\n",
    "        self.config = config\n",
    "        self.device = torch.device('cuda' if torch.cuda.is_available() else 'cpu')\n",
    "\n",
    "        # Move model to device\n",
    "        self.model.to(self.device)\n",
    "\n",
    "        # Optimizer with weight decay\n",
    "        self.optimizer = AdamW(\n",
    "            self.model.parameters(),\n",
    "            lr=config.learning_rate,\n",
    "            weight_decay=config.weight_decay\n",
    "        )\n",
    "\n",
    "        # Learning rate scheduler\n",
    "        self.scheduler = ReduceLROnPlateau(\n",
    "            self.optimizer,\n",
    "            mode='min',\n",
    "            factor=0.5,\n",
    "            patience=3,\n",
    "            verbose=True\n",
    "        )\n",
    "\n",
    "        # Early stopping\n",
    "        self.early_stopping = EarlyStopping(patience=config.patience)\n",
    "\n",
    "        # Loss function with label smoothing\n",
    "        self.criterion = nn.CrossEntropyLoss(label_smoothing=0.1)\n",
    "\n",
    "        # Training history\n",
    "        self.history = {\n",
    "            'train_loss': [],\n",
    "            'val_loss': [],\n",
    "            'train_acc': [],\n",
    "            'val_acc': []\n",
    "        }\n",
    "\n",
    "    def train_epoch(self):\n",
    "        \"\"\"Train one epoch\"\"\"\n",
    "        self.model.train()\n",
    "        total_loss = 0\n",
    "        correct = 0\n",
    "        total = 0\n",
    "\n",
    "        progress_bar = tqdm(self.train_loader, desc=\"Training\")\n",
    "\n",
    "        for batch in progress_bar:\n",
    "            # Move batch to device\n",
    "            input_ids = batch['input_ids'].to(self.device)\n",
    "            attention_mask = batch['attention_mask'].to(self.device)\n",
    "            labels = batch['labels'].to(self.device)\n",
    "\n",
    "            # Forward pass\n",
    "            self.optimizer.zero_grad()\n",
    "            logits = self.model(input_ids, attention_mask)\n",
    "            loss = self.criterion(logits, labels)\n",
    "\n",
    "            # Backward pass\n",
    "            loss.backward()\n",
    "\n",
    "            # Gradient clipping\n",
    "            torch.nn.utils.clip_grad_norm_(self.model.parameters(), self.config.gradient_clip)\n",
    "\n",
    "            self.optimizer.step()\n",
    "\n",
    "            # Statistics\n",
    "            total_loss += loss.item()\n",
    "            _, predicted = torch.max(logits.data, 1)\n",
    "            total += labels.size(0)\n",
    "            correct += (predicted == labels).sum().item()\n",
    "\n",
    "            # Update progress bar\n",
    "            progress_bar.set_postfix({\n",
    "                'Loss': f'{loss.item():.4f}',\n",
    "                'Acc': f'{100.*correct/total:.2f}%'\n",
    "            })\n",
    "\n",
    "        return total_loss / len(self.train_loader), 100. * correct / total\n",
    "\n",
    "    def validate(self):\n",
    "        \"\"\"Validate the model\"\"\"\n",
    "        self.model.eval()\n",
    "        total_loss = 0\n",
    "        correct = 0\n",
    "        total = 0\n",
    "        all_preds = []\n",
    "        all_labels = []\n",
    "\n",
    "        with torch.no_grad():\n",
    "            for batch in tqdm(self.val_loader, desc=\"Validating\"):\n",
    "                input_ids = batch['input_ids'].to(self.device)\n",
    "                attention_mask = batch['attention_mask'].to(self.device)\n",
    "                labels = batch['labels'].to(self.device)\n",
    "\n",
    "                logits = self.model(input_ids, attention_mask)\n",
    "                loss = self.criterion(logits, labels)\n",
    "\n",
    "                total_loss += loss.item()\n",
    "                _, predicted = torch.max(logits.data, 1)\n",
    "                total += labels.size(0)\n",
    "                correct += (predicted == labels).sum().item()\n",
    "\n",
    "                all_preds.extend(predicted.cpu().numpy())\n",
    "                all_labels.extend(labels.cpu().numpy())\n",
    "\n",
    "        return total_loss / len(self.val_loader), 100. * correct / total, all_preds, all_labels\n",
    "\n",
    "    def train(self):\n",
    "        \"\"\"Full training loop\"\"\"\n",
    "        print(f\"Training on device: {self.device}\")\n",
    "        print(f\"Model parameters: {sum(p.numel() for p in self.model.parameters()):,}\")\n",
    "\n",
    "        best_val_loss = float('inf')\n",
    "\n",
    "        for epoch in range(self.config.num_epochs):\n",
    "            print(f\"\\nEpoch {epoch+1}/{self.config.num_epochs}\")\n",
    "            print(\"-\" * 50)\n",
    "\n",
    "            # Train\n",
    "            train_loss, train_acc = self.train_epoch()\n",
    "\n",
    "            # Validate\n",
    "            val_loss, val_acc, val_preds, val_labels = self.validate()\n",
    "\n",
    "            # Update history\n",
    "            self.history['train_loss'].append(train_loss)\n",
    "            self.history['val_loss'].append(val_loss)\n",
    "            self.history['train_acc'].append(train_acc)\n",
    "            self.history['val_acc'].append(val_acc)\n",
    "\n",
    "            # Learning rate scheduling\n",
    "            self.scheduler.step(val_loss)\n",
    "\n",
    "            print(f\"Train Loss: {train_loss:.4f}, Train Acc: {train_acc:.2f}%\")\n",
    "            print(f\"Val Loss: {val_loss:.4f}, Val Acc: {val_acc:.2f}%\")\n",
    "\n",
    "            # Save best model\n",
    "            if val_loss < best_val_loss:\n",
    "                best_val_loss = val_loss\n",
    "                torch.save(self.model.state_dict(), 'best_disease_model.pth')\n",
    "                print(\"✓ Saved new best model\")\n",
    "\n",
    "            # Early stopping\n",
    "            if self.early_stopping(val_loss):\n",
    "                print(f\"Early stopping triggered after {epoch+1} epochs\")\n",
    "                break\n",
    "\n",
    "        # Load best model\n",
    "        self.model.load_state_dict(torch.load('best_disease_model.pth'))\n",
    "        return self.history"
   ]
  },
  {
   "cell_type": "code",
   "execution_count": 6,
   "metadata": {
    "executionInfo": {
     "elapsed": 45,
     "status": "ok",
     "timestamp": 1755074241192,
     "user": {
      "displayName": "Lương Đạt",
      "userId": "11214560588962627512"
     },
     "user_tz": -420
    },
    "id": "H02be_ipEn_a"
   },
   "outputs": [],
   "source": [
    "def evaluate_model(model, val_loader, label_encoder, device):\n",
    "    \"\"\"Comprehensive model evaluation\"\"\"\n",
    "    model.eval()\n",
    "    all_preds = []\n",
    "    all_labels = []\n",
    "\n",
    "    with torch.no_grad():\n",
    "        for batch in tqdm(val_loader, desc=\"Evaluating\"):\n",
    "            input_ids = batch['input_ids'].to(device)\n",
    "            attention_mask = batch['attention_mask'].to(device)\n",
    "            labels = batch['labels'].to(device)\n",
    "\n",
    "            logits = model(input_ids, attention_mask)\n",
    "            _, predicted = torch.max(logits, 1)\n",
    "\n",
    "            all_preds.extend(predicted.cpu().numpy())\n",
    "            all_labels.extend(labels.cpu().numpy())\n",
    "\n",
    "    # Calculate metrics\n",
    "    accuracy = accuracy_score(all_labels, all_preds)\n",
    "    precision, recall, f1, _ = precision_recall_fscore_support(all_labels, all_preds, average='weighted', zero_division=0)\n",
    "\n",
    "    print(f\"\\nEvaluation Results:\")\n",
    "    print(f\"Accuracy: {accuracy:.4f}\")\n",
    "    print(f\"Precision: {precision:.4f}\")\n",
    "    print(f\"Recall: {recall:.4f}\")\n",
    "    print(f\"F1-Score: {f1:.4f}\")\n",
    "\n",
    "    # Classification report\n",
    "    class_names = label_encoder.classes_\n",
    "    all_label_indices = list(range(len(class_names)))\n",
    "    print(\"\\nDetailed Classification Report:\")\n",
    "    print(classification_report(all_labels, all_preds, target_names=class_names, labels=all_label_indices, zero_division=0))\n",
    "\n",
    "    return accuracy, precision, recall, f1\n",
    "\n",
    "def plot_training_history(history):\n",
    "    \"\"\"Plot training history\"\"\"\n",
    "    fig, (ax1, ax2) = plt.subplots(1, 2, figsize=(15, 5))\n",
    "\n",
    "    # Loss plot\n",
    "    ax1.plot(history['train_loss'], label='Train Loss')\n",
    "    ax1.plot(history['val_loss'], label='Validation Loss')\n",
    "    ax1.set_title('Model Loss')\n",
    "    ax1.set_xlabel('Epoch')\n",
    "    ax1.set_ylabel('Loss')\n",
    "    ax1.legend()\n",
    "    ax1.grid(True)\n",
    "\n",
    "    # Accuracy plot\n",
    "    ax2.plot(history['train_acc'], label='Train Accuracy')\n",
    "    ax2.plot(history['val_acc'], label='Validation Accuracy')\n",
    "    ax2.set_title('Model Accuracy')\n",
    "    ax2.set_xlabel('Epoch')\n",
    "    ax2.set_ylabel('Accuracy (%)')\n",
    "    ax2.legend()\n",
    "    ax2.grid(True)\n",
    "\n",
    "    plt.tight_layout()\n",
    "    plt.show()\n"
   ]
  },
  {
   "cell_type": "markdown",
   "metadata": {
    "id": "q8WuYOuHQFz1"
   },
   "source": [
    "# Load Dataset"
   ]
  },
  {
   "cell_type": "code",
   "execution_count": 7,
   "metadata": {
    "executionInfo": {
     "elapsed": 5,
     "status": "ok",
     "timestamp": 1755074241203,
     "user": {
      "displayName": "Lương Đạt",
      "userId": "11214560588962627512"
     },
     "user_tz": -420
    },
    "id": "IIQvL4Q-Ef4B"
   },
   "outputs": [],
   "source": [
    "def preprocess_text(text):\n",
    "    \"\"\"Enhanced text preprocessing for Vietnamese medical text\"\"\"\n",
    "    if isinstance(text, str):\n",
    "        # Word tokenization for Vietnamese\n",
    "        segmented = word_tokenize(text, format=\"text\")\n",
    "        return segmented.strip()\n",
    "    return \"\""
   ]
  },
  {
   "cell_type": "code",
   "execution_count": 8,
   "metadata": {
    "executionInfo": {
     "elapsed": 7,
     "status": "ok",
     "timestamp": 1755074241256,
     "user": {
      "displayName": "Lương Đạt",
      "userId": "11214560588962627512"
     },
     "user_tz": -420
    },
    "id": "JUDuSn0M5Uij"
   },
   "outputs": [],
   "source": [
    "import pandas as pd\n",
    "class DiseaseDataset(Dataset):\n",
    "    \"\"\"Dataset class for disease prediction from symptoms\"\"\"\n",
    "    def __init__(self, texts, labels, tokenizer, max_length=256):\n",
    "        self.texts = texts\n",
    "        self.labels = labels\n",
    "        self.tokenizer = tokenizer\n",
    "        self.max_length = max_length\n",
    "\n",
    "    def __len__(self):\n",
    "        return len(self.texts)\n",
    "\n",
    "    def __getitem__(self, idx):\n",
    "        text = str(self.texts[idx])\n",
    "        label = self.labels[idx]\n",
    "\n",
    "        # Tokenize with proper padding and truncation\n",
    "        encoding = self.tokenizer(\n",
    "            text,\n",
    "            add_special_tokens=True,\n",
    "            max_length=self.max_length,\n",
    "            padding='max_length',\n",
    "            truncation=True,\n",
    "            return_attention_mask=True,\n",
    "            return_tensors='pt'\n",
    "        )\n",
    "\n",
    "        return {\n",
    "            'input_ids': encoding['input_ids'].flatten(),\n",
    "            'attention_mask': encoding['attention_mask'].flatten(),\n",
    "            'labels': torch.tensor(label, dtype=torch.long)\n",
    "        }"
   ]
  },
  {
   "cell_type": "code",
   "execution_count": 9,
   "metadata": {
    "executionInfo": {
     "elapsed": 4,
     "status": "ok",
     "timestamp": 1755074241264,
     "user": {
      "displayName": "Lương Đạt",
      "userId": "11214560588962627512"
     },
     "user_tz": -420
    },
    "id": "NeNENvKTR7Yr"
   },
   "outputs": [],
   "source": [
    "def create_disease_dataset(excelpath):\n",
    "    try:\n",
    "        # Đọc file Excel\n",
    "        df = pd.read_csv(excel_path)\n",
    "        print(f\"Đã đọc {len(df)} dòng dữ liệu từ file csv\")\n",
    "\n",
    "        # Lấy cột 0 (bệnh) và cột 1 (triệu chứng)\n",
    "        df = df.iloc[:, [0, 1]]  # Cột 0 và cột 1\n",
    "        df.columns = ['benh', 'trieu_chung']  # Đặt tên cột\n",
    "\n",
    "        # Loại bỏ các dòng có giá trị null\n",
    "        df = df.dropna()\n",
    "\n",
    "        # Chuẩn hóa tên bệnh: thay khoảng trắng bằng dấu gạch dưới\n",
    "        df['benh'] = df['benh'].str.replace(' ', '_')\n",
    "\n",
    "        # Tạo mảng tuple (triệu_chứng, bệnh)\n",
    "        disease_data = []\n",
    "        for _, row in df.iterrows():\n",
    "            disease_data.append((str(row['trieu_chung']), str(row['benh'])))\n",
    "\n",
    "        print(f\"Đã tạo {len(disease_data)} mẫu dữ liệu\")\n",
    "\n",
    "        return disease_data\n",
    "\n",
    "    except Exception as e:\n",
    "        print(f\"Lỗi khi đọc file Excel: {e}\")\n",
    "        return []"
   ]
  },
  {
   "cell_type": "markdown",
   "metadata": {
    "id": "P_BjGwQ0RxMm"
   },
   "source": [
    "# Train Model"
   ]
  },
  {
   "cell_type": "code",
   "execution_count": 10,
   "metadata": {
    "colab": {
     "base_uri": "https://localhost:8080/"
    },
    "executionInfo": {
     "elapsed": 43007,
     "status": "ok",
     "timestamp": 1755074407605,
     "user": {
      "displayName": "Lương Đạt",
      "userId": "11214560588962627512"
     },
     "user_tz": -420
    },
    "id": "kvHwlbbC5OXO",
    "outputId": "5e4bc626-5ec8-4f59-c3ef-3fed0fc984b4"
   },
   "outputs": [
    {
     "name": "stdout",
     "output_type": "stream",
     "text": [
      "Mounted at /content/drive\n"
     ]
    }
   ],
   "source": [
    "from google.colab import drive\n",
    "drive.mount('/content/drive')"
   ]
  },
  {
   "cell_type": "code",
   "execution_count": 11,
   "metadata": {
    "colab": {
     "base_uri": "https://localhost:8080/"
    },
    "executionInfo": {
     "elapsed": 2133,
     "status": "ok",
     "timestamp": 1755074440267,
     "user": {
      "displayName": "Lương Đạt",
      "userId": "11214560588962627512"
     },
     "user_tz": -420
    },
    "id": "PIYVevgl5W3U",
    "outputId": "f3b7165a-ccd8-4ea8-dc6b-ba00022f67d1"
   },
   "outputs": [
    {
     "name": "stdout",
     "output_type": "stream",
     "text": [
      "Đã đọc 580 dòng dữ liệu từ file csv\n",
      "Đã tạo 580 mẫu dữ liệu\n",
      "\n",
      "Một số mẫu dữ liệu:\n",
      "1. ('tôi bị sa trực tràng đồng thời đau khi đi đại tiện, chướng bụng', 'táo_bón')\n",
      "2. ('tôi phát hiện chướng bụng đồng thời sốt, nôn', 'táo_bón')\n",
      "3. ('tôi xuất hiện sa trực tràng ngoài ra còn máu trong phân, giảm cân', 'táo_bón')\n",
      "4. ('tôi có triệu chứng đau bụng đồng thời chướng bụng, giảm cân', 'táo_bón')\n",
      "5. ('tôi có triệu chứng sa trực tràng ngoài ra còn đau bụng, nôn', 'táo_bón')\n",
      "6. ('tôi gặp phải máu trong phân đồng thời đau bụng, sốt', 'táo_bón')\n",
      "7. ('tôi bị sa trực tràng kèm theo chướng bụng, vết nứt hậu môn', 'táo_bón')\n",
      "8. ('tôi bị sa trực tràng cùng với máu trong phân, sốt', 'táo_bón')\n",
      "9. ('tôi bị chướng bụng kèm theo giảm cân, nôn', 'táo_bón')\n",
      "10. ('tôi gặp phải sa trực tràng đồng thời sốt, vết nứt hậu môn', 'táo_bón')\n",
      "\n",
      "Tổng cộng: 580 mẫu dữ liệu\n"
     ]
    }
   ],
   "source": [
    "excel_path = \"/content/drive/MyDrive/Colab Notebooks/NLP/health_api/data_processed/augmented_medical_data.csv\"\n",
    "\n",
    "# Tạo dataset\n",
    "disease_data = create_disease_dataset(excel_path)\n",
    "\n",
    "# Hiển thị một số mẫu đầu\n",
    "if disease_data:\n",
    "    print(\"\\nMột số mẫu dữ liệu:\")\n",
    "    for i, (symptom, disease) in enumerate(disease_data[:10]):\n",
    "        print(f\"{i+1}. ('{symptom}', '{disease}')\")\n",
    "\n",
    "    print(f\"\\nTổng cộng: {len(disease_data)} mẫu dữ liệu\")\n",
    "else:\n",
    "    print(\"Không có dữ liệu\")"
   ]
  },
  {
   "cell_type": "code",
   "execution_count": 12,
   "metadata": {
    "colab": {
     "base_uri": "https://localhost:8080/",
     "height": 607,
     "referenced_widgets": [
      "32a9df361bf5419ca1151428e2862076",
      "9bf0c376a6344212bd695e880f7cf6a4",
      "e2ddaf1144574ce7afb3dd00800f0e8e",
      "54e7e604f452457989d5a86a4db3fb2e",
      "da01ca18733d4c169880c79bf036e1b7",
      "b1c04840d6d24b5494589704c72184f2",
      "ea9638b64ff847c693934f6b9fced33f",
      "304d772d9b754c1487a5c83224ca71e3",
      "a1a571aba3094235ae72ad0a0f7c0ea1",
      "f7cf8780178c409f9277cc843319bd7f",
      "7c07f1434bde43b4b85b80e40c5a17d1",
      "82ebe84061374912a88e3f9b83115d58",
      "256b17f5dfa14977b4b6aede110725e6",
      "b7ca63d3d4874bf9bd5cf8998237c6bd",
      "d3cb2ce88c5041b7a454340e54e5da8b",
      "52d59b65bd0f4603a1661e8d04d014e2",
      "7f98c3b4fb404879b67b36ce9b7bf68c",
      "22b7948302844eaa9c1d152f2ccab866",
      "0278538e39a54555ab95d58896f1e0e8",
      "a7a11007526245d4b3b8e0917075983e",
      "052112ae4c5a42ac8c8212e47f6ec4f3",
      "441e6999c04e4aab8366ae6f98c2cd78",
      "b69b0fcd5e61402f8005f84375efad0a",
      "d1b276ee5abd4d71b0da4e322c033764",
      "f77f75edbab14f98ac3437c7f1af22b7",
      "f105c8c12a604c86a69bef80e4fa5c37",
      "fa5c555c5971469d8af90b6f1eb2f5a3",
      "a5c91d288d9a428da5b3237f347e2a18",
      "edc47a8806ae4c67bea437ffecec40bb",
      "d0a759ae3a104261aede62ad6c0d6ded",
      "771a882b08cd44ea9364075c215e77ce",
      "cae1a43a0cf8436fb280ad4e8a6f5ac2",
      "01c8966d963c441fa3e0a71eaf16559f",
      "85a966209ecc4dd3b5ac2c73540de69d",
      "a6e77efe79bf46349d1f822a8b870a50",
      "29c1fd1436014071b2d13ff44d5c7df9",
      "5a214efc999e4b63825e7fcd2f8de25b",
      "e6aee8fc7c1a4cbda0c8b44b96a35d20",
      "237763d7463f4c29850fd18b91d3cc90",
      "36a71a76fd7a4057bb12b2f9bbae2f72",
      "b048fac883304f719b2aa8eb830fca95",
      "148f35e3f05441ea881c0a26f9640462",
      "a5ec653403004c6eb6024bf82c3015f3",
      "abc5aa16d5124cb0850da4be6424af39"
     ]
    },
    "executionInfo": {
     "elapsed": 18439,
     "status": "ok",
     "timestamp": 1755074461018,
     "user": {
      "displayName": "Lương Đạt",
      "userId": "11214560588962627512"
     },
     "user_tz": -420
    },
    "id": "EDWJTeTBEwmf",
    "outputId": "7fbaa328-082c-4311-f3b1-9fbe606ab9b6"
   },
   "outputs": [
    {
     "name": "stdout",
     "output_type": "stream",
     "text": [
      "Initializing Enhanced ViHealthBERT Disease Prediction Pipeline\n",
      "============================================================\n",
      "Loading pretrained model and tokenizer...\n"
     ]
    },
    {
     "data": {
      "application/vnd.jupyter.widget-view+json": {
       "model_id": "32a9df361bf5419ca1151428e2862076",
       "version_major": 2,
       "version_minor": 0
      },
      "text/plain": [
       "config.json:   0%|          | 0.00/817 [00:00<?, ?B/s]"
      ]
     },
     "metadata": {},
     "output_type": "display_data"
    },
    {
     "data": {
      "application/vnd.jupyter.widget-view+json": {
       "model_id": "82ebe84061374912a88e3f9b83115d58",
       "version_major": 2,
       "version_minor": 0
      },
      "text/plain": [
       "vocab.txt: 0.00B [00:00, ?B/s]"
      ]
     },
     "metadata": {},
     "output_type": "display_data"
    },
    {
     "data": {
      "application/vnd.jupyter.widget-view+json": {
       "model_id": "b69b0fcd5e61402f8005f84375efad0a",
       "version_major": 2,
       "version_minor": 0
      },
      "text/plain": [
       "bpe.codes: 0.00B [00:00, ?B/s]"
      ]
     },
     "metadata": {},
     "output_type": "display_data"
    },
    {
     "data": {
      "application/vnd.jupyter.widget-view+json": {
       "model_id": "85a966209ecc4dd3b5ac2c73540de69d",
       "version_major": 2,
       "version_minor": 0
      },
      "text/plain": [
       "pytorch_model.bin:   0%|          | 0.00/540M [00:00<?, ?B/s]"
      ]
     },
     "metadata": {},
     "output_type": "display_data"
    },
    {
     "name": "stdout",
     "output_type": "stream",
     "text": [
      "\n",
      "Dataset Statistics:\n",
      "Total samples: 580\n",
      "Unique diseases: 29\n",
      "\n",
      "Sample data:\n",
      "Symptoms: tôi bị sa trực tràng đồng thời đau khi đi đại tiện, chướng bụng\n",
      "Disease: táo_bón\n",
      "\n",
      "Symptoms: tôi phát hiện chướng bụng đồng thời sốt, nôn\n",
      "Disease: táo_bón\n",
      "\n",
      "Symptoms: tôi xuất hiện sa trực tràng ngoài ra còn máu trong phân, giảm cân\n",
      "Disease: táo_bón\n",
      "\n",
      "Symptoms: tôi có triệu chứng đau bụng đồng thời chướng bụng, giảm cân\n",
      "Disease: táo_bón\n",
      "\n",
      "Symptoms: tôi có triệu chứng sa trực tràng ngoài ra còn đau bụng, nôn\n",
      "Disease: táo_bón\n",
      "\n",
      "Disease classes: [np.str_('căng_cơ'), np.str_('cảm_cúm'), np.str_('di_ứng_thực_phẩm'), np.str_('dị_ứng_thời_tiết'), np.str_('hen_suyễn'), np.str_('hạ_canxi_máu'), np.str_('khô_mắt'), np.str_('say_nắng'), np.str_('sỏi_thận'), np.str_('sốt_phát_ban'), np.str_('thiếu_máu'), np.str_('thoái_hoá_cột_sống_cổ'), np.str_('thoái_hoá_cột_sống_lưng'), np.str_('trĩ'), np.str_('trật_khớp'), np.str_('táo_bón'), np.str_('tắc_ruột'), np.str_('viêm_gan_b'), np.str_('viêm_gan_c'), np.str_('viêm_khớp'), np.str_('viêm_mũi_dị_ứng'), np.str_('viêm_mũi_họng'), np.str_('viêm_phế_quản'), np.str_('viêm_phổi'), np.str_('viêm_xoang'), np.str_('viêm_xương'), np.str_('đau_dạ_dày'), np.str_('đau_thắt_ngực'), np.str_('đột_quỵ')]\n",
      "Train samples: 464, Validation samples: 116\n"
     ]
    }
   ],
   "source": [
    "print(\"Initializing Enhanced ViHealthBERT Disease Prediction Pipeline\")\n",
    "print(\"=\" * 60)\n",
    "\n",
    "# Configuration\n",
    "config = Config()\n",
    "\n",
    "# Load model and tokenizer\n",
    "print(\"Loading pretrained model and tokenizer...\")\n",
    "tokenizer = AutoTokenizer.from_pretrained(config.model_name)\n",
    "vihealthbert = AutoModel.from_pretrained(config.model_name)\n",
    "\n",
    "# Prepare data\n",
    "texts = [sample[0] for sample in disease_data]  # Symptom descriptions\n",
    "labels = [sample[1] for sample in disease_data]  # Disease labels\n",
    "\n",
    "print(f\"\\nDataset Statistics:\")\n",
    "print(f\"Total samples: {len(disease_data)}\")\n",
    "print(f\"Unique diseases: {len(set(labels))}\")\n",
    "\n",
    "# Show sample data\n",
    "print(f\"\\nSample data:\")\n",
    "for i in range(min(5, len(disease_data))):\n",
    "    print(f\"Symptoms: {texts[i]}\")\n",
    "    print(f\"Disease: {labels[i]}\\n\")\n",
    "\n",
    "# Label encoding\n",
    "label_encoder = LabelEncoder()\n",
    "label_ids = label_encoder.fit_transform(labels)\n",
    "\n",
    "print(f\"Disease classes: {list(label_encoder.classes_)}\")\n",
    "\n",
    "# Create dataset\n",
    "full_dataset = DiseaseDataset(texts, label_ids, tokenizer, config.max_length)\n",
    "\n",
    "# Split dataset (80% train, 20% validation)\n",
    "train_size = int(0.8 * len(full_dataset))\n",
    "val_size = len(full_dataset) - train_size\n",
    "train_dataset, val_dataset = random_split(full_dataset, [train_size, val_size], generator=torch.Generator().manual_seed(42))\n",
    "\n",
    "print(f\"Train samples: {train_size}, Validation samples: {val_size}\")\n",
    "\n",
    "# Create data loaders\n",
    "train_loader = DataLoader(train_dataset, batch_size=config.batch_size, shuffle=True)\n",
    "val_loader = DataLoader(val_dataset, batch_size=config.batch_size, shuffle=False)\n"
   ]
  },
  {
   "cell_type": "code",
   "execution_count": 13,
   "metadata": {
    "colab": {
     "base_uri": "https://localhost:8080/",
     "height": 1000,
     "referenced_widgets": [
      "57625a06e0654506870027eee4cebe6b",
      "3e91837eaea1429d8be41a56123755f9",
      "26a2ee6190984984aede33dd019ae71b",
      "115d7fb031384732a754ea87937b718a",
      "d328f0db54be46b2ab261f8526689797",
      "aea8d6cbd9bc4a5293533846c31288c4",
      "e717a980c9204c998c56f9e9e53c3bc7",
      "c03cf871e03c40a4a1d2ace19d753a90",
      "bebed93b3865424fa3f839bdbda9aae4",
      "bc174fc3876d494f9d1404e76088360f",
      "477aa15dd6a5497b85d0c9218392ac95"
     ]
    },
    "executionInfo": {
     "elapsed": 567415,
     "status": "ok",
     "timestamp": 1755075028422,
     "user": {
      "displayName": "Lương Đạt",
      "userId": "11214560588962627512"
     },
     "user_tz": -420
    },
    "id": "6hKA2KorRq22",
    "outputId": "1d6870a5-b193-4d23-ba89-0e98a8b6ba19"
   },
   "outputs": [
    {
     "name": "stdout",
     "output_type": "stream",
     "text": [
      "Creating enhanced disease prediction model...\n",
      "Starting training...\n",
      "Training on device: cuda\n",
      "Model parameters: 135,107,229\n",
      "\n",
      "Epoch 1/20\n",
      "--------------------------------------------------\n"
     ]
    },
    {
     "name": "stderr",
     "output_type": "stream",
     "text": [
      "\n"
     ]
    },
    {
     "data": {
      "application/vnd.jupyter.widget-view+json": {
       "model_id": "57625a06e0654506870027eee4cebe6b",
       "version_major": 2,
       "version_minor": 0
      },
      "text/plain": [
       "model.safetensors:   0%|          | 0.00/540M [00:00<?, ?B/s]"
      ]
     },
     "metadata": {},
     "output_type": "display_data"
    },
    {
     "name": "stderr",
     "output_type": "stream",
     "text": [
      "Training:   0%|          | 0/29 [00:00<?, ?it/s]\u001b[A\n",
      "Training:   0%|          | 0/29 [00:01<?, ?it/s, Loss=3.6350, Acc=0.00%]\u001b[A\n",
      "Training:   3%|▎         | 1/29 [00:02<00:56,  2.00s/it, Loss=3.6350, Acc=0.00%]\u001b[A\n",
      "Training:   3%|▎         | 1/29 [00:02<00:56,  2.00s/it, Loss=3.3437, Acc=3.12%]\u001b[A\n",
      "Training:   7%|▋         | 2/29 [00:02<00:32,  1.19s/it, Loss=3.3437, Acc=3.12%]\u001b[A\n",
      "Training:   7%|▋         | 2/29 [00:03<00:32,  1.19s/it, Loss=3.7591, Acc=2.08%]\u001b[A\n",
      "Training:  10%|█         | 3/29 [00:03<00:24,  1.08it/s, Loss=3.7591, Acc=2.08%]\u001b[A\n",
      "Training:  10%|█         | 3/29 [00:03<00:24,  1.08it/s, Loss=3.7479, Acc=3.12%]\u001b[A\n",
      "Training:  14%|█▍        | 4/29 [00:03<00:20,  1.24it/s, Loss=3.7479, Acc=3.12%]\u001b[A\n",
      "Training:  14%|█▍        | 4/29 [00:04<00:20,  1.24it/s, Loss=3.6790, Acc=2.50%]\u001b[A\n",
      "Training:  17%|█▋        | 5/29 [00:04<00:17,  1.35it/s, Loss=3.6790, Acc=2.50%]\u001b[A\n",
      "Training:  17%|█▋        | 5/29 [00:05<00:17,  1.35it/s, Loss=3.8322, Acc=2.08%]\u001b[A\n",
      "Training:  21%|██        | 6/29 [00:05<00:15,  1.44it/s, Loss=3.8322, Acc=2.08%]\u001b[A\n",
      "Training:  21%|██        | 6/29 [00:05<00:15,  1.44it/s, Loss=3.7166, Acc=1.79%]\u001b[A\n",
      "Training:  24%|██▍       | 7/29 [00:05<00:14,  1.50it/s, Loss=3.7166, Acc=1.79%]\u001b[A\n",
      "Training:  24%|██▍       | 7/29 [00:06<00:14,  1.50it/s, Loss=3.5591, Acc=1.56%]\u001b[A\n",
      "Training:  28%|██▊       | 8/29 [00:06<00:13,  1.55it/s, Loss=3.5591, Acc=1.56%]\u001b[A\n",
      "Training:  28%|██▊       | 8/29 [00:06<00:13,  1.55it/s, Loss=3.7024, Acc=2.08%]\u001b[A\n",
      "Training:  31%|███       | 9/29 [00:06<00:12,  1.59it/s, Loss=3.7024, Acc=2.08%]\u001b[A\n",
      "Training:  31%|███       | 9/29 [00:07<00:12,  1.59it/s, Loss=3.8026, Acc=1.88%]\u001b[A\n",
      "Training:  34%|███▍      | 10/29 [00:07<00:11,  1.61it/s, Loss=3.8026, Acc=1.88%]\u001b[A\n",
      "Training:  34%|███▍      | 10/29 [00:08<00:11,  1.61it/s, Loss=3.6274, Acc=2.27%]\u001b[A\n",
      "Training:  38%|███▊      | 11/29 [00:08<00:11,  1.60it/s, Loss=3.6274, Acc=2.27%]\u001b[A\n",
      "Training:  38%|███▊      | 11/29 [00:08<00:11,  1.60it/s, Loss=3.5681, Acc=3.12%]\u001b[A\n",
      "Training:  41%|████▏     | 12/29 [00:08<00:10,  1.60it/s, Loss=3.5681, Acc=3.12%]\u001b[A\n",
      "Training:  41%|████▏     | 12/29 [00:09<00:10,  1.60it/s, Loss=3.6968, Acc=2.88%]\u001b[A\n",
      "Training:  45%|████▍     | 13/29 [00:09<00:09,  1.62it/s, Loss=3.6968, Acc=2.88%]\u001b[A\n",
      "Training:  45%|████▍     | 13/29 [00:09<00:09,  1.62it/s, Loss=3.9778, Acc=2.68%]\u001b[A\n",
      "Training:  48%|████▊     | 14/29 [00:09<00:09,  1.63it/s, Loss=3.9778, Acc=2.68%]\u001b[A\n",
      "Training:  48%|████▊     | 14/29 [00:10<00:09,  1.63it/s, Loss=3.8811, Acc=2.50%]\u001b[A\n",
      "Training:  52%|█████▏    | 15/29 [00:10<00:08,  1.64it/s, Loss=3.8811, Acc=2.50%]\u001b[A\n",
      "Training:  52%|█████▏    | 15/29 [00:11<00:08,  1.64it/s, Loss=3.8885, Acc=2.73%]\u001b[A\n",
      "Training:  55%|█████▌    | 16/29 [00:11<00:07,  1.65it/s, Loss=3.8885, Acc=2.73%]\u001b[A\n",
      "Training:  55%|█████▌    | 16/29 [00:11<00:07,  1.65it/s, Loss=3.3823, Acc=2.57%]\u001b[A\n",
      "Training:  59%|█████▊    | 17/29 [00:11<00:07,  1.65it/s, Loss=3.3823, Acc=2.57%]\u001b[A\n",
      "Training:  59%|█████▊    | 17/29 [00:12<00:07,  1.65it/s, Loss=3.5185, Acc=2.43%]\u001b[A\n",
      "Training:  62%|██████▏   | 18/29 [00:12<00:06,  1.65it/s, Loss=3.5185, Acc=2.43%]\u001b[A\n",
      "Training:  62%|██████▏   | 18/29 [00:12<00:06,  1.65it/s, Loss=3.5189, Acc=2.30%]\u001b[A\n",
      "Training:  66%|██████▌   | 19/29 [00:13<00:06,  1.64it/s, Loss=3.5189, Acc=2.30%]\u001b[A\n",
      "Training:  66%|██████▌   | 19/29 [00:13<00:06,  1.64it/s, Loss=3.7524, Acc=2.19%]\u001b[A\n",
      "Training:  69%|██████▉   | 20/29 [00:13<00:05,  1.63it/s, Loss=3.7524, Acc=2.19%]\u001b[A\n",
      "Training:  69%|██████▉   | 20/29 [00:14<00:05,  1.63it/s, Loss=3.5731, Acc=2.38%]\u001b[A\n",
      "Training:  72%|███████▏  | 21/29 [00:14<00:04,  1.63it/s, Loss=3.5731, Acc=2.38%]\u001b[A\n",
      "Training:  72%|███████▏  | 21/29 [00:14<00:04,  1.63it/s, Loss=3.7636, Acc=2.27%]\u001b[A\n",
      "Training:  76%|███████▌  | 22/29 [00:14<00:04,  1.62it/s, Loss=3.7636, Acc=2.27%]\u001b[A\n",
      "Training:  76%|███████▌  | 22/29 [00:15<00:04,  1.62it/s, Loss=3.5701, Acc=2.45%]\u001b[A\n",
      "Training:  79%|███████▉  | 23/29 [00:15<00:03,  1.60it/s, Loss=3.5701, Acc=2.45%]\u001b[A\n",
      "Training:  79%|███████▉  | 23/29 [00:16<00:03,  1.60it/s, Loss=3.4657, Acc=2.60%]\u001b[A\n",
      "Training:  83%|████████▎ | 24/29 [00:16<00:03,  1.61it/s, Loss=3.4657, Acc=2.60%]\u001b[A\n",
      "Training:  83%|████████▎ | 24/29 [00:16<00:03,  1.61it/s, Loss=3.6365, Acc=2.50%]\u001b[A\n",
      "Training:  86%|████████▌ | 25/29 [00:16<00:02,  1.63it/s, Loss=3.6365, Acc=2.50%]\u001b[A\n",
      "Training:  86%|████████▌ | 25/29 [00:17<00:02,  1.63it/s, Loss=3.5128, Acc=2.40%]\u001b[A\n",
      "Training:  90%|████████▉ | 26/29 [00:17<00:01,  1.64it/s, Loss=3.5128, Acc=2.40%]\u001b[A\n",
      "Training:  90%|████████▉ | 26/29 [00:17<00:01,  1.64it/s, Loss=3.7335, Acc=2.31%]\u001b[A\n",
      "Training:  93%|█████████▎| 27/29 [00:17<00:01,  1.65it/s, Loss=3.7335, Acc=2.31%]\u001b[A\n",
      "Training:  93%|█████████▎| 27/29 [00:18<00:01,  1.65it/s, Loss=3.7401, Acc=2.68%]\u001b[A\n",
      "Training:  97%|█████████▋| 28/29 [00:18<00:00,  1.65it/s, Loss=3.7401, Acc=2.68%]\u001b[A\n",
      "Training:  97%|█████████▋| 28/29 [00:19<00:00,  1.65it/s, Loss=3.7913, Acc=2.59%]\u001b[A\n",
      "Training: 100%|██████████| 29/29 [00:19<00:00,  1.52it/s, Loss=3.7913, Acc=2.59%]\n",
      "Validating: 100%|██████████| 8/8 [00:01<00:00,  6.09it/s]\n"
     ]
    },
    {
     "name": "stdout",
     "output_type": "stream",
     "text": [
      "Train Loss: 3.6681, Train Acc: 2.59%\n",
      "Val Loss: 3.4163, Val Acc: 4.31%\n",
      "✓ Saved new best model\n",
      "\n",
      "Epoch 2/20\n",
      "--------------------------------------------------\n"
     ]
    },
    {
     "name": "stderr",
     "output_type": "stream",
     "text": [
      "Training: 100%|██████████| 29/29 [00:17<00:00,  1.65it/s, Loss=3.4652, Acc=5.17%]\n",
      "Validating: 100%|██████████| 8/8 [00:01<00:00,  6.04it/s]\n"
     ]
    },
    {
     "name": "stdout",
     "output_type": "stream",
     "text": [
      "Train Loss: 3.5181, Train Acc: 5.17%\n",
      "Val Loss: 3.2087, Val Acc: 6.03%\n",
      "✓ Saved new best model\n",
      "\n",
      "Epoch 3/20\n",
      "--------------------------------------------------\n"
     ]
    },
    {
     "name": "stderr",
     "output_type": "stream",
     "text": [
      "Training: 100%|██████████| 29/29 [00:17<00:00,  1.61it/s, Loss=3.0948, Acc=6.25%]\n",
      "Validating: 100%|██████████| 8/8 [00:01<00:00,  5.83it/s]\n"
     ]
    },
    {
     "name": "stdout",
     "output_type": "stream",
     "text": [
      "Train Loss: 3.4024, Train Acc: 6.25%\n",
      "Val Loss: 2.9780, Val Acc: 27.59%\n",
      "✓ Saved new best model\n",
      "\n",
      "Epoch 4/20\n",
      "--------------------------------------------------\n"
     ]
    },
    {
     "name": "stderr",
     "output_type": "stream",
     "text": [
      "Training: 100%|██████████| 29/29 [00:18<00:00,  1.58it/s, Loss=3.1446, Acc=12.72%]\n",
      "Validating: 100%|██████████| 8/8 [00:01<00:00,  5.74it/s]\n"
     ]
    },
    {
     "name": "stdout",
     "output_type": "stream",
     "text": [
      "Train Loss: 3.1860, Train Acc: 12.72%\n",
      "Val Loss: 2.7134, Val Acc: 34.48%\n",
      "✓ Saved new best model\n",
      "\n",
      "Epoch 5/20\n",
      "--------------------------------------------------\n"
     ]
    },
    {
     "name": "stderr",
     "output_type": "stream",
     "text": [
      "Training: 100%|██████████| 29/29 [00:18<00:00,  1.55it/s, Loss=2.9199, Acc=17.89%]\n",
      "Validating: 100%|██████████| 8/8 [00:01<00:00,  5.61it/s]\n"
     ]
    },
    {
     "name": "stdout",
     "output_type": "stream",
     "text": [
      "Train Loss: 2.9636, Train Acc: 17.89%\n",
      "Val Loss: 2.4911, Val Acc: 46.55%\n",
      "✓ Saved new best model\n",
      "\n",
      "Epoch 6/20\n",
      "--------------------------------------------------\n"
     ]
    },
    {
     "name": "stderr",
     "output_type": "stream",
     "text": [
      "Training: 100%|██████████| 29/29 [00:19<00:00,  1.52it/s, Loss=2.6013, Acc=26.29%]\n",
      "Validating: 100%|██████████| 8/8 [00:01<00:00,  5.54it/s]\n"
     ]
    },
    {
     "name": "stdout",
     "output_type": "stream",
     "text": [
      "Train Loss: 2.7737, Train Acc: 26.29%\n",
      "Val Loss: 2.2865, Val Acc: 50.86%\n",
      "✓ Saved new best model\n",
      "\n",
      "Epoch 7/20\n",
      "--------------------------------------------------\n"
     ]
    },
    {
     "name": "stderr",
     "output_type": "stream",
     "text": [
      "Training: 100%|██████████| 29/29 [00:18<00:00,  1.54it/s, Loss=2.6605, Acc=28.45%]\n",
      "Validating: 100%|██████████| 8/8 [00:01<00:00,  5.65it/s]\n"
     ]
    },
    {
     "name": "stdout",
     "output_type": "stream",
     "text": [
      "Train Loss: 2.6722, Train Acc: 28.45%\n",
      "Val Loss: 2.1276, Val Acc: 61.21%\n",
      "✓ Saved new best model\n",
      "\n",
      "Epoch 8/20\n",
      "--------------------------------------------------\n"
     ]
    },
    {
     "name": "stderr",
     "output_type": "stream",
     "text": [
      "Training: 100%|██████████| 29/29 [00:18<00:00,  1.54it/s, Loss=2.1605, Acc=42.46%]\n",
      "Validating: 100%|██████████| 8/8 [00:01<00:00,  5.64it/s]\n"
     ]
    },
    {
     "name": "stdout",
     "output_type": "stream",
     "text": [
      "Train Loss: 2.3870, Train Acc: 42.46%\n",
      "Val Loss: 1.9449, Val Acc: 72.41%\n",
      "✓ Saved new best model\n",
      "\n",
      "Epoch 9/20\n",
      "--------------------------------------------------\n"
     ]
    },
    {
     "name": "stderr",
     "output_type": "stream",
     "text": [
      "Training: 100%|██████████| 29/29 [00:18<00:00,  1.54it/s, Loss=2.3348, Acc=48.28%]\n",
      "Validating: 100%|██████████| 8/8 [00:01<00:00,  5.59it/s]\n"
     ]
    },
    {
     "name": "stdout",
     "output_type": "stream",
     "text": [
      "Train Loss: 2.2719, Train Acc: 48.28%\n",
      "Val Loss: 1.8002, Val Acc: 75.00%\n",
      "✓ Saved new best model\n",
      "\n",
      "Epoch 10/20\n",
      "--------------------------------------------------\n"
     ]
    },
    {
     "name": "stderr",
     "output_type": "stream",
     "text": [
      "Training: 100%|██████████| 29/29 [00:18<00:00,  1.54it/s, Loss=2.0064, Acc=56.47%]\n",
      "Validating: 100%|██████████| 8/8 [00:01<00:00,  5.58it/s]\n"
     ]
    },
    {
     "name": "stdout",
     "output_type": "stream",
     "text": [
      "Train Loss: 2.1319, Train Acc: 56.47%\n",
      "Val Loss: 1.6628, Val Acc: 82.76%\n",
      "✓ Saved new best model\n",
      "\n",
      "Epoch 11/20\n",
      "--------------------------------------------------\n"
     ]
    },
    {
     "name": "stderr",
     "output_type": "stream",
     "text": [
      "Training: 100%|██████████| 29/29 [00:18<00:00,  1.54it/s, Loss=2.1928, Acc=62.93%]\n",
      "Validating: 100%|██████████| 8/8 [00:01<00:00,  5.44it/s]\n"
     ]
    },
    {
     "name": "stdout",
     "output_type": "stream",
     "text": [
      "Train Loss: 2.0262, Train Acc: 62.93%\n",
      "Val Loss: 1.5909, Val Acc: 81.90%\n",
      "✓ Saved new best model\n",
      "\n",
      "Epoch 12/20\n",
      "--------------------------------------------------\n"
     ]
    },
    {
     "name": "stderr",
     "output_type": "stream",
     "text": [
      "Training: 100%|██████████| 29/29 [00:19<00:00,  1.51it/s, Loss=2.1424, Acc=62.93%]\n",
      "Validating: 100%|██████████| 8/8 [00:01<00:00,  5.44it/s]\n"
     ]
    },
    {
     "name": "stdout",
     "output_type": "stream",
     "text": [
      "Train Loss: 1.9666, Train Acc: 62.93%\n",
      "Val Loss: 1.5149, Val Acc: 87.07%\n",
      "✓ Saved new best model\n",
      "\n",
      "Epoch 13/20\n",
      "--------------------------------------------------\n"
     ]
    },
    {
     "name": "stderr",
     "output_type": "stream",
     "text": [
      "Training: 100%|██████████| 29/29 [00:18<00:00,  1.54it/s, Loss=1.7786, Acc=69.40%]\n",
      "Validating: 100%|██████████| 8/8 [00:01<00:00,  5.60it/s]\n"
     ]
    },
    {
     "name": "stdout",
     "output_type": "stream",
     "text": [
      "Train Loss: 1.8536, Train Acc: 69.40%\n",
      "Val Loss: 1.4418, Val Acc: 83.62%\n",
      "✓ Saved new best model\n",
      "\n",
      "Epoch 14/20\n",
      "--------------------------------------------------\n"
     ]
    },
    {
     "name": "stderr",
     "output_type": "stream",
     "text": [
      "Training: 100%|██████████| 29/29 [00:18<00:00,  1.54it/s, Loss=1.8418, Acc=73.06%]\n",
      "Validating: 100%|██████████| 8/8 [00:01<00:00,  5.49it/s]\n"
     ]
    },
    {
     "name": "stdout",
     "output_type": "stream",
     "text": [
      "Train Loss: 1.7848, Train Acc: 73.06%\n",
      "Val Loss: 1.3124, Val Acc: 87.93%\n",
      "✓ Saved new best model\n",
      "\n",
      "Epoch 15/20\n",
      "--------------------------------------------------\n"
     ]
    },
    {
     "name": "stderr",
     "output_type": "stream",
     "text": [
      "Training: 100%|██████████| 29/29 [00:19<00:00,  1.49it/s, Loss=1.7022, Acc=77.80%]\n",
      "Validating: 100%|██████████| 8/8 [00:01<00:00,  5.13it/s]\n"
     ]
    },
    {
     "name": "stdout",
     "output_type": "stream",
     "text": [
      "Train Loss: 1.7165, Train Acc: 77.80%\n",
      "Val Loss: 1.3095, Val Acc: 89.66%\n",
      "✓ Saved new best model\n",
      "\n",
      "Epoch 16/20\n",
      "--------------------------------------------------\n"
     ]
    },
    {
     "name": "stderr",
     "output_type": "stream",
     "text": [
      "Training: 100%|██████████| 29/29 [00:18<00:00,  1.54it/s, Loss=1.4097, Acc=80.60%]\n",
      "Validating: 100%|██████████| 8/8 [00:01<00:00,  5.49it/s]\n"
     ]
    },
    {
     "name": "stdout",
     "output_type": "stream",
     "text": [
      "Train Loss: 1.6295, Train Acc: 80.60%\n",
      "Val Loss: 1.2429, Val Acc: 92.24%\n",
      "✓ Saved new best model\n",
      "\n",
      "Epoch 17/20\n",
      "--------------------------------------------------\n"
     ]
    },
    {
     "name": "stderr",
     "output_type": "stream",
     "text": [
      "Training: 100%|██████████| 29/29 [00:18<00:00,  1.53it/s, Loss=1.8372, Acc=82.97%]\n",
      "Validating: 100%|██████████| 8/8 [00:01<00:00,  5.63it/s]\n"
     ]
    },
    {
     "name": "stdout",
     "output_type": "stream",
     "text": [
      "Train Loss: 1.5389, Train Acc: 82.97%\n",
      "Val Loss: 1.1541, Val Acc: 91.38%\n",
      "✓ Saved new best model\n",
      "\n",
      "Epoch 18/20\n",
      "--------------------------------------------------\n"
     ]
    },
    {
     "name": "stderr",
     "output_type": "stream",
     "text": [
      "Training: 100%|██████████| 29/29 [00:18<00:00,  1.55it/s, Loss=1.3385, Acc=84.27%]\n",
      "Validating: 100%|██████████| 8/8 [00:01<00:00,  5.65it/s]\n"
     ]
    },
    {
     "name": "stdout",
     "output_type": "stream",
     "text": [
      "Train Loss: 1.5264, Train Acc: 84.27%\n",
      "Val Loss: 1.0719, Val Acc: 94.83%\n",
      "✓ Saved new best model\n",
      "\n",
      "Epoch 19/20\n",
      "--------------------------------------------------\n"
     ]
    },
    {
     "name": "stderr",
     "output_type": "stream",
     "text": [
      "Training: 100%|██████████| 29/29 [00:18<00:00,  1.55it/s, Loss=1.3819, Acc=83.41%]\n",
      "Validating: 100%|██████████| 8/8 [00:01<00:00,  5.58it/s]\n"
     ]
    },
    {
     "name": "stdout",
     "output_type": "stream",
     "text": [
      "Train Loss: 1.4728, Train Acc: 83.41%\n",
      "Val Loss: 1.0503, Val Acc: 95.69%\n",
      "✓ Saved new best model\n",
      "\n",
      "Epoch 20/20\n",
      "--------------------------------------------------\n"
     ]
    },
    {
     "name": "stderr",
     "output_type": "stream",
     "text": [
      "Training: 100%|██████████| 29/29 [00:18<00:00,  1.54it/s, Loss=1.3836, Acc=89.01%]\n",
      "Validating: 100%|██████████| 8/8 [00:01<00:00,  5.61it/s]\n"
     ]
    },
    {
     "name": "stdout",
     "output_type": "stream",
     "text": [
      "Train Loss: 1.4357, Train Acc: 89.01%\n",
      "Val Loss: 1.0360, Val Acc: 96.55%\n",
      "✓ Saved new best model\n"
     ]
    }
   ],
   "source": [
    "# Create model\n",
    "print(\"Creating enhanced disease prediction model...\")\n",
    "model = DiseaseClassifier(vihealthbert, len(label_encoder.classes_), config)\n",
    "\n",
    "# Create trainer\n",
    "trainer = HealthBERTTrainer(model, train_loader, val_loader, config)\n",
    "\n",
    "# Train model\n",
    "print(\"Starting training...\")\n",
    "history = trainer.train()"
   ]
  },
  {
   "cell_type": "code",
   "execution_count": 14,
   "metadata": {
    "colab": {
     "base_uri": "https://localhost:8080/",
     "height": 351
    },
    "executionInfo": {
     "elapsed": 749,
     "status": "ok",
     "timestamp": 1755075029203,
     "user": {
      "displayName": "Lương Đạt",
      "userId": "11214560588962627512"
     },
     "user_tz": -420
    },
    "id": "sEplhWj_SxA1",
    "outputId": "dc694dfa-9d25-4f0f-fc37-36c1b6f402a9"
   },
   "outputs": [
    {
     "data": {
      "image/png": "[encoded data removed]",
      "text/plain": [
       "<Figure size 1500x500 with 2 Axes>"
      ]
     },
     "metadata": {},
     "output_type": "display_data"
    }
   ],
   "source": [
    "# Plot results\n",
    "plot_training_history(history)"
   ]
  },
  {
   "cell_type": "code",
   "execution_count": 15,
   "metadata": {
    "colab": {
     "base_uri": "https://localhost:8080/"
    },
    "executionInfo": {
     "elapsed": 1295,
     "status": "ok",
     "timestamp": 1755075129346,
     "user": {
      "displayName": "Lương Đạt",
      "userId": "11214560588962627512"
     },
     "user_tz": -420
    },
    "id": "XYUK9B0HSzjE",
    "outputId": "9c73a95c-61f8-4c46-9a3d-e581e9f82e1e"
   },
   "outputs": [
    {
     "name": "stderr",
     "output_type": "stream",
     "text": [
      "Evaluating: 100%|██████████| 8/8 [00:01<00:00,  5.45it/s]"
     ]
    },
    {
     "name": "stdout",
     "output_type": "stream",
     "text": [
      "\n",
      "Evaluation Results:\n",
      "Accuracy: 0.9655\n",
      "Precision: 0.9754\n",
      "Recall: 0.9655\n",
      "F1-Score: 0.9662\n",
      "\n",
      "Detailed Classification Report:\n",
      "                         precision    recall  f1-score   support\n",
      "\n",
      "                căng_cơ       1.00      1.00      1.00         4\n",
      "                cảm_cúm       1.00      0.75      0.86         4\n",
      "       di_ứng_thực_phẩm       1.00      1.00      1.00         3\n",
      "       dị_ứng_thời_tiết       1.00      1.00      1.00         4\n",
      "              hen_suyễn       1.00      1.00      1.00         5\n",
      "           hạ_canxi_máu       1.00      1.00      1.00         1\n",
      "                khô_mắt       1.00      1.00      1.00         3\n",
      "               say_nắng       0.80      1.00      0.89         4\n",
      "               sỏi_thận       1.00      1.00      1.00         1\n",
      "           sốt_phát_ban       1.00      1.00      1.00         6\n",
      "              thiếu_máu       1.00      1.00      1.00         4\n",
      "  thoái_hoá_cột_sống_cổ       1.00      1.00      1.00         4\n",
      "thoái_hoá_cột_sống_lưng       1.00      1.00      1.00         6\n",
      "                    trĩ       1.00      1.00      1.00         6\n",
      "              trật_khớp       1.00      1.00      1.00         4\n",
      "                táo_bón       1.00      0.67      0.80         3\n",
      "               tắc_ruột       0.50      1.00      0.67         1\n",
      "             viêm_gan_b       1.00      1.00      1.00         4\n",
      "             viêm_gan_c       1.00      1.00      1.00         5\n",
      "              viêm_khớp       1.00      1.00      1.00         5\n",
      "        viêm_mũi_dị_ứng       1.00      1.00      1.00         4\n",
      "          viêm_mũi_họng       1.00      0.83      0.91         6\n",
      "          viêm_phế_quản       1.00      1.00      1.00         3\n",
      "              viêm_phổi       0.89      1.00      0.94         8\n",
      "             viêm_xoang       0.67      1.00      0.80         2\n",
      "             viêm_xương       1.00      1.00      1.00         2\n",
      "             đau_dạ_dày       1.00      1.00      1.00         4\n",
      "          đau_thắt_ngực       1.00      1.00      1.00         5\n",
      "                đột_quỵ       1.00      0.80      0.89         5\n",
      "\n",
      "               accuracy                           0.97       116\n",
      "              macro avg       0.96      0.97      0.96       116\n",
      "           weighted avg       0.98      0.97      0.97       116\n",
      "\n"
     ]
    },
    {
     "name": "stderr",
     "output_type": "stream",
     "text": [
      "\n"
     ]
    },
    {
     "data": {
      "text/plain": [
       "(0.9655172413793104, 0.975383141762452, 0.9655172413793104, 0.9661999596076675)"
      ]
     },
     "execution_count": 15,
     "metadata": {},
     "output_type": "execute_result"
    }
   ],
   "source": [
    "# Evaluate model\n",
    "device = torch.device('cuda' if torch.cuda.is_available() else 'cpu')\n",
    "evaluate_model(model, val_loader, label_encoder, device)"
   ]
  },
  {
   "cell_type": "markdown",
   "metadata": {
    "id": "zkbVLa4rRWJY"
   },
   "source": [
    "# Prediction\n"
   ]
  },
  {
   "cell_type": "code",
   "execution_count": 16,
   "metadata": {
    "executionInfo": {
     "elapsed": 14,
     "status": "ok",
     "timestamp": 1755075204417,
     "user": {
      "displayName": "Lương Đạt",
      "userId": "11214560588962627512"
     },
     "user_tz": -420
    },
    "id": "RCXlIYSxSbOE"
   },
   "outputs": [],
   "source": [
    "def predict_disease(model, tokenizer, label_encoder, text, device, max_length=256, top_k=3):\n",
    "    model.eval()\n",
    "    processed_text = preprocess_text(text)\n",
    "    encoding = tokenizer(\n",
    "        processed_text,\n",
    "        add_special_tokens=True,\n",
    "        max_length=max_length,\n",
    "        padding='max_length',\n",
    "        truncation=True,\n",
    "        return_attention_mask=True,\n",
    "        return_tensors='pt'\n",
    "    )\n",
    "    input_ids = encoding['input_ids'].to(device)\n",
    "    attention_mask = encoding['attention_mask'].to(device)\n",
    "    with torch.no_grad():\n",
    "        logits = model(input_ids, attention_mask)\n",
    "        probs = F.softmax(logits, dim=1).cpu().numpy()[0]\n",
    "    top_indices = np.argsort(probs)[::-1][:top_k]\n",
    "    top_labels = label_encoder.inverse_transform(top_indices)\n",
    "    top_probs = probs[top_indices]\n",
    "    return top_labels, top_probs, probs\n",
    "\n",
    "def explain_prediction(top_labels, top_scores, threshold=0.5):\n",
    "    if top_scores[0] >= threshold:\n",
    "        return f\"Bệnh dự đoán: {top_labels[0]} (độ tin cậy: {top_scores[0]:.2f})\"\n",
    "    else:\n",
    "        return f\"Có thể là: {', '.join(top_labels[:2])} (độ tin cậy: {top_scores[0]:.2f}, {top_scores[1]:.2f})\""
   ]
  },
  {
   "cell_type": "code",
   "execution_count": null,
   "metadata": {
    "colab": {
     "base_uri": "https://localhost:8080/"
    },
    "executionInfo": {
     "elapsed": 63,
     "status": "ok",
     "timestamp": 1755076750619,
     "user": {
      "displayName": "Lương Đạt",
      "userId": "11214560588962627512"
     },
     "user_tz": -420
    },
    "id": "IfKL9StptscZ",
    "outputId": "7cfb6283-3f2b-4f74-cbc4-99eb16df784b"
   },
   "outputs": [
    {
     "name": "stdout",
     "output_type": "stream",
     "text": [
      "\n",
      "============================================================\n",
      "TESTING DISEASE PREDICTION:\n",
      "============================================================\n",
      "\n",
      "Symptoms:  tôi bị chóng mặt buồn nôn\n",
      "Có thể là: cảm_cúm, khô_mắt (độ tin cậy: 0.12, 0.08)\n",
      "Top 3 predictions:\n",
      "  1. cảm_cúm: 0.1197\n",
      "  2. khô_mắt: 0.0793\n",
      "  3. viêm_gan_b: 0.0743\n",
      "--------------------------------------------------\n",
      "\n",
      "Symptoms: tôi đang bị da bị phù lên, da bị xung huyết, nổi mề đay\n",
      "Bệnh dự đoán: dị_ứng_thời_tiết (độ tin cậy: 0.51)\n",
      "Top 3 predictions:\n",
      "  1. dị_ứng_thời_tiết: 0.5064\n",
      "  2. viêm_xương: 0.0922\n",
      "  3. trật_khớp: 0.0896\n",
      "--------------------------------------------------\n",
      "\n",
      "Symptoms: tôi bị Sốt cao trên 39.4 độ C,  phát ban, khó chịu, chán ăn\n",
      "Có thể là: viêm_gan_b, viêm_phế_quản (độ tin cậy: 0.14, 0.08)\n",
      "Top 3 predictions:\n",
      "  1. viêm_gan_b: 0.1386\n",
      "  2. viêm_phế_quản: 0.0824\n",
      "  3. say_nắng: 0.0709\n",
      "--------------------------------------------------\n"
     ]
    }
   ],
   "source": [
    "\n",
    "# Test predictions with symptom examples\n",
    "test_cases = [\n",
    "    \" tôi bị chóng mặt buồn nôn\",\n",
    "    \"tôi đang bị da bị phù lên, da bị xung huyết, nổi mề đay\",\n",
    "    \"tôi bị Sốt cao trên 39.4 độ C,  phát ban, khó chịu, chán ăn\"\n",
    "]\n",
    "\n",
    "print(f\"\\n{'='*60}\")\n",
    "print(\"TESTING DISEASE PREDICTION:\")\n",
    "print(f\"{'='*60}\")\n",
    "\n",
    "for test_text in test_cases:\n",
    "    print(f\"\\nSymptoms: {test_text}\")\n",
    "\n",
    "    top_labels, top_scores, combined = predict_disease(\n",
    "        model, tokenizer, label_encoder, test_text, device, max_length=256, top_k=3\n",
    "    )\n",
    "    print(explain_prediction(top_labels, top_scores))\n",
    "\n",
    "    # Show top 3 predictions\n",
    "    print(\"Top 3 predictions:\")\n",
    "    for i, label in enumerate(top_labels):\n",
    "        print(f\"  {i+1}. {label}: {top_scores[i]:.4f}\")\n",
    "    print(\"-\" * 50)\n"
   ]
  },
  {
   "cell_type": "code",
   "execution_count": null,
   "metadata": {
    "colab": {
     "base_uri": "https://localhost:8080/"
    },
    "executionInfo": {
     "elapsed": 3450,
     "status": "ok",
     "timestamp": 1754717491853,
     "user": {
      "displayName": "Lương Đạt",
      "userId": "11214560588962627512"
     },
     "user_tz": -420
    },
    "id": "CBwSLTg6TRde",
    "outputId": "3112fdba-df06-4b80-f2ce-4798c7fe502f"
   },
   "outputs": [
    {
     "name": "stdout",
     "output_type": "stream",
     "text": [
      "\n",
      "Saving trained model...\n",
      "✓ Model saved successfully!\n"
     ]
    }
   ],
   "source": [
    "# Save the trained model and tokenizer for future use\n",
    "print(\"\\nSaving trained model...\")\n",
    "torch.save({\n",
    "    'model_state_dict': model.state_dict(),\n",
    "    'label_encoder': label_encoder,\n",
    "    'config': config\n",
    "}, 'vihealthbert_disease_norules_model.pth')\n",
    "\n",
    "print(\"✓ Model saved successfully!\")"
   ]
  }
 ],
 "metadata": {
  "accelerator": "GPU",
  "colab": {
   "authorship_tag": "ABX9TyPQInbx+6E6dNYwcnJM7MLg",
   "gpuType": "T4",
   "provenance": []
  },
  "kernelspec": {
   "display_name": "Python 3",
   "name": "python3"
  },
  "language_info": {
   "name": "python"
  },
  "widgets": {
   "application/vnd.jupyter.widget-state+json": {
    "01c8966d963c441fa3e0a71eaf16559f": {
     "model_module": "@jupyter-widgets/controls",
     "model_module_version": "1.5.0",
     "model_name": "DescriptionStyleModel",
     "state": {
      "_model_module": "@jupyter-widgets/controls",
      "_model_module_version": "1.5.0",
      "_model_name": "DescriptionStyleModel",
      "_view_count": null,
      "_view_module": "@jupyter-widgets/base",
      "_view_module_version": "1.2.0",
      "_view_name": "StyleView",
      "description_width": ""
     }
    },
    "0278538e39a54555ab95d58896f1e0e8": {
     "model_module": "@jupyter-widgets/base",
     "model_module_version": "1.2.0",
     "model_name": "LayoutModel",
     "state": {
      "_model_module": "@jupyter-widgets/base",
      "_model_module_version": "1.2.0",
      "_model_name": "LayoutModel",
      "_view_count": null,
      "_view_module": "@jupyter-widgets/base",
      "_view_module_version": "1.2.0",
      "_view_name": "LayoutView",
      "align_content": null,
      "align_items": null,
      "align_self": null,
      "border": null,
      "bottom": null,
      "display": null,
      "flex": null,
      "flex_flow": null,
      "grid_area": null,
      "grid_auto_columns": null,
      "grid_auto_flow": null,
      "grid_auto_rows": null,
      "grid_column": null,
      "grid_gap": null,
      "grid_row": null,
      "grid_template_areas": null,
      "grid_template_columns": null,
      "grid_template_rows": null,
      "height": null,
      "justify_content": null,
      "justify_items": null,
      "left": null,
      "margin": null,
      "max_height": null,
      "max_width": null,
      "min_height": null,
      "min_width": null,
      "object_fit": null,
      "object_position": null,
      "order": null,
      "overflow": null,
      "overflow_x": null,
      "overflow_y": null,
      "padding": null,
      "right": null,
      "top": null,
      "visibility": null,
      "width": "20px"
     }
    },
    "052112ae4c5a42ac8c8212e47f6ec4f3": {
     "model_module": "@jupyter-widgets/base",
     "model_module_version": "1.2.0",
     "model_name": "LayoutModel",
     "state": {
      "_model_module": "@jupyter-widgets/base",
      "_model_module_version": "1.2.0",
      "_model_name": "LayoutModel",
      "_view_count": null,
      "_view_module": "@jupyter-widgets/base",
      "_view_module_version": "1.2.0",
      "_view_name": "LayoutView",
      "align_content": null,
      "align_items": null,
      "align_self": null,
      "border": null,
      "bottom": null,
      "display": null,
      "flex": null,
      "flex_flow": null,
      "grid_area": null,
      "grid_auto_columns": null,
      "grid_auto_flow": null,
      "grid_auto_rows": null,
      "grid_column": null,
      "grid_gap": null,
      "grid_row": null,
      "grid_template_areas": null,
      "grid_template_columns": null,
      "grid_template_rows": null,
      "height": null,
      "justify_content": null,
      "justify_items": null,
      "left": null,
      "margin": null,
      "max_height": null,
      "max_width": null,
      "min_height": null,
      "min_width": null,
      "object_fit": null,
      "object_position": null,
      "order": null,
      "overflow": null,
      "overflow_x": null,
      "overflow_y": null,
      "padding": null,
      "right": null,
      "top": null,
      "visibility": null,
      "width": null
     }
    },
    "115d7fb031384732a754ea87937b718a": {
     "model_module": "@jupyter-widgets/controls",
     "model_module_version": "1.5.0",
     "model_name": "HTMLModel",
     "state": {
      "_dom_classes": [],
      "_model_module": "@jupyter-widgets/controls",
      "_model_module_version": "1.5.0",
      "_model_name": "HTMLModel",
      "_view_count": null,
      "_view_module": "@jupyter-widgets/controls",
      "_view_module_version": "1.5.0",
      "_view_name": "HTMLView",
      "description": "",
      "description_tooltip": null,
      "layout": "IPY_MODEL_bc174fc3876d494f9d1404e76088360f",
      "placeholder": "​",
      "style": "IPY_MODEL_477aa15dd6a5497b85d0c9218392ac95",
      "value": " 540M/540M [00:08&lt;00:00, 81.6MB/s]"
     }
    },
    "148f35e3f05441ea881c0a26f9640462": {
     "model_module": "@jupyter-widgets/controls",
     "model_module_version": "1.5.0",
     "model_name": "ProgressStyleModel",
     "state": {
      "_model_module": "@jupyter-widgets/controls",
      "_model_module_version": "1.5.0",
      "_model_name": "ProgressStyleModel",
      "_view_count": null,
      "_view_module": "@jupyter-widgets/base",
      "_view_module_version": "1.2.0",
      "_view_name": "StyleView",
      "bar_color": null,
      "description_width": ""
     }
    },
    "22b7948302844eaa9c1d152f2ccab866": {
     "model_module": "@jupyter-widgets/controls",
     "model_module_version": "1.5.0",
     "model_name": "DescriptionStyleModel",
     "state": {
      "_model_module": "@jupyter-widgets/controls",
      "_model_module_version": "1.5.0",
      "_model_name": "DescriptionStyleModel",
      "_view_count": null,
      "_view_module": "@jupyter-widgets/base",
      "_view_module_version": "1.2.0",
      "_view_name": "StyleView",
      "description_width": ""
     }
    },
    "237763d7463f4c29850fd18b91d3cc90": {
     "model_module": "@jupyter-widgets/base",
     "model_module_version": "1.2.0",
     "model_name": "LayoutModel",
     "state": {
      "_model_module": "@jupyter-widgets/base",
      "_model_module_version": "1.2.0",
      "_model_name": "LayoutModel",
      "_view_count": null,
      "_view_module": "@jupyter-widgets/base",
      "_view_module_version": "1.2.0",
      "_view_name": "LayoutView",
      "align_content": null,
      "align_items": null,
      "align_self": null,
      "border": null,
      "bottom": null,
      "display": null,
      "flex": null,
      "flex_flow": null,
      "grid_area": null,
      "grid_auto_columns": null,
      "grid_auto_flow": null,
      "grid_auto_rows": null,
      "grid_column": null,
      "grid_gap": null,
      "grid_row": null,
      "grid_template_areas": null,
      "grid_template_columns": null,
      "grid_template_rows": null,
      "height": null,
      "justify_content": null,
      "justify_items": null,
      "left": null,
      "margin": null,
      "max_height": null,
      "max_width": null,
      "min_height": null,
      "min_width": null,
      "object_fit": null,
      "object_position": null,
      "order": null,
      "overflow": null,
      "overflow_x": null,
      "overflow_y": null,
      "padding": null,
      "right": null,
      "top": null,
      "visibility": null,
      "width": null
     }
    },
    "256b17f5dfa14977b4b6aede110725e6": {
     "model_module": "@jupyter-widgets/controls",
     "model_module_version": "1.5.0",
     "model_name": "HTMLModel",
     "state": {
      "_dom_classes": [],
      "_model_module": "@jupyter-widgets/controls",
      "_model_module_version": "1.5.0",
      "_model_name": "HTMLModel",
      "_view_count": null,
      "_view_module": "@jupyter-widgets/controls",
      "_view_module_version": "1.5.0",
      "_view_name": "HTMLView",
      "description": "",
      "description_tooltip": null,
      "layout": "IPY_MODEL_7f98c3b4fb404879b67b36ce9b7bf68c",
      "placeholder": "​",
      "style": "IPY_MODEL_22b7948302844eaa9c1d152f2ccab866",
      "value": "vocab.txt: "
     }
    },
    "26a2ee6190984984aede33dd019ae71b": {
     "model_module": "@jupyter-widgets/controls",
     "model_module_version": "1.5.0",
     "model_name": "FloatProgressModel",
     "state": {
      "_dom_classes": [],
      "_model_module": "@jupyter-widgets/controls",
      "_model_module_version": "1.5.0",
      "_model_name": "FloatProgressModel",
      "_view_count": null,
      "_view_module": "@jupyter-widgets/controls",
      "_view_module_version": "1.5.0",
      "_view_name": "ProgressView",
      "bar_style": "success",
      "description": "",
      "description_tooltip": null,
      "layout": "IPY_MODEL_c03cf871e03c40a4a1d2ace19d753a90",
      "max": 540017608,
      "min": 0,
      "orientation": "horizontal",
      "style": "IPY_MODEL_bebed93b3865424fa3f839bdbda9aae4",
      "value": 540017608
     }
    },
    "29c1fd1436014071b2d13ff44d5c7df9": {
     "model_module": "@jupyter-widgets/controls",
     "model_module_version": "1.5.0",
     "model_name": "FloatProgressModel",
     "state": {
      "_dom_classes": [],
      "_model_module": "@jupyter-widgets/controls",
      "_model_module_version": "1.5.0",
      "_model_name": "FloatProgressModel",
      "_view_count": null,
      "_view_module": "@jupyter-widgets/controls",
      "_view_module_version": "1.5.0",
      "_view_name": "ProgressView",
      "bar_style": "success",
      "description": "",
      "description_tooltip": null,
      "layout": "IPY_MODEL_b048fac883304f719b2aa8eb830fca95",
      "max": 540072433,
      "min": 0,
      "orientation": "horizontal",
      "style": "IPY_MODEL_148f35e3f05441ea881c0a26f9640462",
      "value": 540072433
     }
    },
    "304d772d9b754c1487a5c83224ca71e3": {
     "model_module": "@jupyter-widgets/base",
     "model_module_version": "1.2.0",
     "model_name": "LayoutModel",
     "state": {
      "_model_module": "@jupyter-widgets/base",
      "_model_module_version": "1.2.0",
      "_model_name": "LayoutModel",
      "_view_count": null,
      "_view_module": "@jupyter-widgets/base",
      "_view_module_version": "1.2.0",
      "_view_name": "LayoutView",
      "align_content": null,
      "align_items": null,
      "align_self": null,
      "border": null,
      "bottom": null,
      "display": null,
      "flex": null,
      "flex_flow": null,
      "grid_area": null,
      "grid_auto_columns": null,
      "grid_auto_flow": null,
      "grid_auto_rows": null,
      "grid_column": null,
      "grid_gap": null,
      "grid_row": null,
      "grid_template_areas": null,
      "grid_template_columns": null,
      "grid_template_rows": null,
      "height": null,
      "justify_content": null,
      "justify_items": null,
      "left": null,
      "margin": null,
      "max_height": null,
      "max_width": null,
      "min_height": null,
      "min_width": null,
      "object_fit": null,
      "object_position": null,
      "order": null,
      "overflow": null,
      "overflow_x": null,
      "overflow_y": null,
      "padding": null,
      "right": null,
      "top": null,
      "visibility": null,
      "width": null
     }
    },
    "32a9df361bf5419ca1151428e2862076": {
     "model_module": "@jupyter-widgets/controls",
     "model_module_version": "1.5.0",
     "model_name": "HBoxModel",
     "state": {
      "_dom_classes": [],
      "_model_module": "@jupyter-widgets/controls",
      "_model_module_version": "1.5.0",
      "_model_name": "HBoxModel",
      "_view_count": null,
      "_view_module": "@jupyter-widgets/controls",
      "_view_module_version": "1.5.0",
      "_view_name": "HBoxView",
      "box_style": "",
      "children": [
       "IPY_MODEL_9bf0c376a6344212bd695e880f7cf6a4",
       "IPY_MODEL_e2ddaf1144574ce7afb3dd00800f0e8e",
       "IPY_MODEL_54e7e604f452457989d5a86a4db3fb2e"
      ],
      "layout": "IPY_MODEL_da01ca18733d4c169880c79bf036e1b7"
     }
    },
    "36a71a76fd7a4057bb12b2f9bbae2f72": {
     "model_module": "@jupyter-widgets/controls",
     "model_module_version": "1.5.0",
     "model_name": "DescriptionStyleModel",
     "state": {
      "_model_module": "@jupyter-widgets/controls",
      "_model_module_version": "1.5.0",
      "_model_name": "DescriptionStyleModel",
      "_view_count": null,
      "_view_module": "@jupyter-widgets/base",
      "_view_module_version": "1.2.0",
      "_view_name": "StyleView",
      "description_width": ""
     }
    },
    "3e91837eaea1429d8be41a56123755f9": {
     "model_module": "@jupyter-widgets/controls",
     "model_module_version": "1.5.0",
     "model_name": "HTMLModel",
     "state": {
      "_dom_classes": [],
      "_model_module": "@jupyter-widgets/controls",
      "_model_module_version": "1.5.0",
      "_model_name": "HTMLModel",
      "_view_count": null,
      "_view_module": "@jupyter-widgets/controls",
      "_view_module_version": "1.5.0",
      "_view_name": "HTMLView",
      "description": "",
      "description_tooltip": null,
      "layout": "IPY_MODEL_aea8d6cbd9bc4a5293533846c31288c4",
      "placeholder": "​",
      "style": "IPY_MODEL_e717a980c9204c998c56f9e9e53c3bc7",
      "value": "model.safetensors: 100%"
     }
    },
    "441e6999c04e4aab8366ae6f98c2cd78": {
     "model_module": "@jupyter-widgets/controls",
     "model_module_version": "1.5.0",
     "model_name": "DescriptionStyleModel",
     "state": {
      "_model_module": "@jupyter-widgets/controls",
      "_model_module_version": "1.5.0",
      "_model_name": "DescriptionStyleModel",
      "_view_count": null,
      "_view_module": "@jupyter-widgets/base",
      "_view_module_version": "1.2.0",
      "_view_name": "StyleView",
      "description_width": ""
     }
    },
    "477aa15dd6a5497b85d0c9218392ac95": {
     "model_module": "@jupyter-widgets/controls",
     "model_module_version": "1.5.0",
     "model_name": "DescriptionStyleModel",
     "state": {
      "_model_module": "@jupyter-widgets/controls",
      "_model_module_version": "1.5.0",
      "_model_name": "DescriptionStyleModel",
      "_view_count": null,
      "_view_module": "@jupyter-widgets/base",
      "_view_module_version": "1.2.0",
      "_view_name": "StyleView",
      "description_width": ""
     }
    },
    "52d59b65bd0f4603a1661e8d04d014e2": {
     "model_module": "@jupyter-widgets/base",
     "model_module_version": "1.2.0",
     "model_name": "LayoutModel",
     "state": {
      "_model_module": "@jupyter-widgets/base",
      "_model_module_version": "1.2.0",
      "_model_name": "LayoutModel",
      "_view_count": null,
      "_view_module": "@jupyter-widgets/base",
      "_view_module_version": "1.2.0",
      "_view_name": "LayoutView",
      "align_content": null,
      "align_items": null,
      "align_self": null,
      "border": null,
      "bottom": null,
      "display": null,
      "flex": null,
      "flex_flow": null,
      "grid_area": null,
      "grid_auto_columns": null,
      "grid_auto_flow": null,
      "grid_auto_rows": null,
      "grid_column": null,
      "grid_gap": null,
      "grid_row": null,
      "grid_template_areas": null,
      "grid_template_columns": null,
      "grid_template_rows": null,
      "height": null,
      "justify_content": null,
      "justify_items": null,
      "left": null,
      "margin": null,
      "max_height": null,
      "max_width": null,
      "min_height": null,
      "min_width": null,
      "object_fit": null,
      "object_position": null,
      "order": null,
      "overflow": null,
      "overflow_x": null,
      "overflow_y": null,
      "padding": null,
      "right": null,
      "top": null,
      "visibility": null,
      "width": null
     }
    },
    "54e7e604f452457989d5a86a4db3fb2e": {
     "model_module": "@jupyter-widgets/controls",
     "model_module_version": "1.5.0",
     "model_name": "HTMLModel",
     "state": {
      "_dom_classes": [],
      "_model_module": "@jupyter-widgets/controls",
      "_model_module_version": "1.5.0",
      "_model_name": "HTMLModel",
      "_view_count": null,
      "_view_module": "@jupyter-widgets/controls",
      "_view_module_version": "1.5.0",
      "_view_name": "HTMLView",
      "description": "",
      "description_tooltip": null,
      "layout": "IPY_MODEL_f7cf8780178c409f9277cc843319bd7f",
      "placeholder": "​",
      "style": "IPY_MODEL_7c07f1434bde43b4b85b80e40c5a17d1",
      "value": " 817/817 [00:00&lt;00:00, 65.2kB/s]"
     }
    },
    "57625a06e0654506870027eee4cebe6b": {
     "model_module": "@jupyter-widgets/controls",
     "model_module_version": "1.5.0",
     "model_name": "HBoxModel",
     "state": {
      "_dom_classes": [],
      "_model_module": "@jupyter-widgets/controls",
      "_model_module_version": "1.5.0",
      "_model_name": "HBoxModel",
      "_view_count": null,
      "_view_module": "@jupyter-widgets/controls",
      "_view_module_version": "1.5.0",
      "_view_name": "HBoxView",
      "box_style": "",
      "children": [
       "IPY_MODEL_3e91837eaea1429d8be41a56123755f9",
       "IPY_MODEL_26a2ee6190984984aede33dd019ae71b",
       "IPY_MODEL_115d7fb031384732a754ea87937b718a"
      ],
      "layout": "IPY_MODEL_d328f0db54be46b2ab261f8526689797"
     }
    },
    "5a214efc999e4b63825e7fcd2f8de25b": {
     "model_module": "@jupyter-widgets/controls",
     "model_module_version": "1.5.0",
     "model_name": "HTMLModel",
     "state": {
      "_dom_classes": [],
      "_model_module": "@jupyter-widgets/controls",
      "_model_module_version": "1.5.0",
      "_model_name": "HTMLModel",
      "_view_count": null,
      "_view_module": "@jupyter-widgets/controls",
      "_view_module_version": "1.5.0",
      "_view_name": "HTMLView",
      "description": "",
      "description_tooltip": null,
      "layout": "IPY_MODEL_a5ec653403004c6eb6024bf82c3015f3",
      "placeholder": "​",
      "style": "IPY_MODEL_abc5aa16d5124cb0850da4be6424af39",
      "value": " 540M/540M [00:09&lt;00:00, 51.8MB/s]"
     }
    },
    "771a882b08cd44ea9364075c215e77ce": {
     "model_module": "@jupyter-widgets/controls",
     "model_module_version": "1.5.0",
     "model_name": "ProgressStyleModel",
     "state": {
      "_model_module": "@jupyter-widgets/controls",
      "_model_module_version": "1.5.0",
      "_model_name": "ProgressStyleModel",
      "_view_count": null,
      "_view_module": "@jupyter-widgets/base",
      "_view_module_version": "1.2.0",
      "_view_name": "StyleView",
      "bar_color": null,
      "description_width": ""
     }
    },
    "7c07f1434bde43b4b85b80e40c5a17d1": {
     "model_module": "@jupyter-widgets/controls",
     "model_module_version": "1.5.0",
     "model_name": "DescriptionStyleModel",
     "state": {
      "_model_module": "@jupyter-widgets/controls",
      "_model_module_version": "1.5.0",
      "_model_name": "DescriptionStyleModel",
      "_view_count": null,
      "_view_module": "@jupyter-widgets/base",
      "_view_module_version": "1.2.0",
      "_view_name": "StyleView",
      "description_width": ""
     }
    },
    "7f98c3b4fb404879b67b36ce9b7bf68c": {
     "model_module": "@jupyter-widgets/base",
     "model_module_version": "1.2.0",
     "model_name": "LayoutModel",
     "state": {
      "_model_module": "@jupyter-widgets/base",
      "_model_module_version": "1.2.0",
      "_model_name": "LayoutModel",
      "_view_count": null,
      "_view_module": "@jupyter-widgets/base",
      "_view_module_version": "1.2.0",
      "_view_name": "LayoutView",
      "align_content": null,
      "align_items": null,
      "align_self": null,
      "border": null,
      "bottom": null,
      "display": null,
      "flex": null,
      "flex_flow": null,
      "grid_area": null,
      "grid_auto_columns": null,
      "grid_auto_flow": null,
      "grid_auto_rows": null,
      "grid_column": null,
      "grid_gap": null,
      "grid_row": null,
      "grid_template_areas": null,
      "grid_template_columns": null,
      "grid_template_rows": null,
      "height": null,
      "justify_content": null,
      "justify_items": null,
      "left": null,
      "margin": null,
      "max_height": null,
      "max_width": null,
      "min_height": null,
      "min_width": null,
      "object_fit": null,
      "object_position": null,
      "order": null,
      "overflow": null,
      "overflow_x": null,
      "overflow_y": null,
      "padding": null,
      "right": null,
      "top": null,
      "visibility": null,
      "width": null
     }
    },
    "82ebe84061374912a88e3f9b83115d58": {
     "model_module": "@jupyter-widgets/controls",
     "model_module_version": "1.5.0",
     "model_name": "HBoxModel",
     "state": {
      "_dom_classes": [],
      "_model_module": "@jupyter-widgets/controls",
      "_model_module_version": "1.5.0",
      "_model_name": "HBoxModel",
      "_view_count": null,
      "_view_module": "@jupyter-widgets/controls",
      "_view_module_version": "1.5.0",
      "_view_name": "HBoxView",
      "box_style": "",
      "children": [
       "IPY_MODEL_256b17f5dfa14977b4b6aede110725e6",
       "IPY_MODEL_b7ca63d3d4874bf9bd5cf8998237c6bd",
       "IPY_MODEL_d3cb2ce88c5041b7a454340e54e5da8b"
      ],
      "layout": "IPY_MODEL_52d59b65bd0f4603a1661e8d04d014e2"
     }
    },
    "85a966209ecc4dd3b5ac2c73540de69d": {
     "model_module": "@jupyter-widgets/controls",
     "model_module_version": "1.5.0",
     "model_name": "HBoxModel",
     "state": {
      "_dom_classes": [],
      "_model_module": "@jupyter-widgets/controls",
      "_model_module_version": "1.5.0",
      "_model_name": "HBoxModel",
      "_view_count": null,
      "_view_module": "@jupyter-widgets/controls",
      "_view_module_version": "1.5.0",
      "_view_name": "HBoxView",
      "box_style": "",
      "children": [
       "IPY_MODEL_a6e77efe79bf46349d1f822a8b870a50",
       "IPY_MODEL_29c1fd1436014071b2d13ff44d5c7df9",
       "IPY_MODEL_5a214efc999e4b63825e7fcd2f8de25b"
      ],
      "layout": "IPY_MODEL_e6aee8fc7c1a4cbda0c8b44b96a35d20"
     }
    },
    "9bf0c376a6344212bd695e880f7cf6a4": {
     "model_module": "@jupyter-widgets/controls",
     "model_module_version": "1.5.0",
     "model_name": "HTMLModel",
     "state": {
      "_dom_classes": [],
      "_model_module": "@jupyter-widgets/controls",
      "_model_module_version": "1.5.0",
      "_model_name": "HTMLModel",
      "_view_count": null,
      "_view_module": "@jupyter-widgets/controls",
      "_view_module_version": "1.5.0",
      "_view_name": "HTMLView",
      "description": "",
      "description_tooltip": null,
      "layout": "IPY_MODEL_b1c04840d6d24b5494589704c72184f2",
      "placeholder": "​",
      "style": "IPY_MODEL_ea9638b64ff847c693934f6b9fced33f",
      "value": "config.json: 100%"
     }
    },
    "a1a571aba3094235ae72ad0a0f7c0ea1": {
     "model_module": "@jupyter-widgets/controls",
     "model_module_version": "1.5.0",
     "model_name": "ProgressStyleModel",
     "state": {
      "_model_module": "@jupyter-widgets/controls",
      "_model_module_version": "1.5.0",
      "_model_name": "ProgressStyleModel",
      "_view_count": null,
      "_view_module": "@jupyter-widgets/base",
      "_view_module_version": "1.2.0",
      "_view_name": "StyleView",
      "bar_color": null,
      "description_width": ""
     }
    },
    "a5c91d288d9a428da5b3237f347e2a18": {
     "model_module": "@jupyter-widgets/base",
     "model_module_version": "1.2.0",
     "model_name": "LayoutModel",
     "state": {
      "_model_module": "@jupyter-widgets/base",
      "_model_module_version": "1.2.0",
      "_model_name": "LayoutModel",
      "_view_count": null,
      "_view_module": "@jupyter-widgets/base",
      "_view_module_version": "1.2.0",
      "_view_name": "LayoutView",
      "align_content": null,
      "align_items": null,
      "align_self": null,
      "border": null,
      "bottom": null,
      "display": null,
      "flex": null,
      "flex_flow": null,
      "grid_area": null,
      "grid_auto_columns": null,
      "grid_auto_flow": null,
      "grid_auto_rows": null,
      "grid_column": null,
      "grid_gap": null,
      "grid_row": null,
      "grid_template_areas": null,
      "grid_template_columns": null,
      "grid_template_rows": null,
      "height": null,
      "justify_content": null,
      "justify_items": null,
      "left": null,
      "margin": null,
      "max_height": null,
      "max_width": null,
      "min_height": null,
      "min_width": null,
      "object_fit": null,
      "object_position": null,
      "order": null,
      "overflow": null,
      "overflow_x": null,
      "overflow_y": null,
      "padding": null,
      "right": null,
      "top": null,
      "visibility": null,
      "width": null
     }
    },
    "a5ec653403004c6eb6024bf82c3015f3": {
     "model_module": "@jupyter-widgets/base",
     "model_module_version": "1.2.0",
     "model_name": "LayoutModel",
     "state": {
      "_model_module": "@jupyter-widgets/base",
      "_model_module_version": "1.2.0",
      "_model_name": "LayoutModel",
      "_view_count": null,
      "_view_module": "@jupyter-widgets/base",
      "_view_module_version": "1.2.0",
      "_view_name": "LayoutView",
      "align_content": null,
      "align_items": null,
      "align_self": null,
      "border": null,
      "bottom": null,
      "display": null,
      "flex": null,
      "flex_flow": null,
      "grid_area": null,
      "grid_auto_columns": null,
      "grid_auto_flow": null,
      "grid_auto_rows": null,
      "grid_column": null,
      "grid_gap": null,
      "grid_row": null,
      "grid_template_areas": null,
      "grid_template_columns": null,
      "grid_template_rows": null,
      "height": null,
      "justify_content": null,
      "justify_items": null,
      "left": null,
      "margin": null,
      "max_height": null,
      "max_width": null,
      "min_height": null,
      "min_width": null,
      "object_fit": null,
      "object_position": null,
      "order": null,
      "overflow": null,
      "overflow_x": null,
      "overflow_y": null,
      "padding": null,
      "right": null,
      "top": null,
      "visibility": null,
      "width": null
     }
    },
    "a6e77efe79bf46349d1f822a8b870a50": {
     "model_module": "@jupyter-widgets/controls",
     "model_module_version": "1.5.0",
     "model_name": "HTMLModel",
     "state": {
      "_dom_classes": [],
      "_model_module": "@jupyter-widgets/controls",
      "_model_module_version": "1.5.0",
      "_model_name": "HTMLModel",
      "_view_count": null,
      "_view_module": "@jupyter-widgets/controls",
      "_view_module_version": "1.5.0",
      "_view_name": "HTMLView",
      "description": "",
      "description_tooltip": null,
      "layout": "IPY_MODEL_237763d7463f4c29850fd18b91d3cc90",
      "placeholder": "​",
      "style": "IPY_MODEL_36a71a76fd7a4057bb12b2f9bbae2f72",
      "value": "pytorch_model.bin: 100%"
     }
    },
    "a7a11007526245d4b3b8e0917075983e": {
     "model_module": "@jupyter-widgets/controls",
     "model_module_version": "1.5.0",
     "model_name": "ProgressStyleModel",
     "state": {
      "_model_module": "@jupyter-widgets/controls",
      "_model_module_version": "1.5.0",
      "_model_name": "ProgressStyleModel",
      "_view_count": null,
      "_view_module": "@jupyter-widgets/base",
      "_view_module_version": "1.2.0",
      "_view_name": "StyleView",
      "bar_color": null,
      "description_width": ""
     }
    },
    "abc5aa16d5124cb0850da4be6424af39": {
     "model_module": "@jupyter-widgets/controls",
     "model_module_version": "1.5.0",
     "model_name": "DescriptionStyleModel",
     "state": {
      "_model_module": "@jupyter-widgets/controls",
      "_model_module_version": "1.5.0",
      "_model_name": "DescriptionStyleModel",
      "_view_count": null,
      "_view_module": "@jupyter-widgets/base",
      "_view_module_version": "1.2.0",
      "_view_name": "StyleView",
      "description_width": ""
     }
    },
    "aea8d6cbd9bc4a5293533846c31288c4": {
     "model_module": "@jupyter-widgets/base",
     "model_module_version": "1.2.0",
     "model_name": "LayoutModel",
     "state": {
      "_model_module": "@jupyter-widgets/base",
      "_model_module_version": "1.2.0",
      "_model_name": "LayoutModel",
      "_view_count": null,
      "_view_module": "@jupyter-widgets/base",
      "_view_module_version": "1.2.0",
      "_view_name": "LayoutView",
      "align_content": null,
      "align_items": null,
      "align_self": null,
      "border": null,
      "bottom": null,
      "display": null,
      "flex": null,
      "flex_flow": null,
      "grid_area": null,
      "grid_auto_columns": null,
      "grid_auto_flow": null,
      "grid_auto_rows": null,
      "grid_column": null,
      "grid_gap": null,
      "grid_row": null,
      "grid_template_areas": null,
      "grid_template_columns": null,
      "grid_template_rows": null,
      "height": null,
      "justify_content": null,
      "justify_items": null,
      "left": null,
      "margin": null,
      "max_height": null,
      "max_width": null,
      "min_height": null,
      "min_width": null,
      "object_fit": null,
      "object_position": null,
      "order": null,
      "overflow": null,
      "overflow_x": null,
      "overflow_y": null,
      "padding": null,
      "right": null,
      "top": null,
      "visibility": null,
      "width": null
     }
    },
    "b048fac883304f719b2aa8eb830fca95": {
     "model_module": "@jupyter-widgets/base",
     "model_module_version": "1.2.0",
     "model_name": "LayoutModel",
     "state": {
      "_model_module": "@jupyter-widgets/base",
      "_model_module_version": "1.2.0",
      "_model_name": "LayoutModel",
      "_view_count": null,
      "_view_module": "@jupyter-widgets/base",
      "_view_module_version": "1.2.0",
      "_view_name": "LayoutView",
      "align_content": null,
      "align_items": null,
      "align_self": null,
      "border": null,
      "bottom": null,
      "display": null,
      "flex": null,
      "flex_flow": null,
      "grid_area": null,
      "grid_auto_columns": null,
      "grid_auto_flow": null,
      "grid_auto_rows": null,
      "grid_column": null,
      "grid_gap": null,
      "grid_row": null,
      "grid_template_areas": null,
      "grid_template_columns": null,
      "grid_template_rows": null,
      "height": null,
      "justify_content": null,
      "justify_items": null,
      "left": null,
      "margin": null,
      "max_height": null,
      "max_width": null,
      "min_height": null,
      "min_width": null,
      "object_fit": null,
      "object_position": null,
      "order": null,
      "overflow": null,
      "overflow_x": null,
      "overflow_y": null,
      "padding": null,
      "right": null,
      "top": null,
      "visibility": null,
      "width": null
     }
    },
    "b1c04840d6d24b5494589704c72184f2": {
     "model_module": "@jupyter-widgets/base",
     "model_module_version": "1.2.0",
     "model_name": "LayoutModel",
     "state": {
      "_model_module": "@jupyter-widgets/base",
      "_model_module_version": "1.2.0",
      "_model_name": "LayoutModel",
      "_view_count": null,
      "_view_module": "@jupyter-widgets/base",
      "_view_module_version": "1.2.0",
      "_view_name": "LayoutView",
      "align_content": null,
      "align_items": null,
      "align_self": null,
      "border": null,
      "bottom": null,
      "display": null,
      "flex": null,
      "flex_flow": null,
      "grid_area": null,
      "grid_auto_columns": null,
      "grid_auto_flow": null,
      "grid_auto_rows": null,
      "grid_column": null,
      "grid_gap": null,
      "grid_row": null,
      "grid_template_areas": null,
      "grid_template_columns": null,
      "grid_template_rows": null,
      "height": null,
      "justify_content": null,
      "justify_items": null,
      "left": null,
      "margin": null,
      "max_height": null,
      "max_width": null,
      "min_height": null,
      "min_width": null,
      "object_fit": null,
      "object_position": null,
      "order": null,
      "overflow": null,
      "overflow_x": null,
      "overflow_y": null,
      "padding": null,
      "right": null,
      "top": null,
      "visibility": null,
      "width": null
     }
    },
    "b69b0fcd5e61402f8005f84375efad0a": {
     "model_module": "@jupyter-widgets/controls",
     "model_module_version": "1.5.0",
     "model_name": "HBoxModel",
     "state": {
      "_dom_classes": [],
      "_model_module": "@jupyter-widgets/controls",
      "_model_module_version": "1.5.0",
      "_model_name": "HBoxModel",
      "_view_count": null,
      "_view_module": "@jupyter-widgets/controls",
      "_view_module_version": "1.5.0",
      "_view_name": "HBoxView",
      "box_style": "",
      "children": [
       "IPY_MODEL_d1b276ee5abd4d71b0da4e322c033764",
       "IPY_MODEL_f77f75edbab14f98ac3437c7f1af22b7",
       "IPY_MODEL_f105c8c12a604c86a69bef80e4fa5c37"
      ],
      "layout": "IPY_MODEL_fa5c555c5971469d8af90b6f1eb2f5a3"
     }
    },
    "b7ca63d3d4874bf9bd5cf8998237c6bd": {
     "model_module": "@jupyter-widgets/controls",
     "model_module_version": "1.5.0",
     "model_name": "FloatProgressModel",
     "state": {
      "_dom_classes": [],
      "_model_module": "@jupyter-widgets/controls",
      "_model_module_version": "1.5.0",
      "_model_name": "FloatProgressModel",
      "_view_count": null,
      "_view_module": "@jupyter-widgets/controls",
      "_view_module_version": "1.5.0",
      "_view_name": "ProgressView",
      "bar_style": "success",
      "description": "",
      "description_tooltip": null,
      "layout": "IPY_MODEL_0278538e39a54555ab95d58896f1e0e8",
      "max": 1,
      "min": 0,
      "orientation": "horizontal",
      "style": "IPY_MODEL_a7a11007526245d4b3b8e0917075983e",
      "value": 1
     }
    },
    "bc174fc3876d494f9d1404e76088360f": {
     "model_module": "@jupyter-widgets/base",
     "model_module_version": "1.2.0",
     "model_name": "LayoutModel",
     "state": {
      "_model_module": "@jupyter-widgets/base",
      "_model_module_version": "1.2.0",
      "_model_name": "LayoutModel",
      "_view_count": null,
      "_view_module": "@jupyter-widgets/base",
      "_view_module_version": "1.2.0",
      "_view_name": "LayoutView",
      "align_content": null,
      "align_items": null,
      "align_self": null,
      "border": null,
      "bottom": null,
      "display": null,
      "flex": null,
      "flex_flow": null,
      "grid_area": null,
      "grid_auto_columns": null,
      "grid_auto_flow": null,
      "grid_auto_rows": null,
      "grid_column": null,
      "grid_gap": null,
      "grid_row": null,
      "grid_template_areas": null,
      "grid_template_columns": null,
      "grid_template_rows": null,
      "height": null,
      "justify_content": null,
      "justify_items": null,
      "left": null,
      "margin": null,
      "max_height": null,
      "max_width": null,
      "min_height": null,
      "min_width": null,
      "object_fit": null,
      "object_position": null,
      "order": null,
      "overflow": null,
      "overflow_x": null,
      "overflow_y": null,
      "padding": null,
      "right": null,
      "top": null,
      "visibility": null,
      "width": null
     }
    },
    "bebed93b3865424fa3f839bdbda9aae4": {
     "model_module": "@jupyter-widgets/controls",
     "model_module_version": "1.5.0",
     "model_name": "ProgressStyleModel",
     "state": {
      "_model_module": "@jupyter-widgets/controls",
      "_model_module_version": "1.5.0",
      "_model_name": "ProgressStyleModel",
      "_view_count": null,
      "_view_module": "@jupyter-widgets/base",
      "_view_module_version": "1.2.0",
      "_view_name": "StyleView",
      "bar_color": null,
      "description_width": ""
     }
    },
    "c03cf871e03c40a4a1d2ace19d753a90": {
     "model_module": "@jupyter-widgets/base",
     "model_module_version": "1.2.0",
     "model_name": "LayoutModel",
     "state": {
      "_model_module": "@jupyter-widgets/base",
      "_model_module_version": "1.2.0",
      "_model_name": "LayoutModel",
      "_view_count": null,
      "_view_module": "@jupyter-widgets/base",
      "_view_module_version": "1.2.0",
      "_view_name": "LayoutView",
      "align_content": null,
      "align_items": null,
      "align_self": null,
      "border": null,
      "bottom": null,
      "display": null,
      "flex": null,
      "flex_flow": null,
      "grid_area": null,
      "grid_auto_columns": null,
      "grid_auto_flow": null,
      "grid_auto_rows": null,
      "grid_column": null,
      "grid_gap": null,
      "grid_row": null,
      "grid_template_areas": null,
      "grid_template_columns": null,
      "grid_template_rows": null,
      "height": null,
      "justify_content": null,
      "justify_items": null,
      "left": null,
      "margin": null,
      "max_height": null,
      "max_width": null,
      "min_height": null,
      "min_width": null,
      "object_fit": null,
      "object_position": null,
      "order": null,
      "overflow": null,
      "overflow_x": null,
      "overflow_y": null,
      "padding": null,
      "right": null,
      "top": null,
      "visibility": null,
      "width": null
     }
    },
    "cae1a43a0cf8436fb280ad4e8a6f5ac2": {
     "model_module": "@jupyter-widgets/base",
     "model_module_version": "1.2.0",
     "model_name": "LayoutModel",
     "state": {
      "_model_module": "@jupyter-widgets/base",
      "_model_module_version": "1.2.0",
      "_model_name": "LayoutModel",
      "_view_count": null,
      "_view_module": "@jupyter-widgets/base",
      "_view_module_version": "1.2.0",
      "_view_name": "LayoutView",
      "align_content": null,
      "align_items": null,
      "align_self": null,
      "border": null,
      "bottom": null,
      "display": null,
      "flex": null,
      "flex_flow": null,
      "grid_area": null,
      "grid_auto_columns": null,
      "grid_auto_flow": null,
      "grid_auto_rows": null,
      "grid_column": null,
      "grid_gap": null,
      "grid_row": null,
      "grid_template_areas": null,
      "grid_template_columns": null,
      "grid_template_rows": null,
      "height": null,
      "justify_content": null,
      "justify_items": null,
      "left": null,
      "margin": null,
      "max_height": null,
      "max_width": null,
      "min_height": null,
      "min_width": null,
      "object_fit": null,
      "object_position": null,
      "order": null,
      "overflow": null,
      "overflow_x": null,
      "overflow_y": null,
      "padding": null,
      "right": null,
      "top": null,
      "visibility": null,
      "width": null
     }
    },
    "d0a759ae3a104261aede62ad6c0d6ded": {
     "model_module": "@jupyter-widgets/base",
     "model_module_version": "1.2.0",
     "model_name": "LayoutModel",
     "state": {
      "_model_module": "@jupyter-widgets/base",
      "_model_module_version": "1.2.0",
      "_model_name": "LayoutModel",
      "_view_count": null,
      "_view_module": "@jupyter-widgets/base",
      "_view_module_version": "1.2.0",
      "_view_name": "LayoutView",
      "align_content": null,
      "align_items": null,
      "align_self": null,
      "border": null,
      "bottom": null,
      "display": null,
      "flex": null,
      "flex_flow": null,
      "grid_area": null,
      "grid_auto_columns": null,
      "grid_auto_flow": null,
      "grid_auto_rows": null,
      "grid_column": null,
      "grid_gap": null,
      "grid_row": null,
      "grid_template_areas": null,
      "grid_template_columns": null,
      "grid_template_rows": null,
      "height": null,
      "justify_content": null,
      "justify_items": null,
      "left": null,
      "margin": null,
      "max_height": null,
      "max_width": null,
      "min_height": null,
      "min_width": null,
      "object_fit": null,
      "object_position": null,
      "order": null,
      "overflow": null,
      "overflow_x": null,
      "overflow_y": null,
      "padding": null,
      "right": null,
      "top": null,
      "visibility": null,
      "width": "20px"
     }
    },
    "d1b276ee5abd4d71b0da4e322c033764": {
     "model_module": "@jupyter-widgets/controls",
     "model_module_version": "1.5.0",
     "model_name": "HTMLModel",
     "state": {
      "_dom_classes": [],
      "_model_module": "@jupyter-widgets/controls",
      "_model_module_version": "1.5.0",
      "_model_name": "HTMLModel",
      "_view_count": null,
      "_view_module": "@jupyter-widgets/controls",
      "_view_module_version": "1.5.0",
      "_view_name": "HTMLView",
      "description": "",
      "description_tooltip": null,
      "layout": "IPY_MODEL_a5c91d288d9a428da5b3237f347e2a18",
      "placeholder": "​",
      "style": "IPY_MODEL_edc47a8806ae4c67bea437ffecec40bb",
      "value": "bpe.codes: "
     }
    },
    "d328f0db54be46b2ab261f8526689797": {
     "model_module": "@jupyter-widgets/base",
     "model_module_version": "1.2.0",
     "model_name": "LayoutModel",
     "state": {
      "_model_module": "@jupyter-widgets/base",
      "_model_module_version": "1.2.0",
      "_model_name": "LayoutModel",
      "_view_count": null,
      "_view_module": "@jupyter-widgets/base",
      "_view_module_version": "1.2.0",
      "_view_name": "LayoutView",
      "align_content": null,
      "align_items": null,
      "align_self": null,
      "border": null,
      "bottom": null,
      "display": null,
      "flex": null,
      "flex_flow": null,
      "grid_area": null,
      "grid_auto_columns": null,
      "grid_auto_flow": null,
      "grid_auto_rows": null,
      "grid_column": null,
      "grid_gap": null,
      "grid_row": null,
      "grid_template_areas": null,
      "grid_template_columns": null,
      "grid_template_rows": null,
      "height": null,
      "justify_content": null,
      "justify_items": null,
      "left": null,
      "margin": null,
      "max_height": null,
      "max_width": null,
      "min_height": null,
      "min_width": null,
      "object_fit": null,
      "object_position": null,
      "order": null,
      "overflow": null,
      "overflow_x": null,
      "overflow_y": null,
      "padding": null,
      "right": null,
      "top": null,
      "visibility": null,
      "width": null
     }
    },
    "d3cb2ce88c5041b7a454340e54e5da8b": {
     "model_module": "@jupyter-widgets/controls",
     "model_module_version": "1.5.0",
     "model_name": "HTMLModel",
     "state": {
      "_dom_classes": [],
      "_model_module": "@jupyter-widgets/controls",
      "_model_module_version": "1.5.0",
      "_model_name": "HTMLModel",
      "_view_count": null,
      "_view_module": "@jupyter-widgets/controls",
      "_view_module_version": "1.5.0",
      "_view_name": "HTMLView",
      "description": "",
      "description_tooltip": null,
      "layout": "IPY_MODEL_052112ae4c5a42ac8c8212e47f6ec4f3",
      "placeholder": "​",
      "style": "IPY_MODEL_441e6999c04e4aab8366ae6f98c2cd78",
      "value": " 895k/? [00:00&lt;00:00, 14.3MB/s]"
     }
    },
    "da01ca18733d4c169880c79bf036e1b7": {
     "model_module": "@jupyter-widgets/base",
     "model_module_version": "1.2.0",
     "model_name": "LayoutModel",
     "state": {
      "_model_module": "@jupyter-widgets/base",
      "_model_module_version": "1.2.0",
      "_model_name": "LayoutModel",
      "_view_count": null,
      "_view_module": "@jupyter-widgets/base",
      "_view_module_version": "1.2.0",
      "_view_name": "LayoutView",
      "align_content": null,
      "align_items": null,
      "align_self": null,
      "border": null,
      "bottom": null,
      "display": null,
      "flex": null,
      "flex_flow": null,
      "grid_area": null,
      "grid_auto_columns": null,
      "grid_auto_flow": null,
      "grid_auto_rows": null,
      "grid_column": null,
      "grid_gap": null,
      "grid_row": null,
      "grid_template_areas": null,
      "grid_template_columns": null,
      "grid_template_rows": null,
      "height": null,
      "justify_content": null,
      "justify_items": null,
      "left": null,
      "margin": null,
      "max_height": null,
      "max_width": null,
      "min_height": null,
      "min_width": null,
      "object_fit": null,
      "object_position": null,
      "order": null,
      "overflow": null,
      "overflow_x": null,
      "overflow_y": null,
      "padding": null,
      "right": null,
      "top": null,
      "visibility": null,
      "width": null
     }
    },
    "e2ddaf1144574ce7afb3dd00800f0e8e": {
     "model_module": "@jupyter-widgets/controls",
     "model_module_version": "1.5.0",
     "model_name": "FloatProgressModel",
     "state": {
      "_dom_classes": [],
      "_model_module": "@jupyter-widgets/controls",
      "_model_module_version": "1.5.0",
      "_model_name": "FloatProgressModel",
      "_view_count": null,
      "_view_module": "@jupyter-widgets/controls",
      "_view_module_version": "1.5.0",
      "_view_name": "ProgressView",
      "bar_style": "success",
      "description": "",
      "description_tooltip": null,
      "layout": "IPY_MODEL_304d772d9b754c1487a5c83224ca71e3",
      "max": 817,
      "min": 0,
      "orientation": "horizontal",
      "style": "IPY_MODEL_a1a571aba3094235ae72ad0a0f7c0ea1",
      "value": 817
     }
    },
    "e6aee8fc7c1a4cbda0c8b44b96a35d20": {
     "model_module": "@jupyter-widgets/base",
     "model_module_version": "1.2.0",
     "model_name": "LayoutModel",
     "state": {
      "_model_module": "@jupyter-widgets/base",
      "_model_module_version": "1.2.0",
      "_model_name": "LayoutModel",
      "_view_count": null,
      "_view_module": "@jupyter-widgets/base",
      "_view_module_version": "1.2.0",
      "_view_name": "LayoutView",
      "align_content": null,
      "align_items": null,
      "align_self": null,
      "border": null,
      "bottom": null,
      "display": null,
      "flex": null,
      "flex_flow": null,
      "grid_area": null,
      "grid_auto_columns": null,
      "grid_auto_flow": null,
      "grid_auto_rows": null,
      "grid_column": null,
      "grid_gap": null,
      "grid_row": null,
      "grid_template_areas": null,
      "grid_template_columns": null,
      "grid_template_rows": null,
      "height": null,
      "justify_content": null,
      "justify_items": null,
      "left": null,
      "margin": null,
      "max_height": null,
      "max_width": null,
      "min_height": null,
      "min_width": null,
      "object_fit": null,
      "object_position": null,
      "order": null,
      "overflow": null,
      "overflow_x": null,
      "overflow_y": null,
      "padding": null,
      "right": null,
      "top": null,
      "visibility": null,
      "width": null
     }
    },
    "e717a980c9204c998c56f9e9e53c3bc7": {
     "model_module": "@jupyter-widgets/controls",
     "model_module_version": "1.5.0",
     "model_name": "DescriptionStyleModel",
     "state": {
      "_model_module": "@jupyter-widgets/controls",
      "_model_module_version": "1.5.0",
      "_model_name": "DescriptionStyleModel",
      "_view_count": null,
      "_view_module": "@jupyter-widgets/base",
      "_view_module_version": "1.2.0",
      "_view_name": "StyleView",
      "description_width": ""
     }
    },
    "ea9638b64ff847c693934f6b9fced33f": {
     "model_module": "@jupyter-widgets/controls",
     "model_module_version": "1.5.0",
     "model_name": "DescriptionStyleModel",
     "state": {
      "_model_module": "@jupyter-widgets/controls",
      "_model_module_version": "1.5.0",
      "_model_name": "DescriptionStyleModel",
      "_view_count": null,
      "_view_module": "@jupyter-widgets/base",
      "_view_module_version": "1.2.0",
      "_view_name": "StyleView",
      "description_width": ""
     }
    },
    "edc47a8806ae4c67bea437ffecec40bb": {
     "model_module": "@jupyter-widgets/controls",
     "model_module_version": "1.5.0",
     "model_name": "DescriptionStyleModel",
     "state": {
      "_model_module": "@jupyter-widgets/controls",
      "_model_module_version": "1.5.0",
      "_model_name": "DescriptionStyleModel",
      "_view_count": null,
      "_view_module": "@jupyter-widgets/base",
      "_view_module_version": "1.2.0",
      "_view_name": "StyleView",
      "description_width": ""
     }
    },
    "f105c8c12a604c86a69bef80e4fa5c37": {
     "model_module": "@jupyter-widgets/controls",
     "model_module_version": "1.5.0",
     "model_name": "HTMLModel",
     "state": {
      "_dom_classes": [],
      "_model_module": "@jupyter-widgets/controls",
      "_model_module_version": "1.5.0",
      "_model_name": "HTMLModel",
      "_view_count": null,
      "_view_module": "@jupyter-widgets/controls",
      "_view_module_version": "1.5.0",
      "_view_name": "HTMLView",
      "description": "",
      "description_tooltip": null,
      "layout": "IPY_MODEL_cae1a43a0cf8436fb280ad4e8a6f5ac2",
      "placeholder": "​",
      "style": "IPY_MODEL_01c8966d963c441fa3e0a71eaf16559f",
      "value": " 1.14M/? [00:00&lt;00:00, 31.5MB/s]"
     }
    },
    "f77f75edbab14f98ac3437c7f1af22b7": {
     "model_module": "@jupyter-widgets/controls",
     "model_module_version": "1.5.0",
     "model_name": "FloatProgressModel",
     "state": {
      "_dom_classes": [],
      "_model_module": "@jupyter-widgets/controls",
      "_model_module_version": "1.5.0",
      "_model_name": "FloatProgressModel",
      "_view_count": null,
      "_view_module": "@jupyter-widgets/controls",
      "_view_module_version": "1.5.0",
      "_view_name": "ProgressView",
      "bar_style": "success",
      "description": "",
      "description_tooltip": null,
      "layout": "IPY_MODEL_d0a759ae3a104261aede62ad6c0d6ded",
      "max": 1,
      "min": 0,
      "orientation": "horizontal",
      "style": "IPY_MODEL_771a882b08cd44ea9364075c215e77ce",
      "value": 1
     }
    },
    "f7cf8780178c409f9277cc843319bd7f": {
     "model_module": "@jupyter-widgets/base",
     "model_module_version": "1.2.0",
     "model_name": "LayoutModel",
     "state": {
      "_model_module": "@jupyter-widgets/base",
      "_model_module_version": "1.2.0",
      "_model_name": "LayoutModel",
      "_view_count": null,
      "_view_module": "@jupyter-widgets/base",
      "_view_module_version": "1.2.0",
      "_view_name": "LayoutView",
      "align_content": null,
      "align_items": null,
      "align_self": null,
      "border": null,
      "bottom": null,
      "display": null,
      "flex": null,
      "flex_flow": null,
      "grid_area": null,
      "grid_auto_columns": null,
      "grid_auto_flow": null,
      "grid_auto_rows": null,
      "grid_column": null,
      "grid_gap": null,
      "grid_row": null,
      "grid_template_areas": null,
      "grid_template_columns": null,
      "grid_template_rows": null,
      "height": null,
      "justify_content": null,
      "justify_items": null,
      "left": null,
      "margin": null,
      "max_height": null,
      "max_width": null,
      "min_height": null,
      "min_width": null,
      "object_fit": null,
      "object_position": null,
      "order": null,
      "overflow": null,
      "overflow_x": null,
      "overflow_y": null,
      "padding": null,
      "right": null,
      "top": null,
      "visibility": null,
      "width": null
     }
    },
    "fa5c555c5971469d8af90b6f1eb2f5a3": {
     "model_module": "@jupyter-widgets/base",
     "model_module_version": "1.2.0",
     "model_name": "LayoutModel",
     "state": {
      "_model_module": "@jupyter-widgets/base",
      "_model_module_version": "1.2.0",
      "_model_name": "LayoutModel",
      "_view_count": null,
      "_view_module": "@jupyter-widgets/base",
      "_view_module_version": "1.2.0",
      "_view_name": "LayoutView",
      "align_content": null,
      "align_items": null,
      "align_self": null,
      "border": null,
      "bottom": null,
      "display": null,
      "flex": null,
      "flex_flow": null,
      "grid_area": null,
      "grid_auto_columns": null,
      "grid_auto_flow": null,
      "grid_auto_rows": null,
      "grid_column": null,
      "grid_gap": null,
      "grid_row": null,
      "grid_template_areas": null,
      "grid_template_columns": null,
      "grid_template_rows": null,
      "height": null,
      "justify_content": null,
      "justify_items": null,
      "left": null,
      "margin": null,
      "max_height": null,
      "max_width": null,
      "min_height": null,
      "min_width": null,
      "object_fit": null,
      "object_position": null,
      "order": null,
      "overflow": null,
      "overflow_x": null,
      "overflow_y": null,
      "padding": null,
      "right": null,
      "top": null,
      "visibility": null,
      "width": null
     }
    }
   }
  }
 },
 "nbformat": 4,
 "nbformat_minor": 0
}
