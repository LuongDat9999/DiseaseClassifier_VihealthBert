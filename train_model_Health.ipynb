{
 "cells": [
  {
   "cell_type": "markdown",
   "metadata": {
    "id": "WdGkKrpTGVBz"
   },
   "source": [
    "# Config"
   ]
  },
  {
   "cell_type": "code",
   "execution_count": 2,
   "metadata": {
    "colab": {
     "base_uri": "https://localhost:8080/"
    },
    "executionInfo": {
     "elapsed": 6531,
     "status": "ok",
     "timestamp": 1754721807966,
     "user": {
      "displayName": "Lương Đạt",
      "userId": "11214560588962627512"
     },
     "user_tz": -420
    },
    "id": "Zf15G1RTBAV8",
    "outputId": "47bbc234-3915-4130-d67e-942b4b5e2564"
   },
   "outputs": [
    {
     "name": "stdout",
     "output_type": "stream",
     "text": [
      "Collecting underthesea\n",
      "  Downloading underthesea-6.8.4-py3-none-any.whl.metadata (15 kB)\n",
      "Requirement already satisfied: Click>=6.0 in /usr/local/lib/python3.11/dist-packages (from underthesea) (8.2.1)\n",
      "Collecting python-crfsuite>=0.9.6 (from underthesea)\n",
      "  Downloading python_crfsuite-0.9.11-cp311-cp311-manylinux_2_17_x86_64.manylinux2014_x86_64.whl.metadata (4.3 kB)\n",
      "Requirement already satisfied: nltk in /usr/local/lib/python3.11/dist-packages (from underthesea) (3.9.1)\n",
      "Requirement already satisfied: tqdm in /usr/local/lib/python3.11/dist-packages (from underthesea) (4.67.1)\n",
      "Requirement already satisfied: requests in /usr/local/lib/python3.11/dist-packages (from underthesea) (2.32.3)\n",
      "Requirement already satisfied: joblib in /usr/local/lib/python3.11/dist-packages (from underthesea) (1.5.1)\n",
      "Requirement already satisfied: scikit-learn in /usr/local/lib/python3.11/dist-packages (from underthesea) (1.6.1)\n",
      "Requirement already satisfied: PyYAML in /usr/local/lib/python3.11/dist-packages (from underthesea) (6.0.2)\n",
      "Collecting underthesea-core==1.0.4 (from underthesea)\n",
      "  Downloading underthesea_core-1.0.4-cp311-cp311-manylinux2010_x86_64.whl.metadata (1.7 kB)\n",
      "Requirement already satisfied: regex>=2021.8.3 in /usr/local/lib/python3.11/dist-packages (from nltk->underthesea) (2024.11.6)\n",
      "Requirement already satisfied: charset-normalizer<4,>=2 in /usr/local/lib/python3.11/dist-packages (from requests->underthesea) (3.4.2)\n",
      "Requirement already satisfied: idna<4,>=2.5 in /usr/local/lib/python3.11/dist-packages (from requests->underthesea) (3.10)\n",
      "Requirement already satisfied: urllib3<3,>=1.21.1 in /usr/local/lib/python3.11/dist-packages (from requests->underthesea) (2.5.0)\n",
      "Requirement already satisfied: certifi>=2017.4.17 in /usr/local/lib/python3.11/dist-packages (from requests->underthesea) (2025.8.3)\n",
      "Requirement already satisfied: numpy>=1.19.5 in /usr/local/lib/python3.11/dist-packages (from scikit-learn->underthesea) (2.0.2)\n",
      "Requirement already satisfied: scipy>=1.6.0 in /usr/local/lib/python3.11/dist-packages (from scikit-learn->underthesea) (1.16.1)\n",
      "Requirement already satisfied: threadpoolctl>=3.1.0 in /usr/local/lib/python3.11/dist-packages (from scikit-learn->underthesea) (3.6.0)\n",
      "Downloading underthesea-6.8.4-py3-none-any.whl (20.9 MB)\n",
      "\u001b[2K   \u001b[90m━━━━━━━━━━━━━━━━━━━━━━━━━━━━━━━━━━━━━━━━\u001b[0m \u001b[32m20.9/20.9 MB\u001b[0m \u001b[31m92.9 MB/s\u001b[0m eta \u001b[36m0:00:00\u001b[0m\n",
      "\u001b[?25hDownloading underthesea_core-1.0.4-cp311-cp311-manylinux2010_x86_64.whl (657 kB)\n",
      "\u001b[2K   \u001b[90m━━━━━━━━━━━━━━━━━━━━━━━━━━━━━━━━━━━━━━━━\u001b[0m \u001b[32m657.8/657.8 kB\u001b[0m \u001b[31m50.6 MB/s\u001b[0m eta \u001b[36m0:00:00\u001b[0m\n",
      "\u001b[?25hDownloading python_crfsuite-0.9.11-cp311-cp311-manylinux_2_17_x86_64.manylinux2014_x86_64.whl (1.3 MB)\n",
      "\u001b[2K   \u001b[90m━━━━━━━━━━━━━━━━━━━━━━━━━━━━━━━━━━━━━━━━\u001b[0m \u001b[32m1.3/1.3 MB\u001b[0m \u001b[31m76.6 MB/s\u001b[0m eta \u001b[36m0:00:00\u001b[0m\n",
      "\u001b[?25hInstalling collected packages: underthesea-core, python-crfsuite, underthesea\n",
      "Successfully installed python-crfsuite-0.9.11 underthesea-6.8.4 underthesea-core-1.0.4\n"
     ]
    }
   ],
   "source": [
    "!pip install underthesea"
   ]
  },
  {
   "cell_type": "code",
   "execution_count": 3,
   "metadata": {
    "executionInfo": {
     "elapsed": 1824,
     "status": "ok",
     "timestamp": 1754721809796,
     "user": {
      "displayName": "Lương Đạt",
      "userId": "11214560588962627512"
     },
     "user_tz": -420
    },
    "id": "VO_phiZLBGbo"
   },
   "outputs": [],
   "source": [
    "import torch\n",
    "import torch.nn as nn\n",
    "import torch.nn.functional as F\n",
    "from torch.utils.data import Dataset, DataLoader, random_split\n",
    "from torch.optim import AdamW\n",
    "from torch.optim.lr_scheduler import ReduceLROnPlateau, CosineAnnealingLR\n",
    "from transformers import AutoModel, AutoTokenizer\n",
    "from sklearn.preprocessing import LabelEncoder\n",
    "from sklearn.metrics import accuracy_score, precision_recall_fscore_support, classification_report, confusion_matrix\n",
    "import numpy as np\n",
    "from tqdm import tqdm\n",
    "import matplotlib.pyplot as plt\n",
    "import seaborn as sns\n",
    "from underthesea import word_tokenize\n",
    "import warnings\n",
    "warnings.filterwarnings('ignore')\n",
    "\n",
    "# Set random seeds for reproducibility\n",
    "torch.manual_seed(42)\n",
    "np.random.seed(42)\n",
    "\n",
    "class Config:\n",
    "    \"\"\"Configuration class for hyperparameters\"\"\"\n",
    "    model_name = \"demdecuong/vihealthbert-base-word\"\n",
    "    max_length = 256\n",
    "    batch_size = 16\n",
    "    learning_rate = 2e-5 # ~ 0.00002\n",
    "    weight_decay = 0.01\n",
    "    num_epochs = 20\n",
    "    warmup_steps = 100\n",
    "    dropout_rate = 0.3\n",
    "    hidden_size = 128\n",
    "    patience = 5\n",
    "    gradient_clip = 1.0"
   ]
  },
  {
   "cell_type": "markdown",
   "metadata": {
    "id": "F1qt7SgLGZG0"
   },
   "source": [
    "# Model DiseaseClass"
   ]
  },
  {
   "cell_type": "code",
   "execution_count": 4,
   "metadata": {
    "executionInfo": {
     "elapsed": 11,
     "status": "ok",
     "timestamp": 1754721809818,
     "user": {
      "displayName": "Lương Đạt",
      "userId": "11214560588962627512"
     },
     "user_tz": -420
    },
    "id": "BK1X-Rc9EUwf"
   },
   "outputs": [],
   "source": [
    "class DiseaseClassifier(nn.Module):\n",
    "    \"\"\"Enhanced classifier for disease prediction\"\"\"\n",
    "    def __init__(self, pretrained_model, num_labels, config):\n",
    "        super(DiseaseClassifier, self).__init__()\n",
    "        self.bert = pretrained_model\n",
    "        self.config = config\n",
    "\n",
    "        # Freeze some layers for better transfer learning\n",
    "        for param in self.bert.embeddings.parameters():\n",
    "            param.requires_grad = False\n",
    "\n",
    "        # Enhanced classifier head\n",
    "        self.dropout1 = nn.Dropout(config.dropout_rate)\n",
    "        self.fc1 = nn.Linear(self.bert.config.hidden_size, config.hidden_size)\n",
    "        self.dropout2 = nn.Dropout(config.dropout_rate)\n",
    "        self.fc2 = nn.Linear(config.hidden_size, config.hidden_size // 2)\n",
    "        self.dropout3 = nn.Dropout(config.dropout_rate)\n",
    "        self.classifier = nn.Linear(config.hidden_size // 2, num_labels)\n",
    "\n",
    "        # Layer normalization\n",
    "        self.layer_norm1 = nn.LayerNorm(config.hidden_size)\n",
    "        self.layer_norm2 = nn.LayerNorm(config.hidden_size // 2)\n",
    "\n",
    "        # Initialize weights\n",
    "        self._init_weights()\n",
    "\n",
    "    def _init_weights(self):\n",
    "        \"\"\"Initialize weights properly\"\"\"\n",
    "        for module in [self.fc1, self.fc2, self.classifier]:\n",
    "            nn.init.xavier_normal_(module.weight)\n",
    "            nn.init.constant_(module.bias, 0)\n",
    "\n",
    "    def forward(self, input_ids, attention_mask=None):\n",
    "        # Get BERT outputs\n",
    "        outputs = self.bert(input_ids=input_ids, attention_mask=attention_mask)\n",
    "\n",
    "        # Use mean pooling instead of just CLS token\n",
    "        last_hidden_state = outputs.last_hidden_state\n",
    "\n",
    "        # Mean pooling with attention mask\n",
    "        if attention_mask is not None:\n",
    "            mask_expanded = attention_mask.unsqueeze(-1).expand(last_hidden_state.size()).float()\n",
    "            sum_embeddings = torch.sum(last_hidden_state * mask_expanded, 1)\n",
    "            sum_mask = torch.clamp(mask_expanded.sum(1), min=1e-9)\n",
    "            pooled_output = sum_embeddings / sum_mask\n",
    "        else:\n",
    "            pooled_output = torch.mean(last_hidden_state, 1)\n",
    "\n",
    "        # Forward through enhanced classifier\n",
    "        x = self.dropout1(pooled_output)\n",
    "        x = F.relu(self.layer_norm1(self.fc1(x)))\n",
    "        x = self.dropout2(x)\n",
    "        x = F.relu(self.layer_norm2(self.fc2(x)))\n",
    "        x = self.dropout3(x)\n",
    "        logits = self.classifier(x)\n",
    "\n",
    "        return logits\n"
   ]
  },
  {
   "cell_type": "code",
   "execution_count": null,
   "metadata": {
    "executionInfo": {
     "elapsed": 2,
     "status": "aborted",
     "timestamp": 1754721797618,
     "user": {
      "displayName": "Lương Đạt",
      "userId": "11214560588962627512"
     },
     "user_tz": -420
    },
    "id": "RTFrr9oJSBcE"
   },
   "outputs": [],
   "source": [
    "class EarlyStopping:\n",
    "    \"\"\"Early stopping to prevent overfitting\"\"\"\n",
    "    def __init__(self, patience=5, min_delta=0.001):\n",
    "        self.patience = patience\n",
    "        self.min_delta = min_delta\n",
    "        self.counter = 0\n",
    "        self.best_loss = float('inf')\n",
    "\n",
    "    def __call__(self, val_loss):\n",
    "        if val_loss < self.best_loss - self.min_delta:\n",
    "            self.best_loss = val_loss\n",
    "            self.counter = 0\n",
    "            return False\n",
    "        else:\n",
    "            self.counter += 1\n",
    "            return self.counter >= self.patience"
   ]
  },
  {
   "cell_type": "code",
   "execution_count": 10,
   "metadata": {
    "executionInfo": {
     "elapsed": 13,
     "status": "ok",
     "timestamp": 1754717019082,
     "user": {
      "displayName": "Lương Đạt",
      "userId": "11214560588962627512"
     },
     "user_tz": -420
    },
    "id": "pWTINCCpSD0B"
   },
   "outputs": [],
   "source": [
    "class HealthBERTTrainer:\n",
    "    \"\"\"Enhanced trainer class for disease prediction\"\"\"\n",
    "    def __init__(self, model, train_loader, val_loader, config):\n",
    "        self.model = model\n",
    "        self.train_loader = train_loader\n",
    "        self.val_loader = val_loader\n",
    "        self.config = config\n",
    "        self.device = torch.device('cuda' if torch.cuda.is_available() else 'cpu')\n",
    "\n",
    "        # Move model to device\n",
    "        self.model.to(self.device)\n",
    "\n",
    "        # Optimizer with weight decay\n",
    "        self.optimizer = AdamW(\n",
    "            self.model.parameters(),\n",
    "            lr=config.learning_rate,\n",
    "            weight_decay=config.weight_decay\n",
    "        )\n",
    "\n",
    "        # Learning rate scheduler\n",
    "        self.scheduler = ReduceLROnPlateau(\n",
    "            self.optimizer,\n",
    "            mode='min',\n",
    "            factor=0.5,\n",
    "            patience=3,\n",
    "            verbose=True\n",
    "        )\n",
    "\n",
    "        # Early stopping\n",
    "        self.early_stopping = EarlyStopping(patience=config.patience)\n",
    "\n",
    "        # Loss function with label smoothing\n",
    "        self.criterion = nn.CrossEntropyLoss(label_smoothing=0.1)\n",
    "\n",
    "        # Training history\n",
    "        self.history = {\n",
    "            'train_loss': [],\n",
    "            'val_loss': [],\n",
    "            'train_acc': [],\n",
    "            'val_acc': []\n",
    "        }\n",
    "\n",
    "    def train_epoch(self):\n",
    "        \"\"\"Train one epoch\"\"\"\n",
    "        self.model.train()\n",
    "        total_loss = 0\n",
    "        correct = 0\n",
    "        total = 0\n",
    "\n",
    "        progress_bar = tqdm(self.train_loader, desc=\"Training\")\n",
    "\n",
    "        for batch in progress_bar:\n",
    "            # Move batch to device\n",
    "            input_ids = batch['input_ids'].to(self.device)\n",
    "            attention_mask = batch['attention_mask'].to(self.device)\n",
    "            labels = batch['labels'].to(self.device)\n",
    "\n",
    "            # Forward pass\n",
    "            self.optimizer.zero_grad()\n",
    "            logits = self.model(input_ids, attention_mask)\n",
    "            loss = self.criterion(logits, labels)\n",
    "\n",
    "            # Backward pass\n",
    "            loss.backward()\n",
    "\n",
    "            # Gradient clipping\n",
    "            torch.nn.utils.clip_grad_norm_(self.model.parameters(), self.config.gradient_clip)\n",
    "\n",
    "            self.optimizer.step()\n",
    "\n",
    "            # Statistics\n",
    "            total_loss += loss.item()\n",
    "            _, predicted = torch.max(logits.data, 1)\n",
    "            total += labels.size(0)\n",
    "            correct += (predicted == labels).sum().item()\n",
    "\n",
    "            # Update progress bar\n",
    "            progress_bar.set_postfix({\n",
    "                'Loss': f'{loss.item():.4f}',\n",
    "                'Acc': f'{100.*correct/total:.2f}%'\n",
    "            })\n",
    "\n",
    "        return total_loss / len(self.train_loader), 100. * correct / total\n",
    "\n",
    "    def validate(self):\n",
    "        \"\"\"Validate the model\"\"\"\n",
    "        self.model.eval()\n",
    "        total_loss = 0\n",
    "        correct = 0\n",
    "        total = 0\n",
    "        all_preds = []\n",
    "        all_labels = []\n",
    "\n",
    "        with torch.no_grad():\n",
    "            for batch in tqdm(self.val_loader, desc=\"Validating\"):\n",
    "                input_ids = batch['input_ids'].to(self.device)\n",
    "                attention_mask = batch['attention_mask'].to(self.device)\n",
    "                labels = batch['labels'].to(self.device)\n",
    "\n",
    "                logits = self.model(input_ids, attention_mask)\n",
    "                loss = self.criterion(logits, labels)\n",
    "\n",
    "                total_loss += loss.item()\n",
    "                _, predicted = torch.max(logits.data, 1)\n",
    "                total += labels.size(0)\n",
    "                correct += (predicted == labels).sum().item()\n",
    "\n",
    "                all_preds.extend(predicted.cpu().numpy())\n",
    "                all_labels.extend(labels.cpu().numpy())\n",
    "\n",
    "        return total_loss / len(self.val_loader), 100. * correct / total, all_preds, all_labels\n",
    "\n",
    "    def train(self):\n",
    "        \"\"\"Full training loop\"\"\"\n",
    "        print(f\"Training on device: {self.device}\")\n",
    "        print(f\"Model parameters: {sum(p.numel() for p in self.model.parameters()):,}\")\n",
    "\n",
    "        best_val_loss = float('inf')\n",
    "\n",
    "        for epoch in range(self.config.num_epochs):\n",
    "            print(f\"\\nEpoch {epoch+1}/{self.config.num_epochs}\")\n",
    "            print(\"-\" * 50)\n",
    "\n",
    "            # Train\n",
    "            train_loss, train_acc = self.train_epoch()\n",
    "\n",
    "            # Validate\n",
    "            val_loss, val_acc, val_preds, val_labels = self.validate()\n",
    "\n",
    "            # Update history\n",
    "            self.history['train_loss'].append(train_loss)\n",
    "            self.history['val_loss'].append(val_loss)\n",
    "            self.history['train_acc'].append(train_acc)\n",
    "            self.history['val_acc'].append(val_acc)\n",
    "\n",
    "            # Learning rate scheduling\n",
    "            self.scheduler.step(val_loss)\n",
    "\n",
    "            print(f\"Train Loss: {train_loss:.4f}, Train Acc: {train_acc:.2f}%\")\n",
    "            print(f\"Val Loss: {val_loss:.4f}, Val Acc: {val_acc:.2f}%\")\n",
    "\n",
    "            # Save best model\n",
    "            if val_loss < best_val_loss:\n",
    "                best_val_loss = val_loss\n",
    "                torch.save(self.model.state_dict(), 'best_disease_model.pth')\n",
    "                print(\"✓ Saved new best model\")\n",
    "\n",
    "            # Early stopping\n",
    "            if self.early_stopping(val_loss):\n",
    "                print(f\"Early stopping triggered after {epoch+1} epochs\")\n",
    "                break\n",
    "\n",
    "        # Load best model\n",
    "        self.model.load_state_dict(torch.load('best_disease_model.pth'))\n",
    "        return self.history"
   ]
  },
  {
   "cell_type": "code",
   "execution_count": 11,
   "metadata": {
    "executionInfo": {
     "elapsed": 6,
     "status": "ok",
     "timestamp": 1754717023044,
     "user": {
      "displayName": "Lương Đạt",
      "userId": "11214560588962627512"
     },
     "user_tz": -420
    },
    "id": "H02be_ipEn_a"
   },
   "outputs": [],
   "source": [
    "def evaluate_model(model, val_loader, label_encoder, device):\n",
    "    \"\"\"Comprehensive model evaluation\"\"\"\n",
    "    model.eval()\n",
    "    all_preds = []\n",
    "    all_labels = []\n",
    "\n",
    "    with torch.no_grad():\n",
    "        for batch in tqdm(val_loader, desc=\"Evaluating\"):\n",
    "            input_ids = batch['input_ids'].to(device)\n",
    "            attention_mask = batch['attention_mask'].to(device)\n",
    "            labels = batch['labels'].to(device)\n",
    "\n",
    "            logits = model(input_ids, attention_mask)\n",
    "            _, predicted = torch.max(logits, 1)\n",
    "\n",
    "            all_preds.extend(predicted.cpu().numpy())\n",
    "            all_labels.extend(labels.cpu().numpy())\n",
    "\n",
    "    # Calculate metrics\n",
    "    accuracy = accuracy_score(all_labels, all_preds)\n",
    "    precision, recall, f1, _ = precision_recall_fscore_support(all_labels, all_preds, average='weighted', zero_division=0)\n",
    "\n",
    "    print(f\"\\nEvaluation Results:\")\n",
    "    print(f\"Accuracy: {accuracy:.4f}\")\n",
    "    print(f\"Precision: {precision:.4f}\")\n",
    "    print(f\"Recall: {recall:.4f}\")\n",
    "    print(f\"F1-Score: {f1:.4f}\")\n",
    "\n",
    "    # Classification report\n",
    "    class_names = label_encoder.classes_\n",
    "    all_label_indices = list(range(len(class_names)))\n",
    "    print(\"\\nDetailed Classification Report:\")\n",
    "    print(classification_report(all_labels, all_preds, target_names=class_names, labels=all_label_indices, zero_division=0))\n",
    "\n",
    "    return accuracy, precision, recall, f1\n",
    "\n",
    "def plot_training_history(history):\n",
    "    \"\"\"Plot training history\"\"\"\n",
    "    fig, (ax1, ax2) = plt.subplots(1, 2, figsize=(15, 5))\n",
    "\n",
    "    # Loss plot\n",
    "    ax1.plot(history['train_loss'], label='Train Loss')\n",
    "    ax1.plot(history['val_loss'], label='Validation Loss')\n",
    "    ax1.set_title('Model Loss')\n",
    "    ax1.set_xlabel('Epoch')\n",
    "    ax1.set_ylabel('Loss')\n",
    "    ax1.legend()\n",
    "    ax1.grid(True)\n",
    "\n",
    "    # Accuracy plot\n",
    "    ax2.plot(history['train_acc'], label='Train Accuracy')\n",
    "    ax2.plot(history['val_acc'], label='Validation Accuracy')\n",
    "    ax2.set_title('Model Accuracy')\n",
    "    ax2.set_xlabel('Epoch')\n",
    "    ax2.set_ylabel('Accuracy (%)')\n",
    "    ax2.legend()\n",
    "    ax2.grid(True)\n",
    "\n",
    "    plt.tight_layout()\n",
    "    plt.show()\n"
   ]
  },
  {
   "cell_type": "markdown",
   "metadata": {
    "id": "q8WuYOuHQFz1"
   },
   "source": [
    "# Load Dataset"
   ]
  },
  {
   "cell_type": "code",
   "execution_count": null,
   "metadata": {
    "executionInfo": {
     "elapsed": 5,
     "status": "ok",
     "timestamp": 1754716671177,
     "user": {
      "displayName": "Lương Đạt",
      "userId": "11214560588962627512"
     },
     "user_tz": -420
    },
    "id": "IIQvL4Q-Ef4B"
   },
   "outputs": [],
   "source": [
    "def preprocess_text(text):\n",
    "    \"\"\"Enhanced text preprocessing for Vietnamese medical text\"\"\"\n",
    "    if isinstance(text, str):\n",
    "        # Word tokenization for Vfietnamese\n",
    "        segmented = word_tokenize(text, format=\"text\")\n",
    "        return segmented.strip()\n",
    "    return \"\""
   ]
  },
  {
   "cell_type": "code",
   "execution_count": 13,
   "metadata": {
    "executionInfo": {
     "elapsed": 4,
     "status": "ok",
     "timestamp": 1754717086774,
     "user": {
      "displayName": "Lương Đạt",
      "userId": "11214560588962627512"
     },
     "user_tz": -420
    },
    "id": "JUDuSn0M5Uij"
   },
   "outputs": [],
   "source": [
    "import pandas as pd\n",
    "class DiseaseDataset(Dataset):\n",
    "    \"\"\"Dataset class for disease prediction from symptoms\"\"\"\n",
    "    def __init__(self, texts, labels, tokenizer, max_length=256):\n",
    "        self.texts = texts\n",
    "        self.labels = labels\n",
    "        self.tokenizer = tokenizer\n",
    "        self.max_length = max_length\n",
    "\n",
    "    def __len__(self):\n",
    "        return len(self.texts)\n",
    "\n",
    "    def __getitem__(self, idx):\n",
    "        text = str(self.texts[idx])\n",
    "        label = self.labels[idx]\n",
    "\n",
    "        # Tokenize with proper padding and truncation\n",
    "        encoding = self.tokenizer(\n",
    "            text,\n",
    "            add_special_tokens=True,\n",
    "            max_length=self.max_length,\n",
    "            padding='max_length',\n",
    "            truncation=True,\n",
    "            return_attention_mask=True,\n",
    "            return_tensors='pt'\n",
    "        )\n",
    "\n",
    "        return {\n",
    "            'input_ids': encoding['input_ids'].flatten(),\n",
    "            'attention_mask': encoding['attention_mask'].flatten(),\n",
    "            'labels': torch.tensor(label, dtype=torch.long)\n",
    "        }"
   ]
  },
  {
   "cell_type": "code",
   "execution_count": 14,
   "metadata": {
    "executionInfo": {
     "elapsed": 3,
     "status": "ok",
     "timestamp": 1754717088722,
     "user": {
      "displayName": "Lương Đạt",
      "userId": "11214560588962627512"
     },
     "user_tz": -420
    },
    "id": "NeNENvKTR7Yr"
   },
   "outputs": [],
   "source": [
    "def create_disease_dataset(excelpath):\n",
    "    \"\"\"\n",
    "    Tạo dataset bệnh từ file Excel - chỉ lấy cột 1 (bệnh) và cột 2 (triệu chứng)\n",
    "    \"\"\"\n",
    "    try:\n",
    "        # Đọc file Excel\n",
    "        df = pd.read_csv(excel_path)\n",
    "        print(f\"Đã đọc {len(df)} dòng dữ liệu từ file csv\")\n",
    "\n",
    "        # Lấy cột 0 (bệnh) và cột 1 (triệu chứng)\n",
    "        df = df.iloc[:, [0, 1]]  # Cột 0 và cột 1\n",
    "        df.columns = ['benh', 'trieu_chung']  # Đặt tên cột\n",
    "\n",
    "        # Loại bỏ các dòng có giá trị null\n",
    "        df = df.dropna()\n",
    "\n",
    "        # Chuẩn hóa tên bệnh: thay khoảng trắng bằng dấu gạch dưới\n",
    "        df['benh'] = df['benh'].str.replace(' ', '_')\n",
    "\n",
    "        # Tạo mảng tuple (triệu_chứng, bệnh)\n",
    "        disease_data = []\n",
    "        for _, row in df.iterrows():\n",
    "            disease_data.append((str(row['trieu_chung']), str(row['benh'])))\n",
    "\n",
    "        print(f\"Đã tạo {len(disease_data)} mẫu dữ liệu\")\n",
    "\n",
    "        return disease_data\n",
    "\n",
    "    except Exception as e:\n",
    "        print(f\"Lỗi khi đọc file Excel: {e}\")\n",
    "        return []"
   ]
  },
  {
   "cell_type": "markdown",
   "metadata": {
    "id": "P_BjGwQ0RxMm"
   },
   "source": [
    "# Train Model"
   ]
  },
  {
   "cell_type": "code",
   "execution_count": null,
   "metadata": {
    "colab": {
     "base_uri": "https://localhost:8080/"
    },
    "executionInfo": {
     "elapsed": 4219,
     "status": "ok",
     "timestamp": 1754717122475,
     "user": {
      "displayName": "Lương Đạt",
      "userId": "11214560588962627512"
     },
     "user_tz": -420
    },
    "id": "PIYVevgl5W3U",
    "outputId": "f6b9a29a-55d5-44d0-b700-bd8aa8dbd3ab"
   },
   "outputs": [
    {
     "name": "stdout",
     "output_type": "stream",
     "text": [
      "Đã đọc 240 dòng dữ liệu từ file csv\n",
      "Đã tạo 240 mẫu dữ liệu\n",
      "\n",
      "Một số mẫu dữ liệu:\n",
      "1. ('tôi xuất hiện phân có máu cùng với da lạnh, không có nước tiểu, buồn nôn', 'tiêu_chảy')\n",
      "2. ('tôi gặp phải da lạnh kèm theo khô da, đầy hơi, ít hay không có nước mắt khi khóc', 'tiêu_chảy')\n",
      "3. ('tôi có dấu hiệu khô đồng thời chuột rút, da lạnh, mệt mỏi', 'tiêu_chảy')\n",
      "4. ('tôi gặp phải phân có máu cùng với nước tiểu màu vàng đậm, buồn nôn, nước tiểu rất ít', 'tiêu_chảy')\n",
      "5. ('tôi có dấu hiệu phân có máu đồng thời khô da, không có nước tiểu, nước tiểu rất ít', 'tiêu_chảy')\n",
      "6. ('tôi phát hiện da lạnh cùng với khô da, chóng mặt, ít hay không có nước mắt khi khóc', 'tiêu_chảy')\n",
      "7. ('tôi cảm thấy chuột rút cùng với khô da, chóng mặt, đầy hơi', 'tiêu_chảy')\n",
      "8. ('tôi xuất hiện khô ngoài ra còn đau bụng, dính miệng, mệt mỏi', 'tiêu_chảy')\n",
      "9. ('tôi đang có đau bụng đồng thời da lạnh, mệt mỏi, sốt', 'tiêu_chảy')\n",
      "10. ('tôi bị chuột rút đồng thời da lạnh, chóng mặt, đầy hơi', 'tiêu_chảy')\n",
      "\n",
      "Tổng cộng: 240 mẫu dữ liệu\n"
     ]
    }
   ],
   "source": [
    "excel_path = \"/data_processed/augmented_medical_data.csv\"\n",
    "\n",
    "# Tạo dataset\n",
    "disease_data = create_disease_dataset(excel_path)\n",
    "\n",
    "# Hiển thị một số mẫu đầu\n",
    "if disease_data:\n",
    "    print(\"\\nMột số mẫu dữ liệu:\")\n",
    "    for i, (symptom, disease) in enumerate(disease_data[:10]):\n",
    "        print(f\"{i+1}. ('{symptom}', '{disease}')\")\n",
    "\n",
    "    print(f\"\\nTổng cộng: {len(disease_data)} mẫu dữ liệu\")\n",
    "else:\n",
    "    print(\"Không có dữ liệu\")"
   ]
  },
  {
   "cell_type": "code",
   "execution_count": 17,
   "metadata": {
    "colab": {
     "base_uri": "https://localhost:8080/",
     "height": 607,
     "referenced_widgets": [
      "12ebaaae73764aaf856eb290217716ec",
      "e46011f50cd945bb9c9b2fb2b845d3b1",
      "3d684f8a33a64ea59edd2444f1b351fb",
      "38222a609da14faaa356663db98622e2",
      "7f4b78c9512243e295189570c6501bdf",
      "7274f404f4434d98bf5a7aff068853de",
      "b8f8c8c992f04811a5e60a6e2fdf93ba",
      "142fb2acb68b44baa1a6a9f481b975fb",
      "4b8e1a53f14f4412b003fdfc153f6de7",
      "9925ad3b893b4e719995a71dae8c0e1c",
      "2140a38d644046938dee149f7cb85370",
      "4f13ef5dbfa74145986fcf1ea5f4cb26",
      "5a59c039682a4eb2b9ebba2edfe6bdf7",
      "b2b9f161045a408fbd7b6c16ed5ceb36",
      "2478aee5e88b432599c67890fe2e0e1f",
      "27d7263572404a12a47b8d8077de777a",
      "92c7c28423334b0da85374ac1926d579",
      "8da5abf73f054f54a9d951b831a9e9f9",
      "0f2f9b6da5be4ddbab06c591766052f9",
      "ade717f077bd4e14a9bfbf9a70a046e9",
      "7a187bafc7534541aadadb40e33f0e49",
      "c751edc0c2e3443cb122340fba52c227",
      "6e821debd45f4404a4d6d776fab7df5b",
      "2151ceff1a034078b4452f08d8ff0096",
      "5dae349660704cdb98c6b7df770ab316",
      "7f797608c49f48e29b3e82ee99838dec",
      "a0a761c48e014f93a46eca35c26f7002",
      "757e397868ab4fd2bba029806b191466",
      "86812e7a0d36416c949c4048fbe4f88c",
      "b50fd0b007594f30b9ed37500034ea3d",
      "35ca1c0ba5a34aa98e08ef08dfffe2df",
      "c6dbf1de3962406083dd10cb5c13109a",
      "464ec41afac64da193121fcd4bdf3257",
      "3dda0c860bb64b7db5958f7db720b2ef",
      "a52a8daba5c0436c946cdeff37c4569b",
      "65f0c470f6f64481890503330b27c5d3",
      "4748a46cb4274102a214fea5abd37f89",
      "e0c6db50289143a495dbb9c34b40024b",
      "61e5e25356bd407c84603e04cdafc1e9",
      "1e688ae42de8420983dd962e01099963",
      "4bfdc0ce7b2945dcb42942bf5f5a8560",
      "87aaeb5f3be54cef81396f33af2e336a",
      "0b5902396170499c9e7615e6374d346f",
      "e7a18540780a476489b647775bf54520"
     ]
    },
    "executionInfo": {
     "elapsed": 15392,
     "status": "ok",
     "timestamp": 1754717137893,
     "user": {
      "displayName": "Lương Đạt",
      "userId": "11214560588962627512"
     },
     "user_tz": -420
    },
    "id": "EDWJTeTBEwmf",
    "outputId": "0fafa5ac-3eda-4ce8-ed1e-8eb7563dc85a"
   },
   "outputs": [
    {
     "name": "stdout",
     "output_type": "stream",
     "text": [
      "Initializing Enhanced ViHealthBERT Disease Prediction Pipeline\n",
      "============================================================\n",
      "Loading pretrained model and tokenizer...\n"
     ]
    },
    {
     "data": {
      "application/vnd.jupyter.widget-view+json": {
       "model_id": "12ebaaae73764aaf856eb290217716ec",
       "version_major": 2,
       "version_minor": 0
      },
      "text/plain": [
       "config.json:   0%|          | 0.00/817 [00:00<?, ?B/s]"
      ]
     },
     "metadata": {},
     "output_type": "display_data"
    },
    {
     "data": {
      "application/vnd.jupyter.widget-view+json": {
       "model_id": "4f13ef5dbfa74145986fcf1ea5f4cb26",
       "version_major": 2,
       "version_minor": 0
      },
      "text/plain": [
       "vocab.txt: 0.00B [00:00, ?B/s]"
      ]
     },
     "metadata": {},
     "output_type": "display_data"
    },
    {
     "data": {
      "application/vnd.jupyter.widget-view+json": {
       "model_id": "6e821debd45f4404a4d6d776fab7df5b",
       "version_major": 2,
       "version_minor": 0
      },
      "text/plain": [
       "bpe.codes: 0.00B [00:00, ?B/s]"
      ]
     },
     "metadata": {},
     "output_type": "display_data"
    },
    {
     "data": {
      "application/vnd.jupyter.widget-view+json": {
       "model_id": "3dda0c860bb64b7db5958f7db720b2ef",
       "version_major": 2,
       "version_minor": 0
      },
      "text/plain": [
       "pytorch_model.bin:   0%|          | 0.00/540M [00:00<?, ?B/s]"
      ]
     },
     "metadata": {},
     "output_type": "display_data"
    },
    {
     "name": "stdout",
     "output_type": "stream",
     "text": [
      "\n",
      "Dataset Statistics:\n",
      "Total samples: 240\n",
      "Unique diseases: 16\n",
      "\n",
      "Sample data:\n",
      "Symptoms: tôi xuất hiện phân có máu cùng với da lạnh, không có nước tiểu, buồn nôn\n",
      "Disease: tiêu_chảy\n",
      "\n",
      "Symptoms: tôi gặp phải da lạnh kèm theo khô da, đầy hơi, ít hay không có nước mắt khi khóc\n",
      "Disease: tiêu_chảy\n",
      "\n",
      "Symptoms: tôi có dấu hiệu khô đồng thời chuột rút, da lạnh, mệt mỏi\n",
      "Disease: tiêu_chảy\n",
      "\n",
      "Symptoms: tôi gặp phải phân có máu cùng với nước tiểu màu vàng đậm, buồn nôn, nước tiểu rất ít\n",
      "Disease: tiêu_chảy\n",
      "\n",
      "Symptoms: tôi có dấu hiệu phân có máu đồng thời khô da, không có nước tiểu, nước tiểu rất ít\n",
      "Disease: tiêu_chảy\n",
      "\n",
      "Disease classes: [np.str_('di_ứng_thực_phẩm'), np.str_('dị_ứng_thời_tiết'), np.str_('hen_suyễn'), np.str_('hạ_canxi_máu'), np.str_('khô_mắt'), np.str_('sốt_phát_ban'), np.str_('thiếu_máu'), np.str_('tiêu_chảy'), np.str_('trĩ'), np.str_('táo_bón'), np.str_('viêm_khớp'), np.str_('viêm_mũi_dị_ứng'), np.str_('viêm_mũi_họng'), np.str_('viêm_xoang'), np.str_('viêm_xương'), np.str_('đau_dạ_dày')]\n",
      "Train samples: 192, Validation samples: 48\n"
     ]
    }
   ],
   "source": [
    "print(\"Initializing Enhanced ViHealthBERT Disease Prediction Pipeline\")\n",
    "print(\"=\" * 60)\n",
    "\n",
    "# Configuration\n",
    "config = Config()\n",
    "\n",
    "# Load model and tokenizer\n",
    "print(\"Loading pretrained model and tokenizer...\")\n",
    "tokenizer = AutoTokenizer.from_pretrained(config.model_name)\n",
    "vihealthbert = AutoModel.from_pretrained(config.model_name)\n",
    "\n",
    "# Prepare data\n",
    "texts = [sample[0] for sample in disease_data]  # Symptom descriptions\n",
    "labels = [sample[1] for sample in disease_data]  # Disease labels\n",
    "\n",
    "print(f\"\\nDataset Statistics:\")\n",
    "print(f\"Total samples: {len(disease_data)}\")\n",
    "print(f\"Unique diseases: {len(set(labels))}\")\n",
    "\n",
    "# Show sample data\n",
    "print(f\"\\nSample data:\")\n",
    "for i in range(min(5, len(disease_data))):\n",
    "    print(f\"Symptoms: {texts[i]}\")\n",
    "    print(f\"Disease: {labels[i]}\\n\")\n",
    "\n",
    "# Label encoding\n",
    "label_encoder = LabelEncoder()\n",
    "label_ids = label_encoder.fit_transform(labels)\n",
    "\n",
    "print(f\"Disease classes: {list(label_encoder.classes_)}\")\n",
    "\n",
    "# Create dataset\n",
    "full_dataset = DiseaseDataset(texts, label_ids, tokenizer, config.max_length)\n",
    "\n",
    "# Split dataset (80% train, 20% validation)\n",
    "train_size = int(0.8 * len(full_dataset))\n",
    "val_size = len(full_dataset) - train_size\n",
    "train_dataset, val_dataset = random_split(full_dataset, [train_size, val_size], generator=torch.Generator().manual_seed(42))\n",
    "\n",
    "print(f\"Train samples: {train_size}, Validation samples: {val_size}\")\n",
    "\n",
    "# Create data loaders\n",
    "train_loader = DataLoader(train_dataset, batch_size=config.batch_size, shuffle=True)\n",
    "val_loader = DataLoader(val_dataset, batch_size=config.batch_size, shuffle=False)\n"
   ]
  },
  {
   "cell_type": "code",
   "execution_count": 19,
   "metadata": {
    "colab": {
     "base_uri": "https://localhost:8080/"
    },
    "executionInfo": {
     "elapsed": 321944,
     "status": "ok",
     "timestamp": 1754717482191,
     "user": {
      "displayName": "Lương Đạt",
      "userId": "11214560588962627512"
     },
     "user_tz": -420
    },
    "id": "6hKA2KorRq22",
    "outputId": "b745ffb6-500f-4636-bbfe-34a46db22c86"
   },
   "outputs": [
    {
     "name": "stdout",
     "output_type": "stream",
     "text": [
      "Creating enhanced disease prediction model...\n",
      "Starting training...\n",
      "Training on device: cuda\n",
      "Model parameters: 135,106,384\n",
      "\n",
      "Epoch 1/20\n",
      "--------------------------------------------------\n"
     ]
    },
    {
     "name": "stderr",
     "output_type": "stream",
     "text": [
      "Training: 100%|██████████| 12/12 [00:07<00:00,  1.60it/s, Loss=3.2858, Acc=4.17%]\n",
      "Validating: 100%|██████████| 3/3 [00:00<00:00,  5.13it/s]\n"
     ]
    },
    {
     "name": "stdout",
     "output_type": "stream",
     "text": [
      "Train Loss: 3.2874, Train Acc: 4.17%\n",
      "Val Loss: 2.8553, Val Acc: 10.42%\n",
      "✓ Saved new best model\n",
      "\n",
      "Epoch 2/20\n",
      "--------------------------------------------------\n"
     ]
    },
    {
     "name": "stderr",
     "output_type": "stream",
     "text": [
      "Training: 100%|██████████| 12/12 [00:07<00:00,  1.61it/s, Loss=2.8742, Acc=4.17%]\n",
      "Validating: 100%|██████████| 3/3 [00:00<00:00,  5.42it/s]\n"
     ]
    },
    {
     "name": "stdout",
     "output_type": "stream",
     "text": [
      "Train Loss: 3.0750, Train Acc: 4.17%\n",
      "Val Loss: 2.6879, Val Acc: 18.75%\n",
      "✓ Saved new best model\n",
      "\n",
      "Epoch 3/20\n",
      "--------------------------------------------------\n"
     ]
    },
    {
     "name": "stderr",
     "output_type": "stream",
     "text": [
      "Training: 100%|██████████| 12/12 [00:07<00:00,  1.62it/s, Loss=2.8852, Acc=8.33%]\n",
      "Validating: 100%|██████████| 3/3 [00:00<00:00,  5.47it/s]\n"
     ]
    },
    {
     "name": "stdout",
     "output_type": "stream",
     "text": [
      "Train Loss: 2.9398, Train Acc: 8.33%\n",
      "Val Loss: 2.5872, Val Acc: 16.67%\n",
      "✓ Saved new best model\n",
      "\n",
      "Epoch 4/20\n",
      "--------------------------------------------------\n"
     ]
    },
    {
     "name": "stderr",
     "output_type": "stream",
     "text": [
      "Training: 100%|██████████| 12/12 [00:07<00:00,  1.60it/s, Loss=2.6978, Acc=12.50%]\n",
      "Validating: 100%|██████████| 3/3 [00:00<00:00,  5.43it/s]\n"
     ]
    },
    {
     "name": "stdout",
     "output_type": "stream",
     "text": [
      "Train Loss: 2.7805, Train Acc: 12.50%\n",
      "Val Loss: 2.4144, Val Acc: 29.17%\n",
      "✓ Saved new best model\n",
      "\n",
      "Epoch 5/20\n",
      "--------------------------------------------------\n"
     ]
    },
    {
     "name": "stderr",
     "output_type": "stream",
     "text": [
      "Training: 100%|██████████| 12/12 [00:07<00:00,  1.58it/s, Loss=2.7382, Acc=10.94%]\n",
      "Validating: 100%|██████████| 3/3 [00:00<00:00,  5.37it/s]\n"
     ]
    },
    {
     "name": "stdout",
     "output_type": "stream",
     "text": [
      "Train Loss: 2.7085, Train Acc: 10.94%\n",
      "Val Loss: 2.2394, Val Acc: 35.42%\n",
      "✓ Saved new best model\n",
      "\n",
      "Epoch 6/20\n",
      "--------------------------------------------------\n"
     ]
    },
    {
     "name": "stderr",
     "output_type": "stream",
     "text": [
      "Training: 100%|██████████| 12/12 [00:07<00:00,  1.56it/s, Loss=1.9442, Acc=27.60%]\n",
      "Validating: 100%|██████████| 3/3 [00:00<00:00,  5.26it/s]\n"
     ]
    },
    {
     "name": "stdout",
     "output_type": "stream",
     "text": [
      "Train Loss: 2.4243, Train Acc: 27.60%\n",
      "Val Loss: 2.0661, Val Acc: 39.58%\n",
      "✓ Saved new best model\n",
      "\n",
      "Epoch 7/20\n",
      "--------------------------------------------------\n"
     ]
    },
    {
     "name": "stderr",
     "output_type": "stream",
     "text": [
      "Training: 100%|██████████| 12/12 [00:07<00:00,  1.54it/s, Loss=2.3026, Acc=30.21%]\n",
      "Validating: 100%|██████████| 3/3 [00:00<00:00,  5.22it/s]\n"
     ]
    },
    {
     "name": "stdout",
     "output_type": "stream",
     "text": [
      "Train Loss: 2.3364, Train Acc: 30.21%\n",
      "Val Loss: 1.9304, Val Acc: 45.83%\n",
      "✓ Saved new best model\n",
      "\n",
      "Epoch 8/20\n",
      "--------------------------------------------------\n"
     ]
    },
    {
     "name": "stderr",
     "output_type": "stream",
     "text": [
      "Training: 100%|██████████| 12/12 [00:07<00:00,  1.52it/s, Loss=2.2189, Acc=30.21%]\n",
      "Validating: 100%|██████████| 3/3 [00:00<00:00,  5.11it/s]\n"
     ]
    },
    {
     "name": "stdout",
     "output_type": "stream",
     "text": [
      "Train Loss: 2.2017, Train Acc: 30.21%\n",
      "Val Loss: 1.7761, Val Acc: 52.08%\n",
      "✓ Saved new best model\n",
      "\n",
      "Epoch 9/20\n",
      "--------------------------------------------------\n"
     ]
    },
    {
     "name": "stderr",
     "output_type": "stream",
     "text": [
      "Training: 100%|██████████| 12/12 [00:08<00:00,  1.49it/s, Loss=2.0144, Acc=36.98%]\n",
      "Validating: 100%|██████████| 3/3 [00:00<00:00,  5.01it/s]\n"
     ]
    },
    {
     "name": "stdout",
     "output_type": "stream",
     "text": [
      "Train Loss: 2.0346, Train Acc: 36.98%\n",
      "Val Loss: 1.7128, Val Acc: 62.50%\n",
      "✓ Saved new best model\n",
      "\n",
      "Epoch 10/20\n",
      "--------------------------------------------------\n"
     ]
    },
    {
     "name": "stderr",
     "output_type": "stream",
     "text": [
      "Training: 100%|██████████| 12/12 [00:08<00:00,  1.49it/s, Loss=1.6429, Acc=45.31%]\n",
      "Validating: 100%|██████████| 3/3 [00:00<00:00,  4.97it/s]\n"
     ]
    },
    {
     "name": "stdout",
     "output_type": "stream",
     "text": [
      "Train Loss: 1.9148, Train Acc: 45.31%\n",
      "Val Loss: 1.6597, Val Acc: 58.33%\n",
      "✓ Saved new best model\n",
      "\n",
      "Epoch 11/20\n",
      "--------------------------------------------------\n"
     ]
    },
    {
     "name": "stderr",
     "output_type": "stream",
     "text": [
      "Training: 100%|██████████| 12/12 [00:08<00:00,  1.49it/s, Loss=1.9713, Acc=50.52%]\n",
      "Validating: 100%|██████████| 3/3 [00:00<00:00,  4.99it/s]\n"
     ]
    },
    {
     "name": "stdout",
     "output_type": "stream",
     "text": [
      "Train Loss: 1.9040, Train Acc: 50.52%\n",
      "Val Loss: 1.5358, Val Acc: 66.67%\n",
      "✓ Saved new best model\n",
      "\n",
      "Epoch 12/20\n",
      "--------------------------------------------------\n"
     ]
    },
    {
     "name": "stderr",
     "output_type": "stream",
     "text": [
      "Training: 100%|██████████| 12/12 [00:07<00:00,  1.50it/s, Loss=1.7377, Acc=55.21%]\n",
      "Validating: 100%|██████████| 3/3 [00:00<00:00,  5.12it/s]\n"
     ]
    },
    {
     "name": "stdout",
     "output_type": "stream",
     "text": [
      "Train Loss: 1.7417, Train Acc: 55.21%\n",
      "Val Loss: 1.4473, Val Acc: 70.83%\n",
      "✓ Saved new best model\n",
      "\n",
      "Epoch 13/20\n",
      "--------------------------------------------------\n"
     ]
    },
    {
     "name": "stderr",
     "output_type": "stream",
     "text": [
      "Training: 100%|██████████| 12/12 [00:08<00:00,  1.49it/s, Loss=1.5301, Acc=63.02%]\n",
      "Validating: 100%|██████████| 3/3 [00:00<00:00,  5.06it/s]\n"
     ]
    },
    {
     "name": "stdout",
     "output_type": "stream",
     "text": [
      "Train Loss: 1.6836, Train Acc: 63.02%\n",
      "Val Loss: 1.3763, Val Acc: 72.92%\n",
      "✓ Saved new best model\n",
      "\n",
      "Epoch 14/20\n",
      "--------------------------------------------------\n"
     ]
    },
    {
     "name": "stderr",
     "output_type": "stream",
     "text": [
      "Training: 100%|██████████| 12/12 [00:07<00:00,  1.51it/s, Loss=1.4928, Acc=66.67%]\n",
      "Validating: 100%|██████████| 3/3 [00:00<00:00,  5.04it/s]\n"
     ]
    },
    {
     "name": "stdout",
     "output_type": "stream",
     "text": [
      "Train Loss: 1.5546, Train Acc: 66.67%\n",
      "Val Loss: 1.3241, Val Acc: 79.17%\n",
      "✓ Saved new best model\n",
      "\n",
      "Epoch 15/20\n",
      "--------------------------------------------------\n"
     ]
    },
    {
     "name": "stderr",
     "output_type": "stream",
     "text": [
      "Training: 100%|██████████| 12/12 [00:08<00:00,  1.49it/s, Loss=1.6699, Acc=68.75%]\n",
      "Validating: 100%|██████████| 3/3 [00:00<00:00,  5.02it/s]\n"
     ]
    },
    {
     "name": "stdout",
     "output_type": "stream",
     "text": [
      "Train Loss: 1.5114, Train Acc: 68.75%\n",
      "Val Loss: 1.2626, Val Acc: 85.42%\n",
      "✓ Saved new best model\n",
      "\n",
      "Epoch 16/20\n",
      "--------------------------------------------------\n"
     ]
    },
    {
     "name": "stderr",
     "output_type": "stream",
     "text": [
      "Training: 100%|██████████| 12/12 [00:08<00:00,  1.48it/s, Loss=1.5138, Acc=72.92%]\n",
      "Validating: 100%|██████████| 3/3 [00:00<00:00,  4.99it/s]\n"
     ]
    },
    {
     "name": "stdout",
     "output_type": "stream",
     "text": [
      "Train Loss: 1.4477, Train Acc: 72.92%\n",
      "Val Loss: 1.2458, Val Acc: 83.33%\n",
      "✓ Saved new best model\n",
      "\n",
      "Epoch 17/20\n",
      "--------------------------------------------------\n"
     ]
    },
    {
     "name": "stderr",
     "output_type": "stream",
     "text": [
      "Training: 100%|██████████| 12/12 [00:08<00:00,  1.48it/s, Loss=1.1896, Acc=76.56%]\n",
      "Validating: 100%|██████████| 3/3 [00:00<00:00,  5.04it/s]\n"
     ]
    },
    {
     "name": "stdout",
     "output_type": "stream",
     "text": [
      "Train Loss: 1.3632, Train Acc: 76.56%\n",
      "Val Loss: 1.1835, Val Acc: 89.58%\n",
      "✓ Saved new best model\n",
      "\n",
      "Epoch 18/20\n",
      "--------------------------------------------------\n"
     ]
    },
    {
     "name": "stderr",
     "output_type": "stream",
     "text": [
      "Training: 100%|██████████| 12/12 [00:08<00:00,  1.47it/s, Loss=1.1619, Acc=75.52%]\n",
      "Validating: 100%|██████████| 3/3 [00:00<00:00,  4.96it/s]\n"
     ]
    },
    {
     "name": "stdout",
     "output_type": "stream",
     "text": [
      "Train Loss: 1.3422, Train Acc: 75.52%\n",
      "Val Loss: 1.1674, Val Acc: 91.67%\n",
      "✓ Saved new best model\n",
      "\n",
      "Epoch 19/20\n",
      "--------------------------------------------------\n"
     ]
    },
    {
     "name": "stderr",
     "output_type": "stream",
     "text": [
      "Training: 100%|██████████| 12/12 [00:08<00:00,  1.49it/s, Loss=1.3892, Acc=77.08%]\n",
      "Validating: 100%|██████████| 3/3 [00:00<00:00,  4.62it/s]\n"
     ]
    },
    {
     "name": "stdout",
     "output_type": "stream",
     "text": [
      "Train Loss: 1.3494, Train Acc: 77.08%\n",
      "Val Loss: 1.0634, Val Acc: 91.67%\n",
      "✓ Saved new best model\n",
      "\n",
      "Epoch 20/20\n",
      "--------------------------------------------------\n"
     ]
    },
    {
     "name": "stderr",
     "output_type": "stream",
     "text": [
      "Training: 100%|██████████| 12/12 [00:08<00:00,  1.49it/s, Loss=1.2654, Acc=82.81%]\n",
      "Validating: 100%|██████████| 3/3 [00:00<00:00,  5.11it/s]\n"
     ]
    },
    {
     "name": "stdout",
     "output_type": "stream",
     "text": [
      "Train Loss: 1.2211, Train Acc: 82.81%\n",
      "Val Loss: 1.0188, Val Acc: 93.75%\n",
      "✓ Saved new best model\n"
     ]
    }
   ],
   "source": [
    "# Create model\n",
    "print(\"Creating enhanced disease prediction model...\")\n",
    "model = DiseaseClassifier(vihealthbert, len(label_encoder.classes_), config)\n",
    "\n",
    "# Create trainer\n",
    "trainer = HealthBERTTrainer(model, train_loader, val_loader, config)\n",
    "\n",
    "# Train model\n",
    "print(\"Starting training...\")\n",
    "history = trainer.train()"
   ]
  },
  {
   "cell_type": "code",
   "execution_count": 20,
   "metadata": {
    "colab": {
     "base_uri": "https://localhost:8080/",
     "height": 450
    },
    "executionInfo": {
     "elapsed": 508,
     "status": "ok",
     "timestamp": 1754717482398,
     "user": {
      "displayName": "Lương Đạt",
      "userId": "11214560588962627512"
     },
     "user_tz": -420
    },
    "id": "sEplhWj_SxA1",
    "outputId": "f0da6614-0219-4621-942e-c3b02bb2b981"
   },
   "outputs": [
    {
     "data": {
      "image/png": "[encoded data removed]",
      "text/plain": [
       "<Figure size 1500x500 with 2 Axes>"
      ]
     },
     "metadata": {},
     "output_type": "display_data"
    }
   ],
   "source": [
    "# Plot results\n",
    "plot_training_history(history)"
   ]
  },
  {
   "cell_type": "code",
   "execution_count": 21,
   "metadata": {
    "colab": {
     "base_uri": "https://localhost:8080/"
    },
    "executionInfo": {
     "elapsed": 4658,
     "status": "ok",
     "timestamp": 1754717487202,
     "user": {
      "displayName": "Lương Đạt",
      "userId": "11214560588962627512"
     },
     "user_tz": -420
    },
    "id": "XYUK9B0HSzjE",
    "outputId": "99740bfd-74bd-4960-f002-bb333a2f7e24"
   },
   "outputs": [
    {
     "name": "stderr",
     "output_type": "stream",
     "text": [
      "Evaluating: 100%|██████████| 3/3 [00:00<00:00,  4.56it/s]\n"
     ]
    },
    {
     "name": "stdout",
     "output_type": "stream",
     "text": [
      "\n",
      "Evaluation Results:\n",
      "Accuracy: 0.9375\n",
      "Precision: 0.9578\n",
      "Recall: 0.9375\n",
      "F1-Score: 0.9401\n",
      "\n",
      "Detailed Classification Report:\n",
      "                  precision    recall  f1-score   support\n",
      "\n",
      "di_ứng_thực_phẩm       0.67      1.00      0.80         2\n",
      "dị_ứng_thời_tiết       1.00      1.00      1.00         3\n",
      "       hen_suyễn       1.00      1.00      1.00         2\n",
      "    hạ_canxi_máu       1.00      1.00      1.00         1\n",
      "         khô_mắt       0.50      1.00      0.67         1\n",
      "    sốt_phát_ban       1.00      0.80      0.89         5\n",
      "       thiếu_máu       1.00      0.80      0.89         5\n",
      "       tiêu_chảy       1.00      1.00      1.00         4\n",
      "             trĩ       1.00      1.00      1.00         3\n",
      "         táo_bón       0.00      0.00      0.00         0\n",
      "       viêm_khớp       1.00      1.00      1.00         4\n",
      " viêm_mũi_dị_ứng       0.86      1.00      0.92         6\n",
      "   viêm_mũi_họng       1.00      0.75      0.86         4\n",
      "      viêm_xoang       1.00      1.00      1.00         3\n",
      "      viêm_xương       1.00      1.00      1.00         3\n",
      "      đau_dạ_dày       1.00      1.00      1.00         2\n",
      "\n",
      "        accuracy                           0.94        48\n",
      "       macro avg       0.88      0.90      0.88        48\n",
      "    weighted avg       0.96      0.94      0.94        48\n",
      "\n"
     ]
    },
    {
     "data": {
      "text/plain": [
       "(0.9375, 0.9578373015873015, 0.9375, 0.9400539275539277)"
      ]
     },
     "execution_count": 21,
     "metadata": {},
     "output_type": "execute_result"
    }
   ],
   "source": [
    "# Evaluate model\n",
    "device = torch.device('cuda' if torch.cuda.is_available() else 'cpu')\n",
    "evaluate_model(model, val_loader, label_encoder, device)"
   ]
  },
  {
   "cell_type": "markdown",
   "metadata": {
    "id": "zkbVLa4rRWJY"
   },
   "source": [
    "# Hybrid Prediction"
   ]
  },
  {
   "cell_type": "code",
   "execution_count": 22,
   "metadata": {
    "executionInfo": {
     "elapsed": 342,
     "status": "ok",
     "timestamp": 1754717487345,
     "user": {
      "displayName": "Lương Đạt",
      "userId": "11214560588962627512"
     },
     "user_tz": -420
    },
    "id": "RCXlIYSxSbOE"
   },
   "outputs": [],
   "source": [
    "def predict_disease(model, tokenizer, label_encoder, text, device, max_length=256, top_k=3):\n",
    "    model.eval()\n",
    "    processed_text = preprocess_text(text)\n",
    "    encoding = tokenizer(\n",
    "        processed_text,\n",
    "        add_special_tokens=True,\n",
    "        max_length=max_length,\n",
    "        padding='max_length',\n",
    "        truncation=True,\n",
    "        return_attention_mask=True,\n",
    "        return_tensors='pt'\n",
    "    )\n",
    "    input_ids = encoding['input_ids'].to(device)\n",
    "    attention_mask = encoding['attention_mask'].to(device)\n",
    "    with torch.no_grad():\n",
    "        logits = model(input_ids, attention_mask)\n",
    "        probs = F.softmax(logits, dim=1).cpu().numpy()[0]\n",
    "    top_indices = np.argsort(probs)[::-1][:top_k]\n",
    "    top_labels = label_encoder.inverse_transform(top_indices)\n",
    "    top_probs = probs[top_indices]\n",
    "    return top_labels, top_probs, probs\n",
    "\n",
    "def explain_prediction(top_labels, top_scores, threshold=0.5):\n",
    "    if top_scores[0] >= threshold:\n",
    "        return f\"Bệnh dự đoán: {top_labels[0]} (độ tin cậy: {top_scores[0]:.2f})\"\n",
    "    else:\n",
    "        return f\"Có thể là: {', '.join(top_labels[:2])} (độ tin cậy: {top_scores[0]:.2f}, {top_scores[1]:.2f})\""
   ]
  },
  {
   "cell_type": "code",
   "execution_count": 23,
   "metadata": {
    "executionInfo": {
     "elapsed": 4,
     "status": "ok",
     "timestamp": 1754717487353,
     "user": {
      "displayName": "Lương Đạt",
      "userId": "11214560588962627512"
     },
     "user_tz": -420
    },
    "id": "03iQp_vWRM1v"
   },
   "outputs": [],
   "source": [
    "def predict_disease_with_rules(text, disease_keywords, label_encoder):\n",
    "    input_words = set(preprocess_text(text).lower().split())\n",
    "    scores = []\n",
    "    for label in label_encoder.classes_:\n",
    "        keywords = set(disease_keywords.get(label, []))\n",
    "        score = len(input_words & keywords) / (len(keywords) or 1)\n",
    "        scores.append(score)\n",
    "    return np.array(scores)\n",
    "\n",
    "def hybrid_predict(model, tokenizer, label_encoder, text, device, disease_keywords, max_length=256, top_k=3, alpha=0.7):\n",
    "    # Model prediction\n",
    "    top_labels, top_probs, probs = predict_disease(model, tokenizer, label_encoder, text, device, max_length, top_k=len(label_encoder.classes_))\n",
    "    # Rule-based prediction\n",
    "    rule_scores = predict_disease_with_rules(text, disease_keywords, label_encoder)\n",
    "    # Weighted sum\n",
    "    combined = alpha * probs + (1 - alpha) * rule_scores\n",
    "    top_indices = np.argsort(combined)[::-1][:top_k]\n",
    "    top_labels = label_encoder.inverse_transform(top_indices)\n",
    "    top_scores = combined[top_indices]\n",
    "    return top_labels, top_scores, combined\n",
    "\n",
    "def calculate_symptom_similarity(input_symptoms, disease_keywords):\n",
    "    \"\"\"Calculate similarity between input symptoms and disease keywords\"\"\"\n",
    "    # Simple keyword matching - can be enhanced with word embeddings\n",
    "    input_words = set(input_symptoms.lower().split())\n",
    "\n",
    "    similarity_scores = {}\n",
    "    for disease, keywords in disease_keywords.items():\n",
    "        keyword_set = set(keywords)\n",
    "        intersection = input_words.intersection(keyword_set)\n",
    "        similarity = len(intersection) / len(keyword_set) if keyword_set else 0\n",
    "        similarity_scores[disease] = similarity\n",
    "\n",
    "    return similarity_scores\n",
    "\n",
    "def enhanced_disease_prediction(model, tokenizer, label_encoder, text, device, max_length=256):\n",
    "    \"\"\"Enhanced prediction combining model prediction and rule-based matching\"\"\"\n",
    "\n",
    "    # Get model prediction\n",
    "    predicted_label, confidence, probabilities = predict_disease(\n",
    "        model, tokenizer, label_encoder, text, device, max_length, top_k=3\n",
    "    )\n",
    "\n",
    "    # Calculate rule-based similarity\n",
    "    similarity_scores = calculate_symptom_similarity(text, disease_keywords)\n",
    "\n",
    "    # Combine model prediction with rule-based scoring\n",
    "    combined_scores = {}\n",
    "    for i, label in enumerate(label_encoder.classes_):\n",
    "        model_score = probabilities[i]\n",
    "        rule_score = similarity_scores.get(label, 0)\n",
    "        # Weighted combination: 90% model, 10% rules\n",
    "        combined_score = 0.9 * model_score + 0.1 * rule_score\n",
    "        combined_scores[label] = combined_score\n",
    "\n",
    "    # Get final prediction based on combined scores\n",
    "    best_disease = max(combined_scores, key=combined_scores.get)\n",
    "    best_combined_score = combined_scores[best_disease]\n",
    "\n",
    "    # Sort by combined scores for top predictions\n",
    "    sorted_diseases = sorted(combined_scores.items(), key=lambda x: x[1], reverse=True)\n",
    "\n",
    "    print(f\"\\n📊 Detailed Analysis:\")\n",
    "    print(f\"Model prediction: {predicted_label} (confidence: {confidence:.4f})\")\n",
    "    print(f\"Rule-based enhancement: {best_disease} (combined score: {best_combined_score:.4f})\")\n",
    "\n",
    "    # Enhanced decision logic\n",
    "    if best_combined_score > 0.3:  # Threshold for confident prediction\n",
    "        final_prediction = best_disease\n",
    "        final_confidence = best_combined_score\n",
    "    else:\n",
    "        # Low confidence - suggest multiple possibilities\n",
    "        top_3 = [disease for disease, score in sorted_diseases[:3] if score > 0.1]\n",
    "        if len(top_3) > 1:\n",
    "            final_prediction = f\"Có thể là: {', '.join(top_3[:2])}\"\n",
    "            final_confidence = sum([score for _, score in sorted_diseases[:2]]) / 2\n",
    "        else:\n",
    "            final_prediction = predicted_label\n",
    "            final_confidence = confidence\n",
    "\n",
    "    return final_prediction, final_confidence, sorted_diseases[:3]\n"
   ]
  },
  {
   "cell_type": "code",
   "execution_count": 24,
   "metadata": {
    "executionInfo": {
     "elapsed": 6,
     "status": "ok",
     "timestamp": 1754717487600,
     "user": {
      "displayName": "Lương Đạt",
      "userId": "11214560588962627512"
     },
     "user_tz": -420
    },
    "id": "703UoknZ5bmo"
   },
   "outputs": [],
   "source": [
    "from collections import Counter, defaultdict\n",
    "from underthesea import word_tokenize\n",
    "import re\n",
    "def extract_keywords_from_symptoms(disease_data, max_keywords=8):\n",
    "    \"\"\"\n",
    "    Trích xuất từ khóa quan trọng nhất cho mỗi bệnh từ các triệu chứng\n",
    "    \"\"\"\n",
    "    print(\"Đang trích xuất từ khóa...\")\n",
    "\n",
    "    # Nhóm triệu chứng theo bệnh\n",
    "    disease_symptoms = defaultdict(list)\n",
    "    for symptom, disease in disease_data:\n",
    "        disease_symptoms[disease].append(symptom)\n",
    "\n",
    "\n",
    "    # Danh sách từ dừng (stop words) tiếng Việt\n",
    "    stop_words = {\n",
    "        'và', 'của', 'có', 'là', 'được', 'trong', 'với', 'cho', 'từ', 'trên',\n",
    "        'theo', 'về', 'như', 'khi', 'nếu', 'để', 'này', 'đó', 'những', 'các',\n",
    "        'một', 'hai', 'ba', 'bốn', 'năm', 'sáu', 'bảy', 'tám', 'chín', 'mười',\n",
    "        'người', 'bệnh', 'nhân', 'bị', 'cảm', 'thấy', 'triệu', 'chứng', 'dấu',\n",
    "        'hiệu', 'tình', 'trạng', 'xuất', 'hiện', 'gặp', 'phải', 'thường',\n",
    "        'rất', 'khá', 'hơi', 'một', 'chút', 'ít', 'nhiều', 'lúc', 'khi'\n",
    "    }\n",
    "\n",
    "    disease_keywords = {}\n",
    "\n",
    "    for disease, symptoms in disease_symptoms.items():\n",
    "        # Kết hợp tất cả triệu chứng của bệnh\n",
    "        all_symptoms_text = ' '.join(symptoms)\n",
    "\n",
    "        # Tách từ bằng underthesea\n",
    "        try:\n",
    "            words = word_tokenize(all_symptoms_text.lower())\n",
    "        except:\n",
    "            # Fallback nếu underthesea lỗi\n",
    "            words = all_symptoms_text.lower().split()\n",
    "\n",
    "        # Lọc từ (loại bỏ từ dừng, từ quá ngắn, số)\n",
    "        filtered_words = []\n",
    "        for word in words:\n",
    "            word = re.sub(r'[^\\w]', '', word)  # Loại bỏ dấu câu\n",
    "\n",
    "            # Xử lý từ ghép tự động: nếu từ có >= 4 ký tự và chứa 2+ âm tiết\n",
    "            if len(word) >= 4 and word.isalpha():\n",
    "                # Danh sách âm tiết phổ biến tiếng Việt để nhận diện\n",
    "                syllable_patterns = [\n",
    "                    'đau', 'khó', 'buồn', 'mệt', 'khát', 'sốt', 'nghẹt', 'chóng',\n",
    "                    'hoa', 'đói', 'gầy', 'tê', 'cứng', 'sưng', 'khàn', 'nhức',\n",
    "                    'căng', 'đầy', 'táo', 'lỏng', 'nóng', 'lạnh', 'ớn', 'chua'\n",
    "                ]\n",
    "\n",
    "                # Kiểm tra và tách từ ghép\n",
    "                for pattern in syllable_patterns:\n",
    "                    if word.startswith(pattern) and len(word) > len(pattern):\n",
    "                        remaining = word[len(pattern):]\n",
    "                        if len(remaining) >= 2:  # Phần còn lại phải >= 2 ký tự\n",
    "                            word = pattern + '_' + remaining\n",
    "                            break\n",
    "\n",
    "            if (len(word) >= 2 and\n",
    "                word not in stop_words and\n",
    "                not word.isdigit() and\n",
    "                (word.isalpha() or '_' in word)):  # Cho phép dấu gạch dưới\n",
    "                filtered_words.append(word)\n",
    "\n",
    "        # Đếm tần suất từ\n",
    "        word_counts = Counter(filtered_words)\n",
    "\n",
    "        # Lấy top từ khóa\n",
    "        top_keywords = [word for word, count in word_counts.most_common(max_keywords)]\n",
    "\n",
    "        disease_keywords[disease] = top_keywords\n",
    "\n",
    "        print(f\"{disease}: {len(symptoms)} triệu chứng -> {len(top_keywords)} từ khóa\")\n",
    "\n",
    "    return disease_keywords"
   ]
  },
  {
   "cell_type": "code",
   "execution_count": 25,
   "metadata": {
    "colab": {
     "base_uri": "https://localhost:8080/"
    },
    "executionInfo": {
     "elapsed": 102,
     "status": "ok",
     "timestamp": 1754717487845,
     "user": {
      "displayName": "Lương Đạt",
      "userId": "11214560588962627512"
     },
     "user_tz": -420
    },
    "id": "730Ce-tt5cp0",
    "outputId": "92cfbbff-f0ad-43fa-8505-ecaaa30bdeff"
   },
   "outputs": [
    {
     "name": "stdout",
     "output_type": "stream",
     "text": [
      "Đang trích xuất từ khóa...\n",
      "tiêu_chảy: 15 triệu chứng -> 4 từ khóa\n",
      "táo_bón: 15 triệu chứng -> 4 từ khóa\n",
      "viêm_mũi_họng: 15 triệu chứng -> 4 từ khóa\n",
      "khô_mắt: 15 triệu chứng -> 4 từ khóa\n",
      "hạ_canxi_máu: 15 triệu chứng -> 4 từ khóa\n",
      "sốt_phát_ban: 15 triệu chứng -> 4 từ khóa\n",
      "viêm_xương: 15 triệu chứng -> 4 từ khóa\n",
      "viêm_khớp: 15 triệu chứng -> 4 từ khóa\n",
      "đau_dạ_dày: 15 triệu chứng -> 4 từ khóa\n",
      "viêm_xoang: 15 triệu chứng -> 4 từ khóa\n",
      "viêm_mũi_dị_ứng: 15 triệu chứng -> 4 từ khóa\n",
      "thiếu_máu: 15 triệu chứng -> 4 từ khóa\n",
      "hen_suyễn: 15 triệu chứng -> 4 từ khóa\n",
      "di_ứng_thực_phẩm: 15 triệu chứng -> 4 từ khóa\n",
      "dị_ứng_thời_tiết: 15 triệu chứng -> 4 từ khóa\n",
      "trĩ: 15 triệu chứng -> 4 từ khóa\n"
     ]
    }
   ],
   "source": [
    "disease_keywords = extract_keywords_from_symptoms(disease_data, max_keywords=4)"
   ]
  },
  {
   "cell_type": "code",
   "execution_count": 26,
   "metadata": {
    "colab": {
     "base_uri": "https://localhost:8080/"
    },
    "executionInfo": {
     "elapsed": 498,
     "status": "ok",
     "timestamp": 1754717488348,
     "user": {
      "displayName": "Lương Đạt",
      "userId": "11214560588962627512"
     },
     "user_tz": -420
    },
    "id": "k9XhEQLe-98g",
    "outputId": "762f8f6c-cf5b-42ba-de41-da1e34e40b16"
   },
   "outputs": [
    {
     "name": "stdout",
     "output_type": "stream",
     "text": [
      "{'tiêu_chảy': ['tôi', 'nướctiểu', 'khô', 'da'], 'táo_bón': ['tôi', 'đau', 'bụng', 'đang'], 'viêm_mũi_họng': ['tôi', 'chảy', 'đau', 'mũi'], 'khô_mắt': ['tôi', 'mắt', 'cộm', 'hạtsạn'], 'hạ_canxi_máu': ['tôi', 'rốiloạn', 'trầmcảm', 'nhịp'], 'sốt_phát_ban': ['tôi', 'sưng', 'cùng', 'chán'], 'viêm_xương': ['da', 'tôi', 'khớp', 'viêm'], 'viêm_khớp': ['tôi', 'khớp', 'phátban', 'đỏ'], 'đau_dạ_dày': ['tôi', 'thở', 'mùi', 'đau'], 'viêm_xoang': ['tôi', 'mũi', 'đau', 'nhức'], 'viêm_mũi_dị_ứng': ['tôi', 'chảy', 'viêm', 'mũi'], 'thiếu_máu': ['tôi', 'da', 'xanhxao', 'niêmmạc'], 'hen_suyễn': ['thở', 'tôi', 'khó', 'đang'], 'di_ứng_thực_phẩm': ['tôi', 'sưng', 'môi', 'thở'], 'dị_ứng_thời_tiết': ['tôi', 'da', 'nổi', 'tụt'], 'trĩ': ['tôi', 'hậumôn', 'khối', 'trĩ']}\n"
     ]
    }
   ],
   "source": [
    "print(disease_keywords)"
   ]
  },
  {
   "cell_type": "code",
   "execution_count": 27,
   "metadata": {
    "colab": {
     "base_uri": "https://localhost:8080/"
    },
    "executionInfo": {
     "elapsed": 449,
     "status": "ok",
     "timestamp": 1754717488652,
     "user": {
      "displayName": "Lương Đạt",
      "userId": "11214560588962627512"
     },
     "user_tz": -420
    },
    "id": "IfKL9StptscZ",
    "outputId": "f46134c3-075f-4a78-f564-c1a84098f53d"
   },
   "outputs": [
    {
     "name": "stdout",
     "output_type": "stream",
     "text": [
      "\n",
      "============================================================\n",
      "TESTING DISEASE PREDICTION:\n",
      "============================================================\n",
      "\n",
      "Symptoms:  tôi bị chóng mặt buồn nôn\n",
      "Có thể là: khô_mắt, di_ứng_thực_phẩm (độ tin cậy: 0.29, 0.18)\n",
      "Top 3 predictions:\n",
      "  1. khô_mắt: 0.2876\n",
      "  2. di_ứng_thực_phẩm: 0.1815\n",
      "  3. hạ_canxi_máu: 0.1723\n",
      "--------------------------------------------------\n",
      "\n",
      "Symptoms: tôi đang bị da bị phù lên, da bị xung huyết, nổi mề đay\n",
      "Bệnh dự đoán: dị_ứng_thời_tiết (độ tin cậy: 0.78)\n",
      "Top 3 predictions:\n",
      "  1. dị_ứng_thời_tiết: 0.7825\n",
      "  2. viêm_xương: 0.1660\n",
      "  3. thiếu_máu: 0.1600\n",
      "--------------------------------------------------\n",
      "\n",
      "Symptoms: tôi bị Sốt cao trên 39.4 độ C,  phát ban, khó chịu, chán ăn\n",
      "Có thể là: sốt_phát_ban, dị_ứng_thời_tiết (độ tin cậy: 0.25, 0.21)\n",
      "Top 3 predictions:\n",
      "  1. sốt_phát_ban: 0.2482\n",
      "  2. dị_ứng_thời_tiết: 0.2056\n",
      "  3. tiêu_chảy: 0.1901\n",
      "--------------------------------------------------\n"
     ]
    }
   ],
   "source": [
    "\n",
    "# Test predictions with symptom examples\n",
    "test_cases = [\n",
    "    \" tôi bị chóng mặt buồn nôn\",\n",
    "    \"tôi đang bị da bị phù lên, da bị xung huyết, nổi mề đay\",\n",
    "    \"tôi bị Sốt cao trên 39.4 độ C,  phát ban, khó chịu, chán ăn\"\n",
    "]\n",
    "\n",
    "print(f\"\\n{'='*60}\")\n",
    "print(\"TESTING DISEASE PREDICTION:\")\n",
    "print(f\"{'='*60}\")\n",
    "\n",
    "for test_text in test_cases:\n",
    "    print(f\"\\nSymptoms: {test_text}\")\n",
    "\n",
    "    top_labels, top_scores, combined = hybrid_predict(\n",
    "        model, tokenizer, label_encoder, test_text, device, disease_keywords, max_length=256, top_k=3, alpha=0.7\n",
    "    )\n",
    "    print(explain_prediction(top_labels, top_scores))\n",
    "\n",
    "    # Show top 3 predictions\n",
    "    print(\"Top 3 predictions:\")\n",
    "    for i, label in enumerate(top_labels):\n",
    "        print(f\"  {i+1}. {label}: {top_scores[i]:.4f}\")\n",
    "    print(\"-\" * 50)\n"
   ]
  },
  {
   "cell_type": "code",
   "execution_count": 28,
   "metadata": {
    "colab": {
     "base_uri": "https://localhost:8080/"
    },
    "executionInfo": {
     "elapsed": 3450,
     "status": "ok",
     "timestamp": 1754717491853,
     "user": {
      "displayName": "Lương Đạt",
      "userId": "11214560588962627512"
     },
     "user_tz": -420
    },
    "id": "CBwSLTg6TRde",
    "outputId": "3112fdba-df06-4b80-f2ce-4798c7fe502f"
   },
   "outputs": [
    {
     "name": "stdout",
     "output_type": "stream",
     "text": [
      "\n",
      "Saving trained model...\n",
      "✓ Model saved successfully!\n"
     ]
    }
   ],
   "source": [
    "# Save the trained model and tokenizer for future use\n",
    "print(\"\\nSaving trained model...\")\n",
    "torch.save({\n",
    "    'model_state_dict': model.state_dict(),\n",
    "    'label_encoder': label_encoder,\n",
    "    'config': config\n",
    "}, 'vihealthbert_disease_model.pth')\n",
    "\n",
    "print(\"✓ Model saved successfully!\")"
   ]
  },
  {
   "cell_type": "code",
   "execution_count": null,
   "metadata": {
    "id": "PmlCOPt0T3ct"
   },
   "outputs": [],
   "source": []
  }
 ],
 "metadata": {
  "accelerator": "GPU",
  "colab": {
   "authorship_tag": "ABX9TyNxLkMjTXRPapHl6YXagdZN",
   "gpuType": "T4",
   "provenance": []
  },
  "kernelspec": {
   "display_name": "Python 3",
   "name": "python3"
  },
  "language_info": {
   "name": "python"
  },
  "widgets": {
   "application/vnd.jupyter.widget-state+json": {
    "0b5902396170499c9e7615e6374d346f": {
     "model_module": "@jupyter-widgets/base",
     "model_module_version": "1.2.0",
     "model_name": "LayoutModel",
     "state": {
      "_model_module": "@jupyter-widgets/base",
      "_model_module_version": "1.2.0",
      "_model_name": "LayoutModel",
      "_view_count": null,
      "_view_module": "@jupyter-widgets/base",
      "_view_module_version": "1.2.0",
      "_view_name": "LayoutView",
      "align_content": null,
      "align_items": null,
      "align_self": null,
      "border": null,
      "bottom": null,
      "display": null,
      "flex": null,
      "flex_flow": null,
      "grid_area": null,
      "grid_auto_columns": null,
      "grid_auto_flow": null,
      "grid_auto_rows": null,
      "grid_column": null,
      "grid_gap": null,
      "grid_row": null,
      "grid_template_areas": null,
      "grid_template_columns": null,
      "grid_template_rows": null,
      "height": null,
      "justify_content": null,
      "justify_items": null,
      "left": null,
      "margin": null,
      "max_height": null,
      "max_width": null,
      "min_height": null,
      "min_width": null,
      "object_fit": null,
      "object_position": null,
      "order": null,
      "overflow": null,
      "overflow_x": null,
      "overflow_y": null,
      "padding": null,
      "right": null,
      "top": null,
      "visibility": null,
      "width": null
     }
    },
    "0f2f9b6da5be4ddbab06c591766052f9": {
     "model_module": "@jupyter-widgets/base",
     "model_module_version": "1.2.0",
     "model_name": "LayoutModel",
     "state": {
      "_model_module": "@jupyter-widgets/base",
      "_model_module_version": "1.2.0",
      "_model_name": "LayoutModel",
      "_view_count": null,
      "_view_module": "@jupyter-widgets/base",
      "_view_module_version": "1.2.0",
      "_view_name": "LayoutView",
      "align_content": null,
      "align_items": null,
      "align_self": null,
      "border": null,
      "bottom": null,
      "display": null,
      "flex": null,
      "flex_flow": null,
      "grid_area": null,
      "grid_auto_columns": null,
      "grid_auto_flow": null,
      "grid_auto_rows": null,
      "grid_column": null,
      "grid_gap": null,
      "grid_row": null,
      "grid_template_areas": null,
      "grid_template_columns": null,
      "grid_template_rows": null,
      "height": null,
      "justify_content": null,
      "justify_items": null,
      "left": null,
      "margin": null,
      "max_height": null,
      "max_width": null,
      "min_height": null,
      "min_width": null,
      "object_fit": null,
      "object_position": null,
      "order": null,
      "overflow": null,
      "overflow_x": null,
      "overflow_y": null,
      "padding": null,
      "right": null,
      "top": null,
      "visibility": null,
      "width": "20px"
     }
    },
    "12ebaaae73764aaf856eb290217716ec": {
     "model_module": "@jupyter-widgets/controls",
     "model_module_version": "1.5.0",
     "model_name": "HBoxModel",
     "state": {
      "_dom_classes": [],
      "_model_module": "@jupyter-widgets/controls",
      "_model_module_version": "1.5.0",
      "_model_name": "HBoxModel",
      "_view_count": null,
      "_view_module": "@jupyter-widgets/controls",
      "_view_module_version": "1.5.0",
      "_view_name": "HBoxView",
      "box_style": "",
      "children": [
       "IPY_MODEL_e46011f50cd945bb9c9b2fb2b845d3b1",
       "IPY_MODEL_3d684f8a33a64ea59edd2444f1b351fb",
       "IPY_MODEL_38222a609da14faaa356663db98622e2"
      ],
      "layout": "IPY_MODEL_7f4b78c9512243e295189570c6501bdf"
     }
    },
    "142fb2acb68b44baa1a6a9f481b975fb": {
     "model_module": "@jupyter-widgets/base",
     "model_module_version": "1.2.0",
     "model_name": "LayoutModel",
     "state": {
      "_model_module": "@jupyter-widgets/base",
      "_model_module_version": "1.2.0",
      "_model_name": "LayoutModel",
      "_view_count": null,
      "_view_module": "@jupyter-widgets/base",
      "_view_module_version": "1.2.0",
      "_view_name": "LayoutView",
      "align_content": null,
      "align_items": null,
      "align_self": null,
      "border": null,
      "bottom": null,
      "display": null,
      "flex": null,
      "flex_flow": null,
      "grid_area": null,
      "grid_auto_columns": null,
      "grid_auto_flow": null,
      "grid_auto_rows": null,
      "grid_column": null,
      "grid_gap": null,
      "grid_row": null,
      "grid_template_areas": null,
      "grid_template_columns": null,
      "grid_template_rows": null,
      "height": null,
      "justify_content": null,
      "justify_items": null,
      "left": null,
      "margin": null,
      "max_height": null,
      "max_width": null,
      "min_height": null,
      "min_width": null,
      "object_fit": null,
      "object_position": null,
      "order": null,
      "overflow": null,
      "overflow_x": null,
      "overflow_y": null,
      "padding": null,
      "right": null,
      "top": null,
      "visibility": null,
      "width": null
     }
    },
    "1e688ae42de8420983dd962e01099963": {
     "model_module": "@jupyter-widgets/controls",
     "model_module_version": "1.5.0",
     "model_name": "DescriptionStyleModel",
     "state": {
      "_model_module": "@jupyter-widgets/controls",
      "_model_module_version": "1.5.0",
      "_model_name": "DescriptionStyleModel",
      "_view_count": null,
      "_view_module": "@jupyter-widgets/base",
      "_view_module_version": "1.2.0",
      "_view_name": "StyleView",
      "description_width": ""
     }
    },
    "2140a38d644046938dee149f7cb85370": {
     "model_module": "@jupyter-widgets/controls",
     "model_module_version": "1.5.0",
     "model_name": "DescriptionStyleModel",
     "state": {
      "_model_module": "@jupyter-widgets/controls",
      "_model_module_version": "1.5.0",
      "_model_name": "DescriptionStyleModel",
      "_view_count": null,
      "_view_module": "@jupyter-widgets/base",
      "_view_module_version": "1.2.0",
      "_view_name": "StyleView",
      "description_width": ""
     }
    },
    "2151ceff1a034078b4452f08d8ff0096": {
     "model_module": "@jupyter-widgets/controls",
     "model_module_version": "1.5.0",
     "model_name": "HTMLModel",
     "state": {
      "_dom_classes": [],
      "_model_module": "@jupyter-widgets/controls",
      "_model_module_version": "1.5.0",
      "_model_name": "HTMLModel",
      "_view_count": null,
      "_view_module": "@jupyter-widgets/controls",
      "_view_module_version": "1.5.0",
      "_view_name": "HTMLView",
      "description": "",
      "description_tooltip": null,
      "layout": "IPY_MODEL_757e397868ab4fd2bba029806b191466",
      "placeholder": "​",
      "style": "IPY_MODEL_86812e7a0d36416c949c4048fbe4f88c",
      "value": "bpe.codes: "
     }
    },
    "2478aee5e88b432599c67890fe2e0e1f": {
     "model_module": "@jupyter-widgets/controls",
     "model_module_version": "1.5.0",
     "model_name": "HTMLModel",
     "state": {
      "_dom_classes": [],
      "_model_module": "@jupyter-widgets/controls",
      "_model_module_version": "1.5.0",
      "_model_name": "HTMLModel",
      "_view_count": null,
      "_view_module": "@jupyter-widgets/controls",
      "_view_module_version": "1.5.0",
      "_view_name": "HTMLView",
      "description": "",
      "description_tooltip": null,
      "layout": "IPY_MODEL_7a187bafc7534541aadadb40e33f0e49",
      "placeholder": "​",
      "style": "IPY_MODEL_c751edc0c2e3443cb122340fba52c227",
      "value": " 895k/? [00:00&lt;00:00, 34.2MB/s]"
     }
    },
    "27d7263572404a12a47b8d8077de777a": {
     "model_module": "@jupyter-widgets/base",
     "model_module_version": "1.2.0",
     "model_name": "LayoutModel",
     "state": {
      "_model_module": "@jupyter-widgets/base",
      "_model_module_version": "1.2.0",
      "_model_name": "LayoutModel",
      "_view_count": null,
      "_view_module": "@jupyter-widgets/base",
      "_view_module_version": "1.2.0",
      "_view_name": "LayoutView",
      "align_content": null,
      "align_items": null,
      "align_self": null,
      "border": null,
      "bottom": null,
      "display": null,
      "flex": null,
      "flex_flow": null,
      "grid_area": null,
      "grid_auto_columns": null,
      "grid_auto_flow": null,
      "grid_auto_rows": null,
      "grid_column": null,
      "grid_gap": null,
      "grid_row": null,
      "grid_template_areas": null,
      "grid_template_columns": null,
      "grid_template_rows": null,
      "height": null,
      "justify_content": null,
      "justify_items": null,
      "left": null,
      "margin": null,
      "max_height": null,
      "max_width": null,
      "min_height": null,
      "min_width": null,
      "object_fit": null,
      "object_position": null,
      "order": null,
      "overflow": null,
      "overflow_x": null,
      "overflow_y": null,
      "padding": null,
      "right": null,
      "top": null,
      "visibility": null,
      "width": null
     }
    },
    "35ca1c0ba5a34aa98e08ef08dfffe2df": {
     "model_module": "@jupyter-widgets/controls",
     "model_module_version": "1.5.0",
     "model_name": "ProgressStyleModel",
     "state": {
      "_model_module": "@jupyter-widgets/controls",
      "_model_module_version": "1.5.0",
      "_model_name": "ProgressStyleModel",
      "_view_count": null,
      "_view_module": "@jupyter-widgets/base",
      "_view_module_version": "1.2.0",
      "_view_name": "StyleView",
      "bar_color": null,
      "description_width": ""
     }
    },
    "38222a609da14faaa356663db98622e2": {
     "model_module": "@jupyter-widgets/controls",
     "model_module_version": "1.5.0",
     "model_name": "HTMLModel",
     "state": {
      "_dom_classes": [],
      "_model_module": "@jupyter-widgets/controls",
      "_model_module_version": "1.5.0",
      "_model_name": "HTMLModel",
      "_view_count": null,
      "_view_module": "@jupyter-widgets/controls",
      "_view_module_version": "1.5.0",
      "_view_name": "HTMLView",
      "description": "",
      "description_tooltip": null,
      "layout": "IPY_MODEL_9925ad3b893b4e719995a71dae8c0e1c",
      "placeholder": "​",
      "style": "IPY_MODEL_2140a38d644046938dee149f7cb85370",
      "value": " 817/817 [00:00&lt;00:00, 88.3kB/s]"
     }
    },
    "3d684f8a33a64ea59edd2444f1b351fb": {
     "model_module": "@jupyter-widgets/controls",
     "model_module_version": "1.5.0",
     "model_name": "FloatProgressModel",
     "state": {
      "_dom_classes": [],
      "_model_module": "@jupyter-widgets/controls",
      "_model_module_version": "1.5.0",
      "_model_name": "FloatProgressModel",
      "_view_count": null,
      "_view_module": "@jupyter-widgets/controls",
      "_view_module_version": "1.5.0",
      "_view_name": "ProgressView",
      "bar_style": "success",
      "description": "",
      "description_tooltip": null,
      "layout": "IPY_MODEL_142fb2acb68b44baa1a6a9f481b975fb",
      "max": 817,
      "min": 0,
      "orientation": "horizontal",
      "style": "IPY_MODEL_4b8e1a53f14f4412b003fdfc153f6de7",
      "value": 817
     }
    },
    "3dda0c860bb64b7db5958f7db720b2ef": {
     "model_module": "@jupyter-widgets/controls",
     "model_module_version": "1.5.0",
     "model_name": "HBoxModel",
     "state": {
      "_dom_classes": [],
      "_model_module": "@jupyter-widgets/controls",
      "_model_module_version": "1.5.0",
      "_model_name": "HBoxModel",
      "_view_count": null,
      "_view_module": "@jupyter-widgets/controls",
      "_view_module_version": "1.5.0",
      "_view_name": "HBoxView",
      "box_style": "",
      "children": [
       "IPY_MODEL_a52a8daba5c0436c946cdeff37c4569b",
       "IPY_MODEL_65f0c470f6f64481890503330b27c5d3",
       "IPY_MODEL_4748a46cb4274102a214fea5abd37f89"
      ],
      "layout": "IPY_MODEL_e0c6db50289143a495dbb9c34b40024b"
     }
    },
    "464ec41afac64da193121fcd4bdf3257": {
     "model_module": "@jupyter-widgets/controls",
     "model_module_version": "1.5.0",
     "model_name": "DescriptionStyleModel",
     "state": {
      "_model_module": "@jupyter-widgets/controls",
      "_model_module_version": "1.5.0",
      "_model_name": "DescriptionStyleModel",
      "_view_count": null,
      "_view_module": "@jupyter-widgets/base",
      "_view_module_version": "1.2.0",
      "_view_name": "StyleView",
      "description_width": ""
     }
    },
    "4748a46cb4274102a214fea5abd37f89": {
     "model_module": "@jupyter-widgets/controls",
     "model_module_version": "1.5.0",
     "model_name": "HTMLModel",
     "state": {
      "_dom_classes": [],
      "_model_module": "@jupyter-widgets/controls",
      "_model_module_version": "1.5.0",
      "_model_name": "HTMLModel",
      "_view_count": null,
      "_view_module": "@jupyter-widgets/controls",
      "_view_module_version": "1.5.0",
      "_view_name": "HTMLView",
      "description": "",
      "description_tooltip": null,
      "layout": "IPY_MODEL_0b5902396170499c9e7615e6374d346f",
      "placeholder": "​",
      "style": "IPY_MODEL_e7a18540780a476489b647775bf54520",
      "value": " 540M/540M [00:04&lt;00:00, 38.4MB/s]"
     }
    },
    "4b8e1a53f14f4412b003fdfc153f6de7": {
     "model_module": "@jupyter-widgets/controls",
     "model_module_version": "1.5.0",
     "model_name": "ProgressStyleModel",
     "state": {
      "_model_module": "@jupyter-widgets/controls",
      "_model_module_version": "1.5.0",
      "_model_name": "ProgressStyleModel",
      "_view_count": null,
      "_view_module": "@jupyter-widgets/base",
      "_view_module_version": "1.2.0",
      "_view_name": "StyleView",
      "bar_color": null,
      "description_width": ""
     }
    },
    "4bfdc0ce7b2945dcb42942bf5f5a8560": {
     "model_module": "@jupyter-widgets/base",
     "model_module_version": "1.2.0",
     "model_name": "LayoutModel",
     "state": {
      "_model_module": "@jupyter-widgets/base",
      "_model_module_version": "1.2.0",
      "_model_name": "LayoutModel",
      "_view_count": null,
      "_view_module": "@jupyter-widgets/base",
      "_view_module_version": "1.2.0",
      "_view_name": "LayoutView",
      "align_content": null,
      "align_items": null,
      "align_self": null,
      "border": null,
      "bottom": null,
      "display": null,
      "flex": null,
      "flex_flow": null,
      "grid_area": null,
      "grid_auto_columns": null,
      "grid_auto_flow": null,
      "grid_auto_rows": null,
      "grid_column": null,
      "grid_gap": null,
      "grid_row": null,
      "grid_template_areas": null,
      "grid_template_columns": null,
      "grid_template_rows": null,
      "height": null,
      "justify_content": null,
      "justify_items": null,
      "left": null,
      "margin": null,
      "max_height": null,
      "max_width": null,
      "min_height": null,
      "min_width": null,
      "object_fit": null,
      "object_position": null,
      "order": null,
      "overflow": null,
      "overflow_x": null,
      "overflow_y": null,
      "padding": null,
      "right": null,
      "top": null,
      "visibility": null,
      "width": null
     }
    },
    "4f13ef5dbfa74145986fcf1ea5f4cb26": {
     "model_module": "@jupyter-widgets/controls",
     "model_module_version": "1.5.0",
     "model_name": "HBoxModel",
     "state": {
      "_dom_classes": [],
      "_model_module": "@jupyter-widgets/controls",
      "_model_module_version": "1.5.0",
      "_model_name": "HBoxModel",
      "_view_count": null,
      "_view_module": "@jupyter-widgets/controls",
      "_view_module_version": "1.5.0",
      "_view_name": "HBoxView",
      "box_style": "",
      "children": [
       "IPY_MODEL_5a59c039682a4eb2b9ebba2edfe6bdf7",
       "IPY_MODEL_b2b9f161045a408fbd7b6c16ed5ceb36",
       "IPY_MODEL_2478aee5e88b432599c67890fe2e0e1f"
      ],
      "layout": "IPY_MODEL_27d7263572404a12a47b8d8077de777a"
     }
    },
    "5a59c039682a4eb2b9ebba2edfe6bdf7": {
     "model_module": "@jupyter-widgets/controls",
     "model_module_version": "1.5.0",
     "model_name": "HTMLModel",
     "state": {
      "_dom_classes": [],
      "_model_module": "@jupyter-widgets/controls",
      "_model_module_version": "1.5.0",
      "_model_name": "HTMLModel",
      "_view_count": null,
      "_view_module": "@jupyter-widgets/controls",
      "_view_module_version": "1.5.0",
      "_view_name": "HTMLView",
      "description": "",
      "description_tooltip": null,
      "layout": "IPY_MODEL_92c7c28423334b0da85374ac1926d579",
      "placeholder": "​",
      "style": "IPY_MODEL_8da5abf73f054f54a9d951b831a9e9f9",
      "value": "vocab.txt: "
     }
    },
    "5dae349660704cdb98c6b7df770ab316": {
     "model_module": "@jupyter-widgets/controls",
     "model_module_version": "1.5.0",
     "model_name": "FloatProgressModel",
     "state": {
      "_dom_classes": [],
      "_model_module": "@jupyter-widgets/controls",
      "_model_module_version": "1.5.0",
      "_model_name": "FloatProgressModel",
      "_view_count": null,
      "_view_module": "@jupyter-widgets/controls",
      "_view_module_version": "1.5.0",
      "_view_name": "ProgressView",
      "bar_style": "success",
      "description": "",
      "description_tooltip": null,
      "layout": "IPY_MODEL_b50fd0b007594f30b9ed37500034ea3d",
      "max": 1,
      "min": 0,
      "orientation": "horizontal",
      "style": "IPY_MODEL_35ca1c0ba5a34aa98e08ef08dfffe2df",
      "value": 1
     }
    },
    "61e5e25356bd407c84603e04cdafc1e9": {
     "model_module": "@jupyter-widgets/base",
     "model_module_version": "1.2.0",
     "model_name": "LayoutModel",
     "state": {
      "_model_module": "@jupyter-widgets/base",
      "_model_module_version": "1.2.0",
      "_model_name": "LayoutModel",
      "_view_count": null,
      "_view_module": "@jupyter-widgets/base",
      "_view_module_version": "1.2.0",
      "_view_name": "LayoutView",
      "align_content": null,
      "align_items": null,
      "align_self": null,
      "border": null,
      "bottom": null,
      "display": null,
      "flex": null,
      "flex_flow": null,
      "grid_area": null,
      "grid_auto_columns": null,
      "grid_auto_flow": null,
      "grid_auto_rows": null,
      "grid_column": null,
      "grid_gap": null,
      "grid_row": null,
      "grid_template_areas": null,
      "grid_template_columns": null,
      "grid_template_rows": null,
      "height": null,
      "justify_content": null,
      "justify_items": null,
      "left": null,
      "margin": null,
      "max_height": null,
      "max_width": null,
      "min_height": null,
      "min_width": null,
      "object_fit": null,
      "object_position": null,
      "order": null,
      "overflow": null,
      "overflow_x": null,
      "overflow_y": null,
      "padding": null,
      "right": null,
      "top": null,
      "visibility": null,
      "width": null
     }
    },
    "65f0c470f6f64481890503330b27c5d3": {
     "model_module": "@jupyter-widgets/controls",
     "model_module_version": "1.5.0",
     "model_name": "FloatProgressModel",
     "state": {
      "_dom_classes": [],
      "_model_module": "@jupyter-widgets/controls",
      "_model_module_version": "1.5.0",
      "_model_name": "FloatProgressModel",
      "_view_count": null,
      "_view_module": "@jupyter-widgets/controls",
      "_view_module_version": "1.5.0",
      "_view_name": "ProgressView",
      "bar_style": "success",
      "description": "",
      "description_tooltip": null,
      "layout": "IPY_MODEL_4bfdc0ce7b2945dcb42942bf5f5a8560",
      "max": 540072433,
      "min": 0,
      "orientation": "horizontal",
      "style": "IPY_MODEL_87aaeb5f3be54cef81396f33af2e336a",
      "value": 540072433
     }
    },
    "6e821debd45f4404a4d6d776fab7df5b": {
     "model_module": "@jupyter-widgets/controls",
     "model_module_version": "1.5.0",
     "model_name": "HBoxModel",
     "state": {
      "_dom_classes": [],
      "_model_module": "@jupyter-widgets/controls",
      "_model_module_version": "1.5.0",
      "_model_name": "HBoxModel",
      "_view_count": null,
      "_view_module": "@jupyter-widgets/controls",
      "_view_module_version": "1.5.0",
      "_view_name": "HBoxView",
      "box_style": "",
      "children": [
       "IPY_MODEL_2151ceff1a034078b4452f08d8ff0096",
       "IPY_MODEL_5dae349660704cdb98c6b7df770ab316",
       "IPY_MODEL_7f797608c49f48e29b3e82ee99838dec"
      ],
      "layout": "IPY_MODEL_a0a761c48e014f93a46eca35c26f7002"
     }
    },
    "7274f404f4434d98bf5a7aff068853de": {
     "model_module": "@jupyter-widgets/base",
     "model_module_version": "1.2.0",
     "model_name": "LayoutModel",
     "state": {
      "_model_module": "@jupyter-widgets/base",
      "_model_module_version": "1.2.0",
      "_model_name": "LayoutModel",
      "_view_count": null,
      "_view_module": "@jupyter-widgets/base",
      "_view_module_version": "1.2.0",
      "_view_name": "LayoutView",
      "align_content": null,
      "align_items": null,
      "align_self": null,
      "border": null,
      "bottom": null,
      "display": null,
      "flex": null,
      "flex_flow": null,
      "grid_area": null,
      "grid_auto_columns": null,
      "grid_auto_flow": null,
      "grid_auto_rows": null,
      "grid_column": null,
      "grid_gap": null,
      "grid_row": null,
      "grid_template_areas": null,
      "grid_template_columns": null,
      "grid_template_rows": null,
      "height": null,
      "justify_content": null,
      "justify_items": null,
      "left": null,
      "margin": null,
      "max_height": null,
      "max_width": null,
      "min_height": null,
      "min_width": null,
      "object_fit": null,
      "object_position": null,
      "order": null,
      "overflow": null,
      "overflow_x": null,
      "overflow_y": null,
      "padding": null,
      "right": null,
      "top": null,
      "visibility": null,
      "width": null
     }
    },
    "757e397868ab4fd2bba029806b191466": {
     "model_module": "@jupyter-widgets/base",
     "model_module_version": "1.2.0",
     "model_name": "LayoutModel",
     "state": {
      "_model_module": "@jupyter-widgets/base",
      "_model_module_version": "1.2.0",
      "_model_name": "LayoutModel",
      "_view_count": null,
      "_view_module": "@jupyter-widgets/base",
      "_view_module_version": "1.2.0",
      "_view_name": "LayoutView",
      "align_content": null,
      "align_items": null,
      "align_self": null,
      "border": null,
      "bottom": null,
      "display": null,
      "flex": null,
      "flex_flow": null,
      "grid_area": null,
      "grid_auto_columns": null,
      "grid_auto_flow": null,
      "grid_auto_rows": null,
      "grid_column": null,
      "grid_gap": null,
      "grid_row": null,
      "grid_template_areas": null,
      "grid_template_columns": null,
      "grid_template_rows": null,
      "height": null,
      "justify_content": null,
      "justify_items": null,
      "left": null,
      "margin": null,
      "max_height": null,
      "max_width": null,
      "min_height": null,
      "min_width": null,
      "object_fit": null,
      "object_position": null,
      "order": null,
      "overflow": null,
      "overflow_x": null,
      "overflow_y": null,
      "padding": null,
      "right": null,
      "top": null,
      "visibility": null,
      "width": null
     }
    },
    "7a187bafc7534541aadadb40e33f0e49": {
     "model_module": "@jupyter-widgets/base",
     "model_module_version": "1.2.0",
     "model_name": "LayoutModel",
     "state": {
      "_model_module": "@jupyter-widgets/base",
      "_model_module_version": "1.2.0",
      "_model_name": "LayoutModel",
      "_view_count": null,
      "_view_module": "@jupyter-widgets/base",
      "_view_module_version": "1.2.0",
      "_view_name": "LayoutView",
      "align_content": null,
      "align_items": null,
      "align_self": null,
      "border": null,
      "bottom": null,
      "display": null,
      "flex": null,
      "flex_flow": null,
      "grid_area": null,
      "grid_auto_columns": null,
      "grid_auto_flow": null,
      "grid_auto_rows": null,
      "grid_column": null,
      "grid_gap": null,
      "grid_row": null,
      "grid_template_areas": null,
      "grid_template_columns": null,
      "grid_template_rows": null,
      "height": null,
      "justify_content": null,
      "justify_items": null,
      "left": null,
      "margin": null,
      "max_height": null,
      "max_width": null,
      "min_height": null,
      "min_width": null,
      "object_fit": null,
      "object_position": null,
      "order": null,
      "overflow": null,
      "overflow_x": null,
      "overflow_y": null,
      "padding": null,
      "right": null,
      "top": null,
      "visibility": null,
      "width": null
     }
    },
    "7f4b78c9512243e295189570c6501bdf": {
     "model_module": "@jupyter-widgets/base",
     "model_module_version": "1.2.0",
     "model_name": "LayoutModel",
     "state": {
      "_model_module": "@jupyter-widgets/base",
      "_model_module_version": "1.2.0",
      "_model_name": "LayoutModel",
      "_view_count": null,
      "_view_module": "@jupyter-widgets/base",
      "_view_module_version": "1.2.0",
      "_view_name": "LayoutView",
      "align_content": null,
      "align_items": null,
      "align_self": null,
      "border": null,
      "bottom": null,
      "display": null,
      "flex": null,
      "flex_flow": null,
      "grid_area": null,
      "grid_auto_columns": null,
      "grid_auto_flow": null,
      "grid_auto_rows": null,
      "grid_column": null,
      "grid_gap": null,
      "grid_row": null,
      "grid_template_areas": null,
      "grid_template_columns": null,
      "grid_template_rows": null,
      "height": null,
      "justify_content": null,
      "justify_items": null,
      "left": null,
      "margin": null,
      "max_height": null,
      "max_width": null,
      "min_height": null,
      "min_width": null,
      "object_fit": null,
      "object_position": null,
      "order": null,
      "overflow": null,
      "overflow_x": null,
      "overflow_y": null,
      "padding": null,
      "right": null,
      "top": null,
      "visibility": null,
      "width": null
     }
    },
    "7f797608c49f48e29b3e82ee99838dec": {
     "model_module": "@jupyter-widgets/controls",
     "model_module_version": "1.5.0",
     "model_name": "HTMLModel",
     "state": {
      "_dom_classes": [],
      "_model_module": "@jupyter-widgets/controls",
      "_model_module_version": "1.5.0",
      "_model_name": "HTMLModel",
      "_view_count": null,
      "_view_module": "@jupyter-widgets/controls",
      "_view_module_version": "1.5.0",
      "_view_name": "HTMLView",
      "description": "",
      "description_tooltip": null,
      "layout": "IPY_MODEL_c6dbf1de3962406083dd10cb5c13109a",
      "placeholder": "​",
      "style": "IPY_MODEL_464ec41afac64da193121fcd4bdf3257",
      "value": " 1.14M/? [00:00&lt;00:00, 48.0MB/s]"
     }
    },
    "86812e7a0d36416c949c4048fbe4f88c": {
     "model_module": "@jupyter-widgets/controls",
     "model_module_version": "1.5.0",
     "model_name": "DescriptionStyleModel",
     "state": {
      "_model_module": "@jupyter-widgets/controls",
      "_model_module_version": "1.5.0",
      "_model_name": "DescriptionStyleModel",
      "_view_count": null,
      "_view_module": "@jupyter-widgets/base",
      "_view_module_version": "1.2.0",
      "_view_name": "StyleView",
      "description_width": ""
     }
    },
    "87aaeb5f3be54cef81396f33af2e336a": {
     "model_module": "@jupyter-widgets/controls",
     "model_module_version": "1.5.0",
     "model_name": "ProgressStyleModel",
     "state": {
      "_model_module": "@jupyter-widgets/controls",
      "_model_module_version": "1.5.0",
      "_model_name": "ProgressStyleModel",
      "_view_count": null,
      "_view_module": "@jupyter-widgets/base",
      "_view_module_version": "1.2.0",
      "_view_name": "StyleView",
      "bar_color": null,
      "description_width": ""
     }
    },
    "8da5abf73f054f54a9d951b831a9e9f9": {
     "model_module": "@jupyter-widgets/controls",
     "model_module_version": "1.5.0",
     "model_name": "DescriptionStyleModel",
     "state": {
      "_model_module": "@jupyter-widgets/controls",
      "_model_module_version": "1.5.0",
      "_model_name": "DescriptionStyleModel",
      "_view_count": null,
      "_view_module": "@jupyter-widgets/base",
      "_view_module_version": "1.2.0",
      "_view_name": "StyleView",
      "description_width": ""
     }
    },
    "92c7c28423334b0da85374ac1926d579": {
     "model_module": "@jupyter-widgets/base",
     "model_module_version": "1.2.0",
     "model_name": "LayoutModel",
     "state": {
      "_model_module": "@jupyter-widgets/base",
      "_model_module_version": "1.2.0",
      "_model_name": "LayoutModel",
      "_view_count": null,
      "_view_module": "@jupyter-widgets/base",
      "_view_module_version": "1.2.0",
      "_view_name": "LayoutView",
      "align_content": null,
      "align_items": null,
      "align_self": null,
      "border": null,
      "bottom": null,
      "display": null,
      "flex": null,
      "flex_flow": null,
      "grid_area": null,
      "grid_auto_columns": null,
      "grid_auto_flow": null,
      "grid_auto_rows": null,
      "grid_column": null,
      "grid_gap": null,
      "grid_row": null,
      "grid_template_areas": null,
      "grid_template_columns": null,
      "grid_template_rows": null,
      "height": null,
      "justify_content": null,
      "justify_items": null,
      "left": null,
      "margin": null,
      "max_height": null,
      "max_width": null,
      "min_height": null,
      "min_width": null,
      "object_fit": null,
      "object_position": null,
      "order": null,
      "overflow": null,
      "overflow_x": null,
      "overflow_y": null,
      "padding": null,
      "right": null,
      "top": null,
      "visibility": null,
      "width": null
     }
    },
    "9925ad3b893b4e719995a71dae8c0e1c": {
     "model_module": "@jupyter-widgets/base",
     "model_module_version": "1.2.0",
     "model_name": "LayoutModel",
     "state": {
      "_model_module": "@jupyter-widgets/base",
      "_model_module_version": "1.2.0",
      "_model_name": "LayoutModel",
      "_view_count": null,
      "_view_module": "@jupyter-widgets/base",
      "_view_module_version": "1.2.0",
      "_view_name": "LayoutView",
      "align_content": null,
      "align_items": null,
      "align_self": null,
      "border": null,
      "bottom": null,
      "display": null,
      "flex": null,
      "flex_flow": null,
      "grid_area": null,
      "grid_auto_columns": null,
      "grid_auto_flow": null,
      "grid_auto_rows": null,
      "grid_column": null,
      "grid_gap": null,
      "grid_row": null,
      "grid_template_areas": null,
      "grid_template_columns": null,
      "grid_template_rows": null,
      "height": null,
      "justify_content": null,
      "justify_items": null,
      "left": null,
      "margin": null,
      "max_height": null,
      "max_width": null,
      "min_height": null,
      "min_width": null,
      "object_fit": null,
      "object_position": null,
      "order": null,
      "overflow": null,
      "overflow_x": null,
      "overflow_y": null,
      "padding": null,
      "right": null,
      "top": null,
      "visibility": null,
      "width": null
     }
    },
    "a0a761c48e014f93a46eca35c26f7002": {
     "model_module": "@jupyter-widgets/base",
     "model_module_version": "1.2.0",
     "model_name": "LayoutModel",
     "state": {
      "_model_module": "@jupyter-widgets/base",
      "_model_module_version": "1.2.0",
      "_model_name": "LayoutModel",
      "_view_count": null,
      "_view_module": "@jupyter-widgets/base",
      "_view_module_version": "1.2.0",
      "_view_name": "LayoutView",
      "align_content": null,
      "align_items": null,
      "align_self": null,
      "border": null,
      "bottom": null,
      "display": null,
      "flex": null,
      "flex_flow": null,
      "grid_area": null,
      "grid_auto_columns": null,
      "grid_auto_flow": null,
      "grid_auto_rows": null,
      "grid_column": null,
      "grid_gap": null,
      "grid_row": null,
      "grid_template_areas": null,
      "grid_template_columns": null,
      "grid_template_rows": null,
      "height": null,
      "justify_content": null,
      "justify_items": null,
      "left": null,
      "margin": null,
      "max_height": null,
      "max_width": null,
      "min_height": null,
      "min_width": null,
      "object_fit": null,
      "object_position": null,
      "order": null,
      "overflow": null,
      "overflow_x": null,
      "overflow_y": null,
      "padding": null,
      "right": null,
      "top": null,
      "visibility": null,
      "width": null
     }
    },
    "a52a8daba5c0436c946cdeff37c4569b": {
     "model_module": "@jupyter-widgets/controls",
     "model_module_version": "1.5.0",
     "model_name": "HTMLModel",
     "state": {
      "_dom_classes": [],
      "_model_module": "@jupyter-widgets/controls",
      "_model_module_version": "1.5.0",
      "_model_name": "HTMLModel",
      "_view_count": null,
      "_view_module": "@jupyter-widgets/controls",
      "_view_module_version": "1.5.0",
      "_view_name": "HTMLView",
      "description": "",
      "description_tooltip": null,
      "layout": "IPY_MODEL_61e5e25356bd407c84603e04cdafc1e9",
      "placeholder": "​",
      "style": "IPY_MODEL_1e688ae42de8420983dd962e01099963",
      "value": "pytorch_model.bin: 100%"
     }
    },
    "ade717f077bd4e14a9bfbf9a70a046e9": {
     "model_module": "@jupyter-widgets/controls",
     "model_module_version": "1.5.0",
     "model_name": "ProgressStyleModel",
     "state": {
      "_model_module": "@jupyter-widgets/controls",
      "_model_module_version": "1.5.0",
      "_model_name": "ProgressStyleModel",
      "_view_count": null,
      "_view_module": "@jupyter-widgets/base",
      "_view_module_version": "1.2.0",
      "_view_name": "StyleView",
      "bar_color": null,
      "description_width": ""
     }
    },
    "b2b9f161045a408fbd7b6c16ed5ceb36": {
     "model_module": "@jupyter-widgets/controls",
     "model_module_version": "1.5.0",
     "model_name": "FloatProgressModel",
     "state": {
      "_dom_classes": [],
      "_model_module": "@jupyter-widgets/controls",
      "_model_module_version": "1.5.0",
      "_model_name": "FloatProgressModel",
      "_view_count": null,
      "_view_module": "@jupyter-widgets/controls",
      "_view_module_version": "1.5.0",
      "_view_name": "ProgressView",
      "bar_style": "success",
      "description": "",
      "description_tooltip": null,
      "layout": "IPY_MODEL_0f2f9b6da5be4ddbab06c591766052f9",
      "max": 1,
      "min": 0,
      "orientation": "horizontal",
      "style": "IPY_MODEL_ade717f077bd4e14a9bfbf9a70a046e9",
      "value": 1
     }
    },
    "b50fd0b007594f30b9ed37500034ea3d": {
     "model_module": "@jupyter-widgets/base",
     "model_module_version": "1.2.0",
     "model_name": "LayoutModel",
     "state": {
      "_model_module": "@jupyter-widgets/base",
      "_model_module_version": "1.2.0",
      "_model_name": "LayoutModel",
      "_view_count": null,
      "_view_module": "@jupyter-widgets/base",
      "_view_module_version": "1.2.0",
      "_view_name": "LayoutView",
      "align_content": null,
      "align_items": null,
      "align_self": null,
      "border": null,
      "bottom": null,
      "display": null,
      "flex": null,
      "flex_flow": null,
      "grid_area": null,
      "grid_auto_columns": null,
      "grid_auto_flow": null,
      "grid_auto_rows": null,
      "grid_column": null,
      "grid_gap": null,
      "grid_row": null,
      "grid_template_areas": null,
      "grid_template_columns": null,
      "grid_template_rows": null,
      "height": null,
      "justify_content": null,
      "justify_items": null,
      "left": null,
      "margin": null,
      "max_height": null,
      "max_width": null,
      "min_height": null,
      "min_width": null,
      "object_fit": null,
      "object_position": null,
      "order": null,
      "overflow": null,
      "overflow_x": null,
      "overflow_y": null,
      "padding": null,
      "right": null,
      "top": null,
      "visibility": null,
      "width": "20px"
     }
    },
    "b8f8c8c992f04811a5e60a6e2fdf93ba": {
     "model_module": "@jupyter-widgets/controls",
     "model_module_version": "1.5.0",
     "model_name": "DescriptionStyleModel",
     "state": {
      "_model_module": "@jupyter-widgets/controls",
      "_model_module_version": "1.5.0",
      "_model_name": "DescriptionStyleModel",
      "_view_count": null,
      "_view_module": "@jupyter-widgets/base",
      "_view_module_version": "1.2.0",
      "_view_name": "StyleView",
      "description_width": ""
     }
    },
    "c6dbf1de3962406083dd10cb5c13109a": {
     "model_module": "@jupyter-widgets/base",
     "model_module_version": "1.2.0",
     "model_name": "LayoutModel",
     "state": {
      "_model_module": "@jupyter-widgets/base",
      "_model_module_version": "1.2.0",
      "_model_name": "LayoutModel",
      "_view_count": null,
      "_view_module": "@jupyter-widgets/base",
      "_view_module_version": "1.2.0",
      "_view_name": "LayoutView",
      "align_content": null,
      "align_items": null,
      "align_self": null,
      "border": null,
      "bottom": null,
      "display": null,
      "flex": null,
      "flex_flow": null,
      "grid_area": null,
      "grid_auto_columns": null,
      "grid_auto_flow": null,
      "grid_auto_rows": null,
      "grid_column": null,
      "grid_gap": null,
      "grid_row": null,
      "grid_template_areas": null,
      "grid_template_columns": null,
      "grid_template_rows": null,
      "height": null,
      "justify_content": null,
      "justify_items": null,
      "left": null,
      "margin": null,
      "max_height": null,
      "max_width": null,
      "min_height": null,
      "min_width": null,
      "object_fit": null,
      "object_position": null,
      "order": null,
      "overflow": null,
      "overflow_x": null,
      "overflow_y": null,
      "padding": null,
      "right": null,
      "top": null,
      "visibility": null,
      "width": null
     }
    },
    "c751edc0c2e3443cb122340fba52c227": {
     "model_module": "@jupyter-widgets/controls",
     "model_module_version": "1.5.0",
     "model_name": "DescriptionStyleModel",
     "state": {
      "_model_module": "@jupyter-widgets/controls",
      "_model_module_version": "1.5.0",
      "_model_name": "DescriptionStyleModel",
      "_view_count": null,
      "_view_module": "@jupyter-widgets/base",
      "_view_module_version": "1.2.0",
      "_view_name": "StyleView",
      "description_width": ""
     }
    },
    "e0c6db50289143a495dbb9c34b40024b": {
     "model_module": "@jupyter-widgets/base",
     "model_module_version": "1.2.0",
     "model_name": "LayoutModel",
     "state": {
      "_model_module": "@jupyter-widgets/base",
      "_model_module_version": "1.2.0",
      "_model_name": "LayoutModel",
      "_view_count": null,
      "_view_module": "@jupyter-widgets/base",
      "_view_module_version": "1.2.0",
      "_view_name": "LayoutView",
      "align_content": null,
      "align_items": null,
      "align_self": null,
      "border": null,
      "bottom": null,
      "display": null,
      "flex": null,
      "flex_flow": null,
      "grid_area": null,
      "grid_auto_columns": null,
      "grid_auto_flow": null,
      "grid_auto_rows": null,
      "grid_column": null,
      "grid_gap": null,
      "grid_row": null,
      "grid_template_areas": null,
      "grid_template_columns": null,
      "grid_template_rows": null,
      "height": null,
      "justify_content": null,
      "justify_items": null,
      "left": null,
      "margin": null,
      "max_height": null,
      "max_width": null,
      "min_height": null,
      "min_width": null,
      "object_fit": null,
      "object_position": null,
      "order": null,
      "overflow": null,
      "overflow_x": null,
      "overflow_y": null,
      "padding": null,
      "right": null,
      "top": null,
      "visibility": null,
      "width": null
     }
    },
    "e46011f50cd945bb9c9b2fb2b845d3b1": {
     "model_module": "@jupyter-widgets/controls",
     "model_module_version": "1.5.0",
     "model_name": "HTMLModel",
     "state": {
      "_dom_classes": [],
      "_model_module": "@jupyter-widgets/controls",
      "_model_module_version": "1.5.0",
      "_model_name": "HTMLModel",
      "_view_count": null,
      "_view_module": "@jupyter-widgets/controls",
      "_view_module_version": "1.5.0",
      "_view_name": "HTMLView",
      "description": "",
      "description_tooltip": null,
      "layout": "IPY_MODEL_7274f404f4434d98bf5a7aff068853de",
      "placeholder": "​",
      "style": "IPY_MODEL_b8f8c8c992f04811a5e60a6e2fdf93ba",
      "value": "config.json: 100%"
     }
    },
    "e7a18540780a476489b647775bf54520": {
     "model_module": "@jupyter-widgets/controls",
     "model_module_version": "1.5.0",
     "model_name": "DescriptionStyleModel",
     "state": {
      "_model_module": "@jupyter-widgets/controls",
      "_model_module_version": "1.5.0",
      "_model_name": "DescriptionStyleModel",
      "_view_count": null,
      "_view_module": "@jupyter-widgets/base",
      "_view_module_version": "1.2.0",
      "_view_name": "StyleView",
      "description_width": ""
     }
    }
   }
  }
 },
 "nbformat": 4,
 "nbformat_minor": 0
}
